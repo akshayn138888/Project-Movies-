{
 "cells": [
  {
   "cell_type": "code",
   "execution_count": 1,
   "metadata": {},
   "outputs": [],
   "source": [
    "import numpy as np\n",
    "import pandas as pd\n",
    "import nltk "
   ]
  },
  {
   "cell_type": "code",
   "execution_count": 2,
   "metadata": {},
   "outputs": [],
   "source": [
    "genres = pd.read_json('genres.json.gz', orient='record', lines=True)\n",
    "\n",
    "wiki_movies = pd.read_json('wikidata-movies.json.gz', orient='record', lines=True)\n",
    "rt = pd.read_json('rotten-tomatoes.json.gz', orient='record', lines=True)\n",
    "omdb= pd.read_json('omdb-data.json.gz', orient='record', lines=True)\n"
   ]
  },
  {
   "cell_type": "code",
   "execution_count": 3,
   "metadata": {},
   "outputs": [],
   "source": [
    "#wiki_movies[wiki_movies['original_language'] == 'Q1568' ]\n",
    "#rt\n",
    "#omdb"
   ]
  },
  {
   "cell_type": "markdown",
   "metadata": {},
   "source": [
    "## Country of Origin Stats"
   ]
  },
  {
   "cell_type": "code",
   "execution_count": 4,
   "metadata": {},
   "outputs": [],
   "source": [
    "wiki = wiki_movies.filter(items=['original_language', 'enwiki_title'])\n",
    "wiki1 = wiki.groupby('original_language').count()\n",
    "wiki1 = wiki1.sort_values(by=['enwiki_title'])\n",
    "wiki1=wiki1.reset_index()"
   ]
  },
  {
   "cell_type": "code",
   "execution_count": 5,
   "metadata": {},
   "outputs": [
    {
     "data": {
      "text/html": [
       "<div>\n",
       "<style scoped>\n",
       "    .dataframe tbody tr th:only-of-type {\n",
       "        vertical-align: middle;\n",
       "    }\n",
       "\n",
       "    .dataframe tbody tr th {\n",
       "        vertical-align: top;\n",
       "    }\n",
       "\n",
       "    .dataframe thead th {\n",
       "        text-align: right;\n",
       "    }\n",
       "</style>\n",
       "<table border=\"1\" class=\"dataframe\">\n",
       "  <thead>\n",
       "    <tr style=\"text-align: right;\">\n",
       "      <th></th>\n",
       "      <th>index</th>\n",
       "      <th>original_language</th>\n",
       "      <th>enwiki_title</th>\n",
       "      <th>percent</th>\n",
       "    </tr>\n",
       "  </thead>\n",
       "  <tbody>\n",
       "    <tr>\n",
       "      <th>0</th>\n",
       "      <td>156</td>\n",
       "      <td>Q1860</td>\n",
       "      <td>26228</td>\n",
       "      <td>66.495956</td>\n",
       "    </tr>\n",
       "    <tr>\n",
       "      <th>1</th>\n",
       "      <td>155</td>\n",
       "      <td>Q150</td>\n",
       "      <td>2475</td>\n",
       "      <td>6.274878</td>\n",
       "    </tr>\n",
       "    <tr>\n",
       "      <th>2</th>\n",
       "      <td>154</td>\n",
       "      <td>Q652</td>\n",
       "      <td>1338</td>\n",
       "      <td>3.392237</td>\n",
       "    </tr>\n",
       "    <tr>\n",
       "      <th>3</th>\n",
       "      <td>153</td>\n",
       "      <td>Q188</td>\n",
       "      <td>1187</td>\n",
       "      <td>3.009406</td>\n",
       "    </tr>\n",
       "    <tr>\n",
       "      <th>4</th>\n",
       "      <td>152</td>\n",
       "      <td>Q1321</td>\n",
       "      <td>1163</td>\n",
       "      <td>2.948559</td>\n",
       "    </tr>\n",
       "    <tr>\n",
       "      <th>5</th>\n",
       "      <td>151</td>\n",
       "      <td>Q5287</td>\n",
       "      <td>1059</td>\n",
       "      <td>2.684887</td>\n",
       "    </tr>\n",
       "    <tr>\n",
       "      <th>6</th>\n",
       "      <td>150</td>\n",
       "      <td>Q1568</td>\n",
       "      <td>920</td>\n",
       "      <td>2.332480</td>\n",
       "    </tr>\n",
       "    <tr>\n",
       "      <th>7</th>\n",
       "      <td>149</td>\n",
       "      <td>Q9186</td>\n",
       "      <td>630</td>\n",
       "      <td>1.597242</td>\n",
       "    </tr>\n",
       "    <tr>\n",
       "      <th>8</th>\n",
       "      <td>148</td>\n",
       "      <td>Q9176</td>\n",
       "      <td>517</td>\n",
       "      <td>1.310752</td>\n",
       "    </tr>\n",
       "    <tr>\n",
       "      <th>9</th>\n",
       "      <td>147</td>\n",
       "      <td>Q7737</td>\n",
       "      <td>505</td>\n",
       "      <td>1.280329</td>\n",
       "    </tr>\n",
       "  </tbody>\n",
       "</table>\n",
       "</div>"
      ],
      "text/plain": [
       "   index original_language  enwiki_title    percent\n",
       "0    156             Q1860         26228  66.495956\n",
       "1    155              Q150          2475   6.274878\n",
       "2    154              Q652          1338   3.392237\n",
       "3    153              Q188          1187   3.009406\n",
       "4    152             Q1321          1163   2.948559\n",
       "5    151             Q5287          1059   2.684887\n",
       "6    150             Q1568           920   2.332480\n",
       "7    149             Q9186           630   1.597242\n",
       "8    148             Q9176           517   1.310752\n",
       "9    147             Q7737           505   1.280329"
      ]
     },
     "execution_count": 5,
     "metadata": {},
     "output_type": "execute_result"
    }
   ],
   "source": [
    "#import matplotlib.pyplot as plt\n",
    "#plt.hist(wiki1['original_language'].values)\n",
    "#plt.show()\n",
    "import seaborn as sns\n",
    "sns.set()\n",
    "summ =  wiki1['enwiki_title'].sum()\n",
    "\n",
    "def calc(row):\n",
    "    return row['enwiki_title']/summ * 100\n",
    "\n",
    "wiki1['percent']=wiki1.apply(func=calc,axis=1)\n",
    "wiki_bylanguage = wiki1.sort_values(by='percent',ascending=False).reset_index()\n",
    "wiki_bylanguage[:10]"
   ]
  },
  {
   "cell_type": "markdown",
   "metadata": {},
   "source": [
    "## Season of each movie"
   ]
  },
  {
   "cell_type": "code",
   "execution_count": 6,
   "metadata": {},
   "outputs": [
    {
     "data": {
      "text/html": [
       "<div>\n",
       "<style scoped>\n",
       "    .dataframe tbody tr th:only-of-type {\n",
       "        vertical-align: middle;\n",
       "    }\n",
       "\n",
       "    .dataframe tbody tr th {\n",
       "        vertical-align: top;\n",
       "    }\n",
       "\n",
       "    .dataframe thead th {\n",
       "        text-align: right;\n",
       "    }\n",
       "</style>\n",
       "<table border=\"1\" class=\"dataframe\">\n",
       "  <thead>\n",
       "    <tr style=\"text-align: right;\">\n",
       "      <th></th>\n",
       "      <th>audience_average</th>\n",
       "      <th>audience_percent</th>\n",
       "      <th>audience_ratings</th>\n",
       "      <th>critic_average</th>\n",
       "      <th>critic_percent</th>\n",
       "      <th>imdb_id</th>\n",
       "      <th>rotten_tomatoes_id</th>\n",
       "    </tr>\n",
       "  </thead>\n",
       "  <tbody>\n",
       "    <tr>\n",
       "      <th>0</th>\n",
       "      <td>3.9</td>\n",
       "      <td>86.0</td>\n",
       "      <td>33125227.0</td>\n",
       "      <td>7.1</td>\n",
       "      <td>79.0</td>\n",
       "      <td>tt0325980</td>\n",
       "      <td>m/pirates_of_the_caribbean_the_curse_of_the_bl...</td>\n",
       "    </tr>\n",
       "    <tr>\n",
       "      <th>1</th>\n",
       "      <td>4.1</td>\n",
       "      <td>80.0</td>\n",
       "      <td>2139.0</td>\n",
       "      <td>7.8</td>\n",
       "      <td>88.0</td>\n",
       "      <td>tt4882376</td>\n",
       "      <td>m/first_they_killed_my_father_a_daughter_of_ca...</td>\n",
       "    </tr>\n",
       "    <tr>\n",
       "      <th>2</th>\n",
       "      <td>3.6</td>\n",
       "      <td>71.0</td>\n",
       "      <td>11482.0</td>\n",
       "      <td>7.6</td>\n",
       "      <td>86.0</td>\n",
       "      <td>tt0099763</td>\n",
       "      <td>m/henry_portrait_of_a_serial_killer</td>\n",
       "    </tr>\n",
       "    <tr>\n",
       "      <th>3</th>\n",
       "      <td>3.6</td>\n",
       "      <td>66.0</td>\n",
       "      <td>187204.0</td>\n",
       "      <td>6.6</td>\n",
       "      <td>66.0</td>\n",
       "      <td>tt1371111</td>\n",
       "      <td>m/cloud_atlas_2012</td>\n",
       "    </tr>\n",
       "    <tr>\n",
       "      <th>4</th>\n",
       "      <td>3.9</td>\n",
       "      <td>84.0</td>\n",
       "      <td>26836.0</td>\n",
       "      <td>7.4</td>\n",
       "      <td>80.0</td>\n",
       "      <td>tt1189073</td>\n",
       "      <td>m/the_skin_i_live_in</td>\n",
       "    </tr>\n",
       "    <tr>\n",
       "      <th>5</th>\n",
       "      <td>3.7</td>\n",
       "      <td>74.0</td>\n",
       "      <td>1498.0</td>\n",
       "      <td>7.0</td>\n",
       "      <td>88.0</td>\n",
       "      <td>tt1787725</td>\n",
       "      <td>m/if_a_tree_falls_a_story_of_the_earth_liberat...</td>\n",
       "    </tr>\n",
       "    <tr>\n",
       "      <th>6</th>\n",
       "      <td>3.6</td>\n",
       "      <td>85.0</td>\n",
       "      <td>92824.0</td>\n",
       "      <td>6.6</td>\n",
       "      <td>73.0</td>\n",
       "      <td>tt0117665</td>\n",
       "      <td>m/1073595-sleepers</td>\n",
       "    </tr>\n",
       "    <tr>\n",
       "      <th>7</th>\n",
       "      <td>3.2</td>\n",
       "      <td>50.0</td>\n",
       "      <td>242347.0</td>\n",
       "      <td>4.9</td>\n",
       "      <td>35.0</td>\n",
       "      <td>tt1611224</td>\n",
       "      <td>m/abraham_lincoln_vampire_hunter</td>\n",
       "    </tr>\n",
       "    <tr>\n",
       "      <th>8</th>\n",
       "      <td>4.0</td>\n",
       "      <td>87.0</td>\n",
       "      <td>427.0</td>\n",
       "      <td>7.4</td>\n",
       "      <td>100.0</td>\n",
       "      <td>tt3966544</td>\n",
       "      <td>m/lost_soul_the_doomed_journey_of_richard_stan...</td>\n",
       "    </tr>\n",
       "    <tr>\n",
       "      <th>9</th>\n",
       "      <td>3.7</td>\n",
       "      <td>74.0</td>\n",
       "      <td>260776.0</td>\n",
       "      <td>7.4</td>\n",
       "      <td>85.0</td>\n",
       "      <td>tt0780521</td>\n",
       "      <td>m/1196003-princess_and_the_frog</td>\n",
       "    </tr>\n",
       "    <tr>\n",
       "      <th>10</th>\n",
       "      <td>3.3</td>\n",
       "      <td>51.0</td>\n",
       "      <td>241740.0</td>\n",
       "      <td>4.3</td>\n",
       "      <td>30.0</td>\n",
       "      <td>tt1855325</td>\n",
       "      <td>m/resident_evil_retribution</td>\n",
       "    </tr>\n",
       "    <tr>\n",
       "      <th>11</th>\n",
       "      <td>3.2</td>\n",
       "      <td>66.0</td>\n",
       "      <td>46826.0</td>\n",
       "      <td>7.3</td>\n",
       "      <td>85.0</td>\n",
       "      <td>tt0115956</td>\n",
       "      <td>m/courage_under_fire</td>\n",
       "    </tr>\n",
       "    <tr>\n",
       "      <th>12</th>\n",
       "      <td>3.4</td>\n",
       "      <td>69.0</td>\n",
       "      <td>23375.0</td>\n",
       "      <td>7.4</td>\n",
       "      <td>90.0</td>\n",
       "      <td>tt0068555</td>\n",
       "      <td>m/everything_you_always_wanted_to_know_about_s...</td>\n",
       "    </tr>\n",
       "    <tr>\n",
       "      <th>13</th>\n",
       "      <td>3.5</td>\n",
       "      <td>54.0</td>\n",
       "      <td>199136.0</td>\n",
       "      <td>5.0</td>\n",
       "      <td>32.0</td>\n",
       "      <td>tt1298650</td>\n",
       "      <td>m/pirates_of_the_caribbean_on_stranger_tides</td>\n",
       "    </tr>\n",
       "    <tr>\n",
       "      <th>14</th>\n",
       "      <td>3.3</td>\n",
       "      <td>57.0</td>\n",
       "      <td>109.0</td>\n",
       "      <td>NaN</td>\n",
       "      <td>NaN</td>\n",
       "      <td>tt0230575</td>\n",
       "      <td>m/night_of_the_day_of_the_dawn_of_the_son_of_t...</td>\n",
       "    </tr>\n",
       "    <tr>\n",
       "      <th>15</th>\n",
       "      <td>3.3</td>\n",
       "      <td>64.0</td>\n",
       "      <td>188527.0</td>\n",
       "      <td>5.5</td>\n",
       "      <td>38.0</td>\n",
       "      <td>tt0328880</td>\n",
       "      <td>m/brother_bear</td>\n",
       "    </tr>\n",
       "    <tr>\n",
       "      <th>16</th>\n",
       "      <td>4.3</td>\n",
       "      <td>92.0</td>\n",
       "      <td>279153.0</td>\n",
       "      <td>7.6</td>\n",
       "      <td>89.0</td>\n",
       "      <td>tt1843866</td>\n",
       "      <td>m/captain_america_the_winter_soldier_2014</td>\n",
       "    </tr>\n",
       "    <tr>\n",
       "      <th>17</th>\n",
       "      <td>3.6</td>\n",
       "      <td>63.0</td>\n",
       "      <td>304.0</td>\n",
       "      <td>7.1</td>\n",
       "      <td>83.0</td>\n",
       "      <td>tt1931549</td>\n",
       "      <td>m/the_man_nobody_knew_in_search_of_my_father_c...</td>\n",
       "    </tr>\n",
       "    <tr>\n",
       "      <th>18</th>\n",
       "      <td>3.2</td>\n",
       "      <td>46.0</td>\n",
       "      <td>480.0</td>\n",
       "      <td>4.9</td>\n",
       "      <td>45.0</td>\n",
       "      <td>tt1979172</td>\n",
       "      <td>m/a_liars_autobiography_the_untrue_story_of_mo...</td>\n",
       "    </tr>\n",
       "    <tr>\n",
       "      <th>19</th>\n",
       "      <td>3.4</td>\n",
       "      <td>80.0</td>\n",
       "      <td>140836.0</td>\n",
       "      <td>7.6</td>\n",
       "      <td>84.0</td>\n",
       "      <td>tt0311113</td>\n",
       "      <td>m/master_and_commander_the_far_side_of_the_world</td>\n",
       "    </tr>\n",
       "    <tr>\n",
       "      <th>20</th>\n",
       "      <td>4.2</td>\n",
       "      <td>89.0</td>\n",
       "      <td>138111.0</td>\n",
       "      <td>7.4</td>\n",
       "      <td>86.0</td>\n",
       "      <td>tt1659337</td>\n",
       "      <td>m/perks_of_being_a_wallflower</td>\n",
       "    </tr>\n",
       "    <tr>\n",
       "      <th>21</th>\n",
       "      <td>3.5</td>\n",
       "      <td>58.0</td>\n",
       "      <td>37565.0</td>\n",
       "      <td>5.7</td>\n",
       "      <td>60.0</td>\n",
       "      <td>tt1698641</td>\n",
       "      <td>m/alexander_and_the_terrible_horrible_no_good_...</td>\n",
       "    </tr>\n",
       "    <tr>\n",
       "      <th>22</th>\n",
       "      <td>3.4</td>\n",
       "      <td>74.0</td>\n",
       "      <td>266365.0</td>\n",
       "      <td>6.2</td>\n",
       "      <td>57.0</td>\n",
       "      <td>tt0396171</td>\n",
       "      <td>m/perfume_the_story_of_a_murderer</td>\n",
       "    </tr>\n",
       "    <tr>\n",
       "      <th>23</th>\n",
       "      <td>2.8</td>\n",
       "      <td>34.0</td>\n",
       "      <td>7246.0</td>\n",
       "      <td>5.0</td>\n",
       "      <td>55.0</td>\n",
       "      <td>tt1659343</td>\n",
       "      <td>m/universal_soldier_day_of_reckoning</td>\n",
       "    </tr>\n",
       "    <tr>\n",
       "      <th>24</th>\n",
       "      <td>3.1</td>\n",
       "      <td>61.0</td>\n",
       "      <td>34104919.0</td>\n",
       "      <td>6.9</td>\n",
       "      <td>76.0</td>\n",
       "      <td>tt0363771</td>\n",
       "      <td>m/chronicles_of_narnia_lion_witch_wardrobe</td>\n",
       "    </tr>\n",
       "    <tr>\n",
       "      <th>25</th>\n",
       "      <td>4.0</td>\n",
       "      <td>93.0</td>\n",
       "      <td>435893.0</td>\n",
       "      <td>8.4</td>\n",
       "      <td>89.0</td>\n",
       "      <td>tt0066921</td>\n",
       "      <td>m/clockwork_orange</td>\n",
       "    </tr>\n",
       "    <tr>\n",
       "      <th>26</th>\n",
       "      <td>3.4</td>\n",
       "      <td>73.0</td>\n",
       "      <td>70542.0</td>\n",
       "      <td>6.0</td>\n",
       "      <td>74.0</td>\n",
       "      <td>tt0105112</td>\n",
       "      <td>m/patriot_games</td>\n",
       "    </tr>\n",
       "    <tr>\n",
       "      <th>27</th>\n",
       "      <td>4.0</td>\n",
       "      <td>91.0</td>\n",
       "      <td>336264.0</td>\n",
       "      <td>8.5</td>\n",
       "      <td>90.0</td>\n",
       "      <td>tt0083658</td>\n",
       "      <td>m/Blade_Runner</td>\n",
       "    </tr>\n",
       "    <tr>\n",
       "      <th>28</th>\n",
       "      <td>3.8</td>\n",
       "      <td>89.0</td>\n",
       "      <td>297648.0</td>\n",
       "      <td>9.2</td>\n",
       "      <td>92.0</td>\n",
       "      <td>tt0062622</td>\n",
       "      <td>m/1000085-2001_a_space_odyssey</td>\n",
       "    </tr>\n",
       "    <tr>\n",
       "      <th>29</th>\n",
       "      <td>3.3</td>\n",
       "      <td>60.0</td>\n",
       "      <td>4949.0</td>\n",
       "      <td>4.7</td>\n",
       "      <td>22.0</td>\n",
       "      <td>tt0409034</td>\n",
       "      <td>m/marilyn_hotchkiss_ballroom_dancing_and_charm...</td>\n",
       "    </tr>\n",
       "    <tr>\n",
       "      <th>...</th>\n",
       "      <td>...</td>\n",
       "      <td>...</td>\n",
       "      <td>...</td>\n",
       "      <td>...</td>\n",
       "      <td>...</td>\n",
       "      <td>...</td>\n",
       "      <td>...</td>\n",
       "    </tr>\n",
       "    <tr>\n",
       "      <th>40200</th>\n",
       "      <td>4.6</td>\n",
       "      <td>100.0</td>\n",
       "      <td>20.0</td>\n",
       "      <td>NaN</td>\n",
       "      <td>NaN</td>\n",
       "      <td>tt3037570</td>\n",
       "      <td>m/alt</td>\n",
       "    </tr>\n",
       "    <tr>\n",
       "      <th>40201</th>\n",
       "      <td>3.2</td>\n",
       "      <td>56.0</td>\n",
       "      <td>1354.0</td>\n",
       "      <td>6.8</td>\n",
       "      <td>100.0</td>\n",
       "      <td>tt0042644</td>\n",
       "      <td>m/kim</td>\n",
       "    </tr>\n",
       "    <tr>\n",
       "      <th>40202</th>\n",
       "      <td>3.3</td>\n",
       "      <td>64.0</td>\n",
       "      <td>290.0</td>\n",
       "      <td>NaN</td>\n",
       "      <td>NaN</td>\n",
       "      <td>tt0116844</td>\n",
       "      <td>m/lea</td>\n",
       "    </tr>\n",
       "    <tr>\n",
       "      <th>40203</th>\n",
       "      <td>NaN</td>\n",
       "      <td>NaN</td>\n",
       "      <td>13.0</td>\n",
       "      <td>NaN</td>\n",
       "      <td>NaN</td>\n",
       "      <td>tt0099890</td>\n",
       "      <td>m/jit</td>\n",
       "    </tr>\n",
       "    <tr>\n",
       "      <th>40204</th>\n",
       "      <td>NaN</td>\n",
       "      <td>NaN</td>\n",
       "      <td>1.0</td>\n",
       "      <td>NaN</td>\n",
       "      <td>NaN</td>\n",
       "      <td>tt0264210</td>\n",
       "      <td>m/zor</td>\n",
       "    </tr>\n",
       "    <tr>\n",
       "      <th>40205</th>\n",
       "      <td>NaN</td>\n",
       "      <td>NaN</td>\n",
       "      <td>2.0</td>\n",
       "      <td>NaN</td>\n",
       "      <td>NaN</td>\n",
       "      <td>tt0340280</td>\n",
       "      <td>m/out</td>\n",
       "    </tr>\n",
       "    <tr>\n",
       "      <th>40206</th>\n",
       "      <td>3.2</td>\n",
       "      <td>40.0</td>\n",
       "      <td>185.0</td>\n",
       "      <td>NaN</td>\n",
       "      <td>NaN</td>\n",
       "      <td>tt0088781</td>\n",
       "      <td>m/beer</td>\n",
       "    </tr>\n",
       "    <tr>\n",
       "      <th>40207</th>\n",
       "      <td>3.8</td>\n",
       "      <td>79.0</td>\n",
       "      <td>366.0</td>\n",
       "      <td>NaN</td>\n",
       "      <td>NaN</td>\n",
       "      <td>tt0150980</td>\n",
       "      <td>m/hanyo</td>\n",
       "    </tr>\n",
       "    <tr>\n",
       "      <th>40208</th>\n",
       "      <td>3.0</td>\n",
       "      <td>52.0</td>\n",
       "      <td>16432.0</td>\n",
       "      <td>4.0</td>\n",
       "      <td>10.0</td>\n",
       "      <td>tt0084809</td>\n",
       "      <td>m/toy</td>\n",
       "    </tr>\n",
       "    <tr>\n",
       "      <th>40209</th>\n",
       "      <td>3.0</td>\n",
       "      <td>62.0</td>\n",
       "      <td>5393.0</td>\n",
       "      <td>3.5</td>\n",
       "      <td>10.0</td>\n",
       "      <td>tt0120531</td>\n",
       "      <td>m/woo</td>\n",
       "    </tr>\n",
       "    <tr>\n",
       "      <th>40210</th>\n",
       "      <td>3.7</td>\n",
       "      <td>60.0</td>\n",
       "      <td>68.0</td>\n",
       "      <td>NaN</td>\n",
       "      <td>NaN</td>\n",
       "      <td>tt0262196</td>\n",
       "      <td>m/19</td>\n",
       "    </tr>\n",
       "    <tr>\n",
       "      <th>40211</th>\n",
       "      <td>3.7</td>\n",
       "      <td>79.0</td>\n",
       "      <td>4304.0</td>\n",
       "      <td>5.8</td>\n",
       "      <td>57.0</td>\n",
       "      <td>tt0250638</td>\n",
       "      <td>m/ptu</td>\n",
       "    </tr>\n",
       "    <tr>\n",
       "      <th>40212</th>\n",
       "      <td>NaN</td>\n",
       "      <td>NaN</td>\n",
       "      <td>8.0</td>\n",
       "      <td>NaN</td>\n",
       "      <td>NaN</td>\n",
       "      <td>tt1215486</td>\n",
       "      <td>m/tug</td>\n",
       "    </tr>\n",
       "    <tr>\n",
       "      <th>40213</th>\n",
       "      <td>3.9</td>\n",
       "      <td>88.0</td>\n",
       "      <td>1703.0</td>\n",
       "      <td>7.5</td>\n",
       "      <td>92.0</td>\n",
       "      <td>tt0116589</td>\n",
       "      <td>m/hype</td>\n",
       "    </tr>\n",
       "    <tr>\n",
       "      <th>40214</th>\n",
       "      <td>3.3</td>\n",
       "      <td>67.0</td>\n",
       "      <td>790.0</td>\n",
       "      <td>5.1</td>\n",
       "      <td>22.0</td>\n",
       "      <td>tt0077532</td>\n",
       "      <td>m/fm</td>\n",
       "    </tr>\n",
       "    <tr>\n",
       "      <th>40215</th>\n",
       "      <td>3.6</td>\n",
       "      <td>73.0</td>\n",
       "      <td>66.0</td>\n",
       "      <td>NaN</td>\n",
       "      <td>NaN</td>\n",
       "      <td>tt1452297</td>\n",
       "      <td>m/poll</td>\n",
       "    </tr>\n",
       "    <tr>\n",
       "      <th>40216</th>\n",
       "      <td>3.7</td>\n",
       "      <td>61.0</td>\n",
       "      <td>324.0</td>\n",
       "      <td>NaN</td>\n",
       "      <td>NaN</td>\n",
       "      <td>tt0091507</td>\n",
       "      <td>m/melo</td>\n",
       "    </tr>\n",
       "    <tr>\n",
       "      <th>40217</th>\n",
       "      <td>3.0</td>\n",
       "      <td>38.0</td>\n",
       "      <td>8538.0</td>\n",
       "      <td>NaN</td>\n",
       "      <td>NaN</td>\n",
       "      <td>tt0385560</td>\n",
       "      <td>m/boo</td>\n",
       "    </tr>\n",
       "    <tr>\n",
       "      <th>40218</th>\n",
       "      <td>3.1</td>\n",
       "      <td>64.0</td>\n",
       "      <td>37580.0</td>\n",
       "      <td>5.0</td>\n",
       "      <td>53.0</td>\n",
       "      <td>tt0110638</td>\n",
       "      <td>m/nell</td>\n",
       "    </tr>\n",
       "    <tr>\n",
       "      <th>40219</th>\n",
       "      <td>NaN</td>\n",
       "      <td>NaN</td>\n",
       "      <td>52.0</td>\n",
       "      <td>NaN</td>\n",
       "      <td>NaN</td>\n",
       "      <td>tt0105712</td>\n",
       "      <td>m/utz</td>\n",
       "    </tr>\n",
       "    <tr>\n",
       "      <th>40220</th>\n",
       "      <td>3.4</td>\n",
       "      <td>63.0</td>\n",
       "      <td>1149.0</td>\n",
       "      <td>6.4</td>\n",
       "      <td>86.0</td>\n",
       "      <td>tt0065916</td>\n",
       "      <td>m/joe</td>\n",
       "    </tr>\n",
       "    <tr>\n",
       "      <th>40221</th>\n",
       "      <td>3.4</td>\n",
       "      <td>68.0</td>\n",
       "      <td>2061.0</td>\n",
       "      <td>5.6</td>\n",
       "      <td>50.0</td>\n",
       "      <td>tt0098442</td>\n",
       "      <td>m/tap</td>\n",
       "    </tr>\n",
       "    <tr>\n",
       "      <th>40222</th>\n",
       "      <td>3.4</td>\n",
       "      <td>53.0</td>\n",
       "      <td>770.0</td>\n",
       "      <td>NaN</td>\n",
       "      <td>NaN</td>\n",
       "      <td>tt0364146</td>\n",
       "      <td>m/105</td>\n",
       "    </tr>\n",
       "    <tr>\n",
       "      <th>40223</th>\n",
       "      <td>2.4</td>\n",
       "      <td>20.0</td>\n",
       "      <td>224.0</td>\n",
       "      <td>NaN</td>\n",
       "      <td>NaN</td>\n",
       "      <td>tt1261041</td>\n",
       "      <td>m/222</td>\n",
       "    </tr>\n",
       "    <tr>\n",
       "      <th>40224</th>\n",
       "      <td>4.1</td>\n",
       "      <td>90.0</td>\n",
       "      <td>7841.0</td>\n",
       "      <td>7.7</td>\n",
       "      <td>89.0</td>\n",
       "      <td>tt0388888</td>\n",
       "      <td>m/dig</td>\n",
       "    </tr>\n",
       "    <tr>\n",
       "      <th>40225</th>\n",
       "      <td>3.6</td>\n",
       "      <td>69.0</td>\n",
       "      <td>2350.0</td>\n",
       "      <td>NaN</td>\n",
       "      <td>NaN</td>\n",
       "      <td>tt0099429</td>\n",
       "      <td>m/dil</td>\n",
       "    </tr>\n",
       "    <tr>\n",
       "      <th>40226</th>\n",
       "      <td>4.3</td>\n",
       "      <td>70.0</td>\n",
       "      <td>118.0</td>\n",
       "      <td>NaN</td>\n",
       "      <td>NaN</td>\n",
       "      <td>tt1053792</td>\n",
       "      <td>m/41</td>\n",
       "    </tr>\n",
       "    <tr>\n",
       "      <th>40227</th>\n",
       "      <td>3.8</td>\n",
       "      <td>84.0</td>\n",
       "      <td>309.0</td>\n",
       "      <td>NaN</td>\n",
       "      <td>NaN</td>\n",
       "      <td>tt0088658</td>\n",
       "      <td>m/ak</td>\n",
       "    </tr>\n",
       "    <tr>\n",
       "      <th>40228</th>\n",
       "      <td>2.9</td>\n",
       "      <td>53.0</td>\n",
       "      <td>14648.0</td>\n",
       "      <td>6.4</td>\n",
       "      <td>68.0</td>\n",
       "      <td>tt0078721</td>\n",
       "      <td>m/10</td>\n",
       "    </tr>\n",
       "    <tr>\n",
       "      <th>40229</th>\n",
       "      <td>NaN</td>\n",
       "      <td>NaN</td>\n",
       "      <td>0.0</td>\n",
       "      <td>NaN</td>\n",
       "      <td>NaN</td>\n",
       "      <td>tt2779840</td>\n",
       "      <td>m/916</td>\n",
       "    </tr>\n",
       "  </tbody>\n",
       "</table>\n",
       "<p>40230 rows × 7 columns</p>\n",
       "</div>"
      ],
      "text/plain": [
       "       audience_average  audience_percent  audience_ratings  critic_average  \\\n",
       "0                   3.9              86.0        33125227.0             7.1   \n",
       "1                   4.1              80.0            2139.0             7.8   \n",
       "2                   3.6              71.0           11482.0             7.6   \n",
       "3                   3.6              66.0          187204.0             6.6   \n",
       "4                   3.9              84.0           26836.0             7.4   \n",
       "5                   3.7              74.0            1498.0             7.0   \n",
       "6                   3.6              85.0           92824.0             6.6   \n",
       "7                   3.2              50.0          242347.0             4.9   \n",
       "8                   4.0              87.0             427.0             7.4   \n",
       "9                   3.7              74.0          260776.0             7.4   \n",
       "10                  3.3              51.0          241740.0             4.3   \n",
       "11                  3.2              66.0           46826.0             7.3   \n",
       "12                  3.4              69.0           23375.0             7.4   \n",
       "13                  3.5              54.0          199136.0             5.0   \n",
       "14                  3.3              57.0             109.0             NaN   \n",
       "15                  3.3              64.0          188527.0             5.5   \n",
       "16                  4.3              92.0          279153.0             7.6   \n",
       "17                  3.6              63.0             304.0             7.1   \n",
       "18                  3.2              46.0             480.0             4.9   \n",
       "19                  3.4              80.0          140836.0             7.6   \n",
       "20                  4.2              89.0          138111.0             7.4   \n",
       "21                  3.5              58.0           37565.0             5.7   \n",
       "22                  3.4              74.0          266365.0             6.2   \n",
       "23                  2.8              34.0            7246.0             5.0   \n",
       "24                  3.1              61.0        34104919.0             6.9   \n",
       "25                  4.0              93.0          435893.0             8.4   \n",
       "26                  3.4              73.0           70542.0             6.0   \n",
       "27                  4.0              91.0          336264.0             8.5   \n",
       "28                  3.8              89.0          297648.0             9.2   \n",
       "29                  3.3              60.0            4949.0             4.7   \n",
       "...                 ...               ...               ...             ...   \n",
       "40200               4.6             100.0              20.0             NaN   \n",
       "40201               3.2              56.0            1354.0             6.8   \n",
       "40202               3.3              64.0             290.0             NaN   \n",
       "40203               NaN               NaN              13.0             NaN   \n",
       "40204               NaN               NaN               1.0             NaN   \n",
       "40205               NaN               NaN               2.0             NaN   \n",
       "40206               3.2              40.0             185.0             NaN   \n",
       "40207               3.8              79.0             366.0             NaN   \n",
       "40208               3.0              52.0           16432.0             4.0   \n",
       "40209               3.0              62.0            5393.0             3.5   \n",
       "40210               3.7              60.0              68.0             NaN   \n",
       "40211               3.7              79.0            4304.0             5.8   \n",
       "40212               NaN               NaN               8.0             NaN   \n",
       "40213               3.9              88.0            1703.0             7.5   \n",
       "40214               3.3              67.0             790.0             5.1   \n",
       "40215               3.6              73.0              66.0             NaN   \n",
       "40216               3.7              61.0             324.0             NaN   \n",
       "40217               3.0              38.0            8538.0             NaN   \n",
       "40218               3.1              64.0           37580.0             5.0   \n",
       "40219               NaN               NaN              52.0             NaN   \n",
       "40220               3.4              63.0            1149.0             6.4   \n",
       "40221               3.4              68.0            2061.0             5.6   \n",
       "40222               3.4              53.0             770.0             NaN   \n",
       "40223               2.4              20.0             224.0             NaN   \n",
       "40224               4.1              90.0            7841.0             7.7   \n",
       "40225               3.6              69.0            2350.0             NaN   \n",
       "40226               4.3              70.0             118.0             NaN   \n",
       "40227               3.8              84.0             309.0             NaN   \n",
       "40228               2.9              53.0           14648.0             6.4   \n",
       "40229               NaN               NaN               0.0             NaN   \n",
       "\n",
       "       critic_percent    imdb_id  \\\n",
       "0                79.0  tt0325980   \n",
       "1                88.0  tt4882376   \n",
       "2                86.0  tt0099763   \n",
       "3                66.0  tt1371111   \n",
       "4                80.0  tt1189073   \n",
       "5                88.0  tt1787725   \n",
       "6                73.0  tt0117665   \n",
       "7                35.0  tt1611224   \n",
       "8               100.0  tt3966544   \n",
       "9                85.0  tt0780521   \n",
       "10               30.0  tt1855325   \n",
       "11               85.0  tt0115956   \n",
       "12               90.0  tt0068555   \n",
       "13               32.0  tt1298650   \n",
       "14                NaN  tt0230575   \n",
       "15               38.0  tt0328880   \n",
       "16               89.0  tt1843866   \n",
       "17               83.0  tt1931549   \n",
       "18               45.0  tt1979172   \n",
       "19               84.0  tt0311113   \n",
       "20               86.0  tt1659337   \n",
       "21               60.0  tt1698641   \n",
       "22               57.0  tt0396171   \n",
       "23               55.0  tt1659343   \n",
       "24               76.0  tt0363771   \n",
       "25               89.0  tt0066921   \n",
       "26               74.0  tt0105112   \n",
       "27               90.0  tt0083658   \n",
       "28               92.0  tt0062622   \n",
       "29               22.0  tt0409034   \n",
       "...               ...        ...   \n",
       "40200             NaN  tt3037570   \n",
       "40201           100.0  tt0042644   \n",
       "40202             NaN  tt0116844   \n",
       "40203             NaN  tt0099890   \n",
       "40204             NaN  tt0264210   \n",
       "40205             NaN  tt0340280   \n",
       "40206             NaN  tt0088781   \n",
       "40207             NaN  tt0150980   \n",
       "40208            10.0  tt0084809   \n",
       "40209            10.0  tt0120531   \n",
       "40210             NaN  tt0262196   \n",
       "40211            57.0  tt0250638   \n",
       "40212             NaN  tt1215486   \n",
       "40213            92.0  tt0116589   \n",
       "40214            22.0  tt0077532   \n",
       "40215             NaN  tt1452297   \n",
       "40216             NaN  tt0091507   \n",
       "40217             NaN  tt0385560   \n",
       "40218            53.0  tt0110638   \n",
       "40219             NaN  tt0105712   \n",
       "40220            86.0  tt0065916   \n",
       "40221            50.0  tt0098442   \n",
       "40222             NaN  tt0364146   \n",
       "40223             NaN  tt1261041   \n",
       "40224            89.0  tt0388888   \n",
       "40225             NaN  tt0099429   \n",
       "40226             NaN  tt1053792   \n",
       "40227             NaN  tt0088658   \n",
       "40228            68.0  tt0078721   \n",
       "40229             NaN  tt2779840   \n",
       "\n",
       "                                      rotten_tomatoes_id  \n",
       "0      m/pirates_of_the_caribbean_the_curse_of_the_bl...  \n",
       "1      m/first_they_killed_my_father_a_daughter_of_ca...  \n",
       "2                    m/henry_portrait_of_a_serial_killer  \n",
       "3                                     m/cloud_atlas_2012  \n",
       "4                                   m/the_skin_i_live_in  \n",
       "5      m/if_a_tree_falls_a_story_of_the_earth_liberat...  \n",
       "6                                     m/1073595-sleepers  \n",
       "7                       m/abraham_lincoln_vampire_hunter  \n",
       "8      m/lost_soul_the_doomed_journey_of_richard_stan...  \n",
       "9                        m/1196003-princess_and_the_frog  \n",
       "10                           m/resident_evil_retribution  \n",
       "11                                  m/courage_under_fire  \n",
       "12     m/everything_you_always_wanted_to_know_about_s...  \n",
       "13          m/pirates_of_the_caribbean_on_stranger_tides  \n",
       "14     m/night_of_the_day_of_the_dawn_of_the_son_of_t...  \n",
       "15                                        m/brother_bear  \n",
       "16             m/captain_america_the_winter_soldier_2014  \n",
       "17     m/the_man_nobody_knew_in_search_of_my_father_c...  \n",
       "18     m/a_liars_autobiography_the_untrue_story_of_mo...  \n",
       "19      m/master_and_commander_the_far_side_of_the_world  \n",
       "20                         m/perks_of_being_a_wallflower  \n",
       "21     m/alexander_and_the_terrible_horrible_no_good_...  \n",
       "22                     m/perfume_the_story_of_a_murderer  \n",
       "23                  m/universal_soldier_day_of_reckoning  \n",
       "24            m/chronicles_of_narnia_lion_witch_wardrobe  \n",
       "25                                    m/clockwork_orange  \n",
       "26                                       m/patriot_games  \n",
       "27                                        m/Blade_Runner  \n",
       "28                        m/1000085-2001_a_space_odyssey  \n",
       "29     m/marilyn_hotchkiss_ballroom_dancing_and_charm...  \n",
       "...                                                  ...  \n",
       "40200                                              m/alt  \n",
       "40201                                              m/kim  \n",
       "40202                                              m/lea  \n",
       "40203                                              m/jit  \n",
       "40204                                              m/zor  \n",
       "40205                                              m/out  \n",
       "40206                                             m/beer  \n",
       "40207                                            m/hanyo  \n",
       "40208                                              m/toy  \n",
       "40209                                              m/woo  \n",
       "40210                                               m/19  \n",
       "40211                                              m/ptu  \n",
       "40212                                              m/tug  \n",
       "40213                                             m/hype  \n",
       "40214                                               m/fm  \n",
       "40215                                             m/poll  \n",
       "40216                                             m/melo  \n",
       "40217                                              m/boo  \n",
       "40218                                             m/nell  \n",
       "40219                                              m/utz  \n",
       "40220                                              m/joe  \n",
       "40221                                              m/tap  \n",
       "40222                                              m/105  \n",
       "40223                                              m/222  \n",
       "40224                                              m/dig  \n",
       "40225                                              m/dil  \n",
       "40226                                               m/41  \n",
       "40227                                               m/ak  \n",
       "40228                                               m/10  \n",
       "40229                                              m/916  \n",
       "\n",
       "[40230 rows x 7 columns]"
      ]
     },
     "execution_count": 6,
     "metadata": {},
     "output_type": "execute_result"
    }
   ],
   "source": [
    "rt"
   ]
  },
  {
   "cell_type": "code",
   "execution_count": 7,
   "metadata": {},
   "outputs": [
    {
     "data": {
      "text/plain": [
       "<matplotlib.axes._subplots.AxesSubplot at 0x1a1ddddc50>"
      ]
     },
     "execution_count": 7,
     "metadata": {},
     "output_type": "execute_result"
    },
    {
     "data": {
      "image/png": "[encoded data removed]",
      "text/plain": [
       "<Figure size 432x288 with 1 Axes>"
      ]
     },
     "metadata": {},
     "output_type": "display_data"
    }
   ],
   "source": [
    "wiki_movies.count().plot.bar()"
   ]
  },
  {
   "cell_type": "code",
   "execution_count": 8,
   "metadata": {},
   "outputs": [
    {
     "data": {
      "text/plain": [
       "based_on               3483\n",
       "cast_member           35434\n",
       "country_of_origin     40158\n",
       "director              35835\n",
       "enwiki_title          40430\n",
       "filming_location       9705\n",
       "genre                 40430\n",
       "imdb_id               40430\n",
       "label                 40404\n",
       "made_profit             791\n",
       "main_subject           7043\n",
       "metacritic_id          9960\n",
       "original_language     39443\n",
       "publication_date      40199\n",
       "rotten_tomatoes_id    40430\n",
       "series                  915\n",
       "wikidata_id           40430\n",
       "dtype: int64"
      ]
     },
     "execution_count": 8,
     "metadata": {},
     "output_type": "execute_result"
    }
   ],
   "source": [
    "wiki_movies.count()"
   ]
  },
  {
   "cell_type": "code",
   "execution_count": 9,
   "metadata": {},
   "outputs": [
    {
     "data": {
      "text/plain": [
       "1.0    665\n",
       "0.0    126\n",
       "Name: made_profit, dtype: int64"
      ]
     },
     "execution_count": 9,
     "metadata": {},
     "output_type": "execute_result"
    }
   ],
   "source": [
    "wiki_movies['made_profit'].value_counts() #information not available means NAN = no information given"
   ]
  },
  {
   "cell_type": "code",
   "execution_count": 10,
   "metadata": {},
   "outputs": [
    {
     "data": {
      "text/plain": [
       "based_on               object\n",
       "cast_member            object\n",
       "country_of_origin      object\n",
       "director               object\n",
       "enwiki_title           object\n",
       "filming_location       object\n",
       "genre                  object\n",
       "imdb_id                object\n",
       "label                  object\n",
       "made_profit           float64\n",
       "main_subject           object\n",
       "metacritic_id          object\n",
       "original_language      object\n",
       "publication_date       object\n",
       "rotten_tomatoes_id     object\n",
       "series                 object\n",
       "wikidata_id            object\n",
       "dtype: object"
      ]
     },
     "execution_count": 10,
     "metadata": {},
     "output_type": "execute_result"
    }
   ],
   "source": [
    "wiki_movies.dtypes"
   ]
  },
  {
   "cell_type": "code",
   "execution_count": 11,
   "metadata": {},
   "outputs": [],
   "source": [
    "#wiki_movies"
   ]
  },
  {
   "cell_type": "code",
   "execution_count": 12,
   "metadata": {},
   "outputs": [
    {
     "data": {
      "text/plain": [
       "<matplotlib.axes._subplots.AxesSubplot at 0x1a1dec8748>"
      ]
     },
     "execution_count": 12,
     "metadata": {},
     "output_type": "execute_result"
    },
    {
     "data": {
      "image/png": "[encoded data removed]",
      "text/plain": [
       "<Figure size 432x288 with 1 Axes>"
      ]
     },
     "metadata": {},
     "output_type": "display_data"
    }
   ],
   "source": [
    "rt1 = rt[['imdb_id', 'critic_percent', 'audience_percent', 'audience_ratings','critic_average']]\n",
    "rt.count().plot.bar()"
   ]
  },
  {
   "cell_type": "code",
   "execution_count": 13,
   "metadata": {},
   "outputs": [
    {
     "data": {
      "text/plain": [
       "<matplotlib.axes._subplots.AxesSubplot at 0x1a1dfd1a20>"
      ]
     },
     "execution_count": 13,
     "metadata": {},
     "output_type": "execute_result"
    },
    {
     "data": {
      "image/png": "[encoded data removed]",
      "text/plain": [
       "<Figure size 432x288 with 1 Axes>"
      ]
     },
     "metadata": {},
     "output_type": "display_data"
    }
   ],
   "source": [
    "wiki_movies2 = wiki_movies[['imdb_id', 'made_profit']].dropna()\n",
    "import seaborn as sns\n",
    "sns.set()\n",
    "profit_movie = pd.merge(rt1, wiki_movies2, on='imdb_id', how='outer')\n",
    "profit_movie = profit_movie[['imdb_id', 'critic_percent', 'audience_percent','made_profit']]\n",
    "#profit_movie = profit_movie.dropna()\n",
    "profit_movie.count().plot.bar() #made profit or not. \n",
    "\n"
   ]
  },
  {
   "cell_type": "code",
   "execution_count": 14,
   "metadata": {},
   "outputs": [
    {
     "data": {
      "text/plain": [
       "<matplotlib.axes._subplots.AxesSubplot at 0x1a1dfe4898>"
      ]
     },
     "execution_count": 14,
     "metadata": {},
     "output_type": "execute_result"
    },
    {
     "data": {
      "image/png": "[encoded data removed]",
      "text/plain": [
       "<Figure size 432x288 with 1 Axes>"
      ]
     },
     "metadata": {},
     "output_type": "display_data"
    }
   ],
   "source": [
    "\n",
    "\n",
    "profit_movie.groupby('made_profit').mean().plot.bar() #profitable movies have higher critic and audience ratings. "
   ]
  },
  {
   "cell_type": "code",
   "execution_count": 15,
   "metadata": {},
   "outputs": [
    {
     "data": {
      "text/html": [
       "<div>\n",
       "<style scoped>\n",
       "    .dataframe tbody tr th:only-of-type {\n",
       "        vertical-align: middle;\n",
       "    }\n",
       "\n",
       "    .dataframe tbody tr th {\n",
       "        vertical-align: top;\n",
       "    }\n",
       "\n",
       "    .dataframe thead th {\n",
       "        text-align: right;\n",
       "    }\n",
       "</style>\n",
       "<table border=\"1\" class=\"dataframe\">\n",
       "  <thead>\n",
       "    <tr style=\"text-align: right;\">\n",
       "      <th></th>\n",
       "      <th>critic_percent</th>\n",
       "      <th>audience_percent</th>\n",
       "    </tr>\n",
       "    <tr>\n",
       "      <th>made_profit</th>\n",
       "      <th></th>\n",
       "      <th></th>\n",
       "    </tr>\n",
       "  </thead>\n",
       "  <tbody>\n",
       "    <tr>\n",
       "      <th>0.0</th>\n",
       "      <td>51.369369</td>\n",
       "      <td>55.975207</td>\n",
       "    </tr>\n",
       "    <tr>\n",
       "      <th>1.0</th>\n",
       "      <td>67.499200</td>\n",
       "      <td>69.827160</td>\n",
       "    </tr>\n",
       "  </tbody>\n",
       "</table>\n",
       "</div>"
      ],
      "text/plain": [
       "             critic_percent  audience_percent\n",
       "made_profit                                  \n",
       "0.0               51.369369         55.975207\n",
       "1.0               67.499200         69.827160"
      ]
     },
     "execution_count": 15,
     "metadata": {},
     "output_type": "execute_result"
    }
   ],
   "source": [
    "profit_movie.groupby('made_profit').mean()"
   ]
  },
  {
   "cell_type": "code",
   "execution_count": 16,
   "metadata": {},
   "outputs": [],
   "source": [
    "#profit_movie = pd.merge(rt1, wiki_movies2, on='imdb_id', how='outer')\n",
    "#profit_movie"
   ]
  },
  {
   "cell_type": "code",
   "execution_count": 17,
   "metadata": {},
   "outputs": [],
   "source": [
    "#profit_movie['audience_percent'].plot.bar()"
   ]
  },
  {
   "cell_type": "code",
   "execution_count": 18,
   "metadata": {},
   "outputs": [
    {
     "data": {
      "text/plain": [
       "<matplotlib.axes._subplots.AxesSubplot at 0x1a1e0a9e48>"
      ]
     },
     "execution_count": 18,
     "metadata": {},
     "output_type": "execute_result"
    },
    {
     "data": {
      "image/png": "[encoded data removed]",
      "text/plain": [
       "<Figure size 432x288 with 1 Axes>"
      ]
     },
     "metadata": {},
     "output_type": "display_data"
    }
   ],
   "source": [
    "profit_movie['audience_percent'].hist()"
   ]
  },
  {
   "cell_type": "code",
   "execution_count": 19,
   "metadata": {},
   "outputs": [
    {
     "data": {
      "text/plain": [
       "<matplotlib.axes._subplots.AxesSubplot at 0x1a1e1ea0f0>"
      ]
     },
     "execution_count": 19,
     "metadata": {},
     "output_type": "execute_result"
    },
    {
     "data": {
      "image/png": "[encoded data removed]",
      "text/plain": [
       "<Figure size 432x288 with 1 Axes>"
      ]
     },
     "metadata": {},
     "output_type": "display_data"
    }
   ],
   "source": [
    "profit_movie['critic_percent'].hist()"
   ]
  },
  {
   "cell_type": "code",
   "execution_count": 20,
   "metadata": {},
   "outputs": [],
   "source": [
    "director_data = wiki_movies[['director','imdb_id']]\n",
    "movie_ratings = rt[['imdb_id', 'critic_percent', 'audience_percent' ]]"
   ]
  },
  {
   "cell_type": "code",
   "execution_count": 21,
   "metadata": {},
   "outputs": [],
   "source": [
    "\n",
    "director_ratings = pd.merge( movie_ratings, director_data, on='imdb_id', how ='outer')\n"
   ]
  },
  {
   "cell_type": "code",
   "execution_count": 22,
   "metadata": {},
   "outputs": [
    {
     "data": {
      "text/plain": [
       "<matplotlib.axes._subplots.AxesSubplot at 0x1a1e306748>"
      ]
     },
     "execution_count": 22,
     "metadata": {},
     "output_type": "execute_result"
    },
    {
     "data": {
      "image/png": "[encoded data removed]",
      "text/plain": [
       "<Figure size 432x288 with 1 Axes>"
      ]
     },
     "metadata": {},
     "output_type": "display_data"
    }
   ],
   "source": [
    "director_ratings = director_ratings[['imdb_id', 'critic_percent', 'audience_percent' , 'director']]\n",
    "\n",
    "director_ratings.count().plot.bar()"
   ]
  },
  {
   "cell_type": "code",
   "execution_count": 23,
   "metadata": {},
   "outputs": [
    {
     "name": "stderr",
     "output_type": "stream",
     "text": [
      "/anaconda3/lib/python3.6/site-packages/ipykernel_launcher.py:5: SettingWithCopyWarning: \n",
      "A value is trying to be set on a copy of a slice from a DataFrame.\n",
      "Try using .loc[row_indexer,col_indexer] = value instead\n",
      "\n",
      "See the caveats in the documentation: http://pandas.pydata.org/pandas-docs/stable/indexing.html#indexing-view-versus-copy\n",
      "  \"\"\"\n"
     ]
    }
   ],
   "source": [
    "director_audiencR = director_ratings[['audience_percent','director']]\n",
    "def astype(row):\n",
    "    return str(row['director'])\n",
    "\n",
    "director_audiencR['director']=director_audiencR.apply(func=astype,axis=1)\n",
    "director_audiencR = director_audiencR.groupby('director').mean().reset_index()\n",
    "director_audiencR= director_audiencR.dropna()"
   ]
  },
  {
   "cell_type": "code",
   "execution_count": 24,
   "metadata": {},
   "outputs": [
    {
     "data": {
      "text/plain": [
       "<matplotlib.axes._subplots.AxesSubplot at 0x1a1e79c7f0>"
      ]
     },
     "execution_count": 24,
     "metadata": {},
     "output_type": "execute_result"
    },
    {
     "data": {
      "image/png": "[encoded data removed]",
      "text/plain": [
       "<Figure size 432x288 with 1 Axes>"
      ]
     },
     "metadata": {},
     "output_type": "display_data"
    }
   ],
   "source": [
    "director_audiencR['audience_percent'].hist(bins = 20, color = 'red')"
   ]
  },
  {
   "cell_type": "code",
   "execution_count": 25,
   "metadata": {},
   "outputs": [
    {
     "name": "stderr",
     "output_type": "stream",
     "text": [
      "/anaconda3/lib/python3.6/site-packages/ipykernel_launcher.py:5: SettingWithCopyWarning: \n",
      "A value is trying to be set on a copy of a slice from a DataFrame.\n",
      "Try using .loc[row_indexer,col_indexer] = value instead\n",
      "\n",
      "See the caveats in the documentation: http://pandas.pydata.org/pandas-docs/stable/indexing.html#indexing-view-versus-copy\n",
      "  \"\"\"\n"
     ]
    }
   ],
   "source": [
    "director_audiencR = director_ratings[['critic_percent','director']]\n",
    "def astype(row):\n",
    "    return str(row['director'])\n",
    "\n",
    "director_audiencR['director']=director_audiencR.apply(func=astype,axis=1)\n",
    "director_audiencR = director_audiencR.groupby('director').mean().reset_index()\n",
    "director_audiencR= director_audiencR.dropna()"
   ]
  },
  {
   "cell_type": "code",
   "execution_count": 26,
   "metadata": {},
   "outputs": [
    {
     "data": {
      "text/plain": [
       "<matplotlib.axes._subplots.AxesSubplot at 0x1a1e896080>"
      ]
     },
     "execution_count": 26,
     "metadata": {},
     "output_type": "execute_result"
    },
    {
     "data": {
      "image/png": "[encoded data removed]",
      "text/plain": [
       "<Figure size 432x288 with 1 Axes>"
      ]
     },
     "metadata": {},
     "output_type": "display_data"
    }
   ],
   "source": [
    "director_audiencR['critic_percent'].hist( bins = 20, color = 'orange')"
   ]
  },
  {
   "cell_type": "code",
   "execution_count": 27,
   "metadata": {},
   "outputs": [],
   "source": [
    "import time\n",
    "from datetime import date\n",
    "\n",
    "wiki_movies['publication_date'] = pd.to_datetime(wiki_movies['publication_date'])\n",
    "\n",
    "\n",
    "\n",
    "\n"
   ]
  },
  {
   "cell_type": "code",
   "execution_count": 28,
   "metadata": {},
   "outputs": [
    {
     "name": "stderr",
     "output_type": "stream",
     "text": [
      "/anaconda3/lib/python3.6/site-packages/ipykernel_launcher.py:4: SettingWithCopyWarning: \n",
      "A value is trying to be set on a copy of a slice from a DataFrame.\n",
      "Try using .loc[row_indexer,col_indexer] = value instead\n",
      "\n",
      "See the caveats in the documentation: http://pandas.pydata.org/pandas-docs/stable/indexing.html#indexing-view-versus-copy\n",
      "  after removing the cwd from sys.path.\n",
      "/anaconda3/lib/python3.6/site-packages/ipykernel_launcher.py:9: SettingWithCopyWarning: \n",
      "A value is trying to be set on a copy of a slice from a DataFrame.\n",
      "Try using .loc[row_indexer,col_indexer] = value instead\n",
      "\n",
      "See the caveats in the documentation: http://pandas.pydata.org/pandas-docs/stable/indexing.html#indexing-view-versus-copy\n",
      "  if __name__ == '__main__':\n"
     ]
    },
    {
     "data": {
      "text/plain": [
       "<matplotlib.axes._subplots.AxesSubplot at 0x1a1e9c2eb8>"
      ]
     },
     "execution_count": 28,
     "metadata": {},
     "output_type": "execute_result"
    },
    {
     "data": {
      "image/png": "[encoded data removed]",
      "text/plain": [
       "<Figure size 432x288 with 1 Axes>"
      ]
     },
     "metadata": {},
     "output_type": "display_data"
    },
    {
     "data": {
      "image/png": "[encoded data removed]",
      "text/plain": [
       "<Figure size 432x288 with 1 Axes>"
      ]
     },
     "metadata": {},
     "output_type": "display_data"
    }
   ],
   "source": [
    "movie_season = wiki_movies[['imdb_id', 'publication_date']]\n",
    "def getmonth(month):\n",
    "    return month['publication_date'].month\n",
    "movie_season['month']= movie_season.apply(func=getmonth,axis=1)\n",
    "\n",
    "def getyear(year):\n",
    "    return year['publication_date'].year\n",
    "\n",
    "movie_season['year'] = movie_season.apply(func=getyear,axis=1)\n",
    "\n",
    "ratings = rt[['imdb_id' , 'critic_percent', 'audience_percent' ]]\n",
    "\n",
    "movie_year = pd.merge( ratings , movie_season, on='imdb_id', how ='outer')\n",
    "\n",
    "audience_percent = movie_year[['audience_percent', 'year']] \n",
    "critic_percent = movie_year[['critic_percent', 'year']] \n",
    "\n",
    "audience_percent.groupby('year').mean().plot.bar()\n",
    "critic_percent.groupby('year').mean().plot.bar()\n",
    "\n",
    "\n"
   ]
  },
  {
   "cell_type": "code",
   "execution_count": 29,
   "metadata": {},
   "outputs": [],
   "source": [
    "ratings = rt1[['imdb_id' , 'critic_percent', 'audience_percent' ]]\n",
    "movie_season = pd.merge( ratings , movie_season, on='imdb_id', how ='outer')\n",
    "audience_percent = movie_season[['audience_percent', 'month']] \n",
    "critic_percent = movie_season[['critic_percent', 'month']] \n"
   ]
  },
  {
   "cell_type": "code",
   "execution_count": 30,
   "metadata": {},
   "outputs": [
    {
     "data": {
      "text/plain": [
       "<matplotlib.axes._subplots.AxesSubplot at 0x1a20a86e10>"
      ]
     },
     "execution_count": 30,
     "metadata": {},
     "output_type": "execute_result"
    },
    {
     "data": {
      "image/png": "[encoded data removed]",
      "text/plain": [
       "<Figure size 432x288 with 1 Axes>"
      ]
     },
     "metadata": {},
     "output_type": "display_data"
    }
   ],
   "source": [
    "audience_percent.groupby('month').mean().plot.bar(color = 'pink')"
   ]
  },
  {
   "cell_type": "code",
   "execution_count": 31,
   "metadata": {},
   "outputs": [
    {
     "data": {
      "text/plain": [
       "<matplotlib.axes._subplots.AxesSubplot at 0x1a20e79438>"
      ]
     },
     "execution_count": 31,
     "metadata": {},
     "output_type": "execute_result"
    },
    {
     "data": {
      "image/png": "[encoded data removed]",
      "text/plain": [
       "<Figure size 432x288 with 1 Axes>"
      ]
     },
     "metadata": {},
     "output_type": "display_data"
    }
   ],
   "source": [
    "critic_percent.groupby('month').mean().plot.bar(color = '')"
   ]
  },
  {
   "cell_type": "code",
   "execution_count": 32,
   "metadata": {},
   "outputs": [],
   "source": [
    "import re \n",
    "\n",
    "def process_awards1(row) : \n",
    "    awards_text=row['omdb_awards'].lower()\n",
    "    NOMINATION_REGEX=r'[0-9]* nominations'\n",
    "    if re.search(NOMINATION_REGEX,awards_text) is not None:       \n",
    "        nomination_num=int(re.search(NOMINATION_REGEX,awards_text).group()[0])\n",
    "    else:\n",
    "        nomination_num=0\n",
    "    return nomination_num\n",
    "\n",
    "def process_awards2(row) : \n",
    "    awards_text=row['omdb_awards'].lower()\n",
    "    WIN_REGEX =r'[0-9]* wins'\n",
    "    if re.search(WIN_REGEX,awards_text) is not None:\n",
    "        win_num = int(re.search(WIN_REGEX,awards_text).group()[0])\n",
    "    else:\n",
    "        win_num=0\n",
    "        \n",
    "    return win_num\n",
    "\n",
    "def process_awards3(row) : \n",
    "    awards_text=row['omdb_awards'].lower()\n",
    "    OSCAR_REGEX=r'[0-9]* oscars'\n",
    "    if re.search(OSCAR_REGEX,awards_text) is not None:      \n",
    "        oscar_num=int(re.search(OSCAR_REGEX,awards_text).group()[0])\n",
    "    else:\n",
    "        oscar_num=0\n",
    "    return oscar_num\n",
    "    \n",
    "def process_awards4(row) : \n",
    "    awards_text=row['omdb_awards'].lower()\n",
    "    GOLDENGATE_REGEX=r'[0-9]* golden globe'\n",
    "    if re.search(GOLDENGATE_REGEX,awards_text) is not None: \n",
    "        goldengate_num=int(re.search(GOLDENGATE_REGEX,awards_text).group()[0])\n",
    "    else:\n",
    "        goldengate_num=0\n",
    "    return goldengate_num\n",
    "\n",
    "\n",
    "def process_awards5(row) : \n",
    "    awards_text=row['omdb_awards'].lower()     \n",
    "    BAFTA_REGEX=r'[0-9]* bafta'\n",
    "            \n",
    "    if re.search(BAFTA_REGEX,awards_text) is not None:\n",
    "        bafta_num = int(re.search(BAFTA_REGEX,awards_text).group()[0])\n",
    "    else:\n",
    "        bafta_num=0\n",
    "    return bafta_num\n",
    "       \n",
    "omdb['num_nominations']=omdb.apply(func=process_awards1,axis=1)\n",
    "omdb['num_awards']=omdb.apply(func=process_awards2,axis=1) \n",
    "omdb['num_oscars']=omdb.apply(func=process_awards3,axis=1) \n",
    "omdb['num_golden_globe']=omdb.apply(func=process_awards4,axis=1) \n",
    "omdb['num_bafta']=omdb.apply(func=process_awards5,axis=1) \n",
    "\n",
    "omdb_awards = omdb[['imdb_id','num_nominations','num_awards', 'num_oscars', 'num_golden_globe', 'num_bafta']]"
   ]
  },
  {
   "cell_type": "code",
   "execution_count": 33,
   "metadata": {},
   "outputs": [],
   "source": [
    "#np.hstack(wiki_movies['genre']).tolist()\n",
    "from sklearn.feature_extraction.text import CountVectorizer\n",
    "vec=CountVectorizer()\n",
    "wiki_movies['genre2']=wiki_movies.apply(func=lambda row:\" \".join(row['genre']),axis=1)\n",
    "df1=pd.DataFrame(vec.fit_transform(wiki_movies['genre2']).toarray(),columns=vec.get_feature_names()).reset_index()\n"
   ]
  },
  {
   "cell_type": "code",
   "execution_count": 34,
   "metadata": {},
   "outputs": [],
   "source": [
    "rt = rt[['imdb_id' , 'critic_percent', 'audience_percent', 'audience_ratings', 'audience_average', 'critic_average']]\n",
    "wiki_movies2 = wiki_movies[['imdb_id', 'made_profit']]\n",
    "best_variables = pd.merge( rt ,wiki_movies2 , on='imdb_id', how ='outer')\n",
    "best_variables = pd.merge(best_variables,omdb_awards,on='imdb_id', how ='outer' )"
   ]
  },
  {
   "cell_type": "code",
   "execution_count": 35,
   "metadata": {},
   "outputs": [],
   "source": [
    "wiki_movies = wiki_movies.reset_index()\n",
    "#wiki_movies"
   ]
  },
  {
   "cell_type": "code",
   "execution_count": 36,
   "metadata": {},
   "outputs": [],
   "source": [
    "#best_variables #y variables. \n",
    "#pd.merge( best_variables, director_data, on='index', how ='outer')"
   ]
  },
  {
   "cell_type": "code",
   "execution_count": 37,
   "metadata": {},
   "outputs": [],
   "source": [
    "#import seaborn as sns\n",
    "#sns.pairplot(best_variables.dropna())"
   ]
  },
  {
   "cell_type": "code",
   "execution_count": 38,
   "metadata": {},
   "outputs": [],
   "source": [
    "#np.hstack(wiki_movies['genre']).tolist()\n",
    "from sklearn.feature_extraction.text import CountVectorizer\n",
    "vec=CountVectorizer()\n",
    "wiki_movies['genre2']=wiki_movies.apply(func=lambda row:\" \".join(row['genre']),axis=1)\n",
    "df1=pd.DataFrame(vec.fit_transform(wiki_movies['genre2']).toarray(),columns=vec.get_feature_names()).reset_index()\n",
    "\n"
   ]
  },
  {
   "cell_type": "code",
   "execution_count": 39,
   "metadata": {},
   "outputs": [
    {
     "data": {
      "text/plain": [
       "Index(['index', 'based_on', 'cast_member', 'country_of_origin', 'director',\n",
       "       'enwiki_title', 'filming_location', 'genre', 'imdb_id', 'label',\n",
       "       ...\n",
       "       'q909586', 'q9168', 'q9259727', 'q926324', 'q93196', 'q93204',\n",
       "       'q9335577', 'q9503', 'q959790', 'q986699'],\n",
       "      dtype='object', length=419)"
      ]
     },
     "execution_count": 39,
     "metadata": {},
     "output_type": "execute_result"
    }
   ],
   "source": [
    "best_vars = pd.merge(wiki_movies, df1 , on= 'index', how='outer')\n",
    "best_vars.columns"
   ]
  },
  {
   "cell_type": "code",
   "execution_count": 40,
   "metadata": {},
   "outputs": [
    {
     "data": {
      "text/plain": [
       "['imdb_id',\n",
       " 'critic_percent',\n",
       " 'audience_percent',\n",
       " 'audience_ratings',\n",
       " 'audience_average',\n",
       " 'critic_average',\n",
       " 'made_profit_x',\n",
       " 'num_nominations',\n",
       " 'num_awards',\n",
       " 'num_oscars',\n",
       " 'num_golden_globe',\n",
       " 'num_bafta',\n",
       " 'index',\n",
       " 'based_on',\n",
       " 'cast_member',\n",
       " 'country_of_origin',\n",
       " 'director',\n",
       " 'enwiki_title',\n",
       " 'filming_location',\n",
       " 'genre',\n",
       " 'label',\n",
       " 'made_profit_y',\n",
       " 'main_subject',\n",
       " 'metacritic_id',\n",
       " 'original_language',\n",
       " 'publication_date',\n",
       " 'rotten_tomatoes_id',\n",
       " 'series',\n",
       " 'wikidata_id',\n",
       " 'genre2',\n",
       " 'q1033891',\n",
       " 'q1054574',\n",
       " 'q10654943',\n",
       " 'q1067324',\n",
       " 'q1080374',\n",
       " 'q1091334',\n",
       " 'q1096120',\n",
       " 'q1097273',\n",
       " 'q1107',\n",
       " 'q1113999',\n",
       " 'q1115187',\n",
       " 'q1117103',\n",
       " 'q11356864',\n",
       " 'q1135802',\n",
       " 'q11366',\n",
       " 'q11396323',\n",
       " 'q11399',\n",
       " 'q11425',\n",
       " 'q11452132',\n",
       " 'q1146335',\n",
       " 'q1147197',\n",
       " 'q1150666',\n",
       " 'q1164334',\n",
       " 'q11661562',\n",
       " 'q1190502',\n",
       " 'q1194365',\n",
       " 'q1196408',\n",
       " 'q1200678',\n",
       " 'q1257444',\n",
       " 'q1259759',\n",
       " 'q1261214',\n",
       " 'q12767035',\n",
       " 'q128758',\n",
       " 'q12912091',\n",
       " 'q130232',\n",
       " 'q130352',\n",
       " 'q131539',\n",
       " 'q1320115',\n",
       " 'q13209138',\n",
       " 'q132311',\n",
       " 'q1332055',\n",
       " 'q13377795',\n",
       " 'q1339864',\n",
       " 'q1341051',\n",
       " 'q1342372',\n",
       " 'q1344',\n",
       " 'q1356411',\n",
       " 'q1361932',\n",
       " 'q136472',\n",
       " 'q1366112',\n",
       " 'q13717554',\n",
       " 'q1377546',\n",
       " 'q1395566',\n",
       " 'q1401416',\n",
       " 'q1433443',\n",
       " 'q1436734',\n",
       " 'q145806',\n",
       " 'q1464369',\n",
       " 'q14699093',\n",
       " 'q15062348',\n",
       " 'q1519335',\n",
       " 'q15286013',\n",
       " 'q1535153',\n",
       " 'q1538137',\n",
       " 'q15428604',\n",
       " 'q1548170',\n",
       " 'q15637293',\n",
       " 'q15637299',\n",
       " 'q15637301',\n",
       " 'q15637310',\n",
       " 'q15712918',\n",
       " 'q15712927',\n",
       " 'q157394',\n",
       " 'q157443',\n",
       " 'q15858553',\n",
       " 'q15898171',\n",
       " 'q16049832',\n",
       " 'q1615638',\n",
       " 'q1654577',\n",
       " 'q16575965',\n",
       " 'q16861950',\n",
       " 'q16909344',\n",
       " 'q16950433',\n",
       " 'q169672',\n",
       " 'q17013749',\n",
       " 'q170238',\n",
       " 'q170539',\n",
       " 'q17113138',\n",
       " 'q17175676',\n",
       " 'q172067',\n",
       " 'q1723850',\n",
       " 'q172980',\n",
       " 'q1740789',\n",
       " 'q174526',\n",
       " 'q1747837',\n",
       " 'q1760864',\n",
       " 'q1762165',\n",
       " 'q1776156',\n",
       " 'q1782964',\n",
       " 'q1786567',\n",
       " 'q17884',\n",
       " 'q1788980',\n",
       " 'q1800833',\n",
       " 'q181001',\n",
       " 'q182015',\n",
       " 'q182154',\n",
       " 'q182415',\n",
       " 'q185529',\n",
       " 'q185867',\n",
       " 'q18620604',\n",
       " 'q186424',\n",
       " 'q1864294',\n",
       " 'q188473',\n",
       " 'q188784',\n",
       " 'q1894374',\n",
       " 'q191489',\n",
       " 'q1919632',\n",
       " 'q192239',\n",
       " 'q192881',\n",
       " 'q193541',\n",
       " 'q1935609',\n",
       " 'q193606',\n",
       " 'q19367312',\n",
       " 'q193979',\n",
       " 'q1941707',\n",
       " 'q1957385',\n",
       " 'q197949',\n",
       " 'q19842222',\n",
       " 'q199701',\n",
       " 'q1999690',\n",
       " 'q200092',\n",
       " 'q20220309',\n",
       " 'q20267837',\n",
       " 'q202866',\n",
       " 'q20442589',\n",
       " 'q20443008',\n",
       " 'q20650540',\n",
       " 'q20652466',\n",
       " 'q20656232',\n",
       " 'q20656352',\n",
       " 'q20664331',\n",
       " 'q20667180',\n",
       " 'q20737414',\n",
       " 'q208505',\n",
       " 'q208555',\n",
       " 'q21010853',\n",
       " 'q2116008',\n",
       " 'q2118696',\n",
       " 'q21188110',\n",
       " 'q21192427',\n",
       " 'q21209409',\n",
       " 'q212781',\n",
       " 'q21322403',\n",
       " 'q2137852',\n",
       " 'q21401869',\n",
       " 'q2143665',\n",
       " 'q21590660',\n",
       " 'q217117',\n",
       " 'q217199',\n",
       " 'q21802675',\n",
       " 'q218248',\n",
       " 'q219557',\n",
       " 'q222639',\n",
       " 'q222926',\n",
       " 'q223685',\n",
       " 'q223770',\n",
       " 'q223945',\n",
       " 'q224700',\n",
       " 'q224989',\n",
       " 'q2254193',\n",
       " 'q2254211',\n",
       " 'q2254548',\n",
       " 'q226730',\n",
       " 'q2290276',\n",
       " 'q2292320',\n",
       " 'q229390',\n",
       " 'q2297927',\n",
       " 'q22981906',\n",
       " 'q231302',\n",
       " 'q2321734',\n",
       " 'q2356541',\n",
       " 'q23653',\n",
       " 'q237338',\n",
       " 'q23739',\n",
       " 'q23745',\n",
       " 'q2376899',\n",
       " 'q2389651',\n",
       " 'q23916',\n",
       " 'q240911',\n",
       " 'q2421031',\n",
       " 'q242492',\n",
       " 'q2439025',\n",
       " 'q2447078',\n",
       " 'q2484376',\n",
       " 'q248583',\n",
       " 'q24862',\n",
       " 'q2490520',\n",
       " 'q24925',\n",
       " 'q25110269',\n",
       " 'q25372',\n",
       " 'q253732',\n",
       " 'q25379',\n",
       " 'q2561390',\n",
       " 'q2561438',\n",
       " 'q2584671',\n",
       " 'q2593937',\n",
       " 'q261636',\n",
       " 'q2625243',\n",
       " 'q26268098',\n",
       " 'q263734',\n",
       " 'q2642760',\n",
       " 'q2678111',\n",
       " 'q270948',\n",
       " 'q2724311',\n",
       " 'q2743',\n",
       " 'q275934',\n",
       " 'q28026639',\n",
       " 'q289',\n",
       " 'q28968258',\n",
       " 'q28968511',\n",
       " 'q29197',\n",
       " 'q2973181',\n",
       " 'q2973201',\n",
       " 'q2975633',\n",
       " 'q2991560',\n",
       " 'q2991565',\n",
       " 'q3038946',\n",
       " 'q304538',\n",
       " 'q3056541',\n",
       " 'q3072024',\n",
       " 'q3072031',\n",
       " 'q3072039',\n",
       " 'q3072042',\n",
       " 'q3072043',\n",
       " 'q3072049',\n",
       " 'q31235',\n",
       " 'q319221',\n",
       " 'q319226',\n",
       " 'q320568',\n",
       " 'q3249257',\n",
       " 'q326439',\n",
       " 'q3272147',\n",
       " 'q332102',\n",
       " 'q336059',\n",
       " 'q336107',\n",
       " 'q336144',\n",
       " 'q343782',\n",
       " 'q352904',\n",
       " 'q36279',\n",
       " 'q3634883',\n",
       " 'q3641550',\n",
       " 'q369747',\n",
       " 'q37073',\n",
       " 'q37484',\n",
       " 'q38072107',\n",
       " 'q38926',\n",
       " 'q39427',\n",
       " 'q39892385',\n",
       " 'q3990883',\n",
       " 'q4075563',\n",
       " 'q40831',\n",
       " 'q4164344',\n",
       " 'q41664487',\n",
       " 'q416747',\n",
       " 'q4184',\n",
       " 'q4220915',\n",
       " 'q4235011',\n",
       " 'q4292083',\n",
       " 'q430525',\n",
       " 'q4382232',\n",
       " 'q4461646',\n",
       " 'q457832',\n",
       " 'q459290',\n",
       " 'q459435',\n",
       " 'q4674071',\n",
       " 'q468478',\n",
       " 'q4686573',\n",
       " 'q47009776',\n",
       " 'q471839',\n",
       " 'q472637',\n",
       " 'q4765080',\n",
       " 'q4774498',\n",
       " 'q482',\n",
       " 'q483352',\n",
       " 'q4836991',\n",
       " 'q484641',\n",
       " 'q486263',\n",
       " 'q4875794',\n",
       " 'q48834789',\n",
       " 'q49084',\n",
       " 'q491158',\n",
       " 'q4925568',\n",
       " 'q49451',\n",
       " 'q4949058',\n",
       " 'q496523',\n",
       " 'q4984974',\n",
       " 'q5035283',\n",
       " 'q505119',\n",
       " 'q5145881',\n",
       " 'q5151495',\n",
       " 'q5151497',\n",
       " 'q517386',\n",
       " 'q52162262',\n",
       " 'q525350',\n",
       " 'q5258881',\n",
       " 'q53094',\n",
       " 'q531067',\n",
       " 'q5366020',\n",
       " 'q5366097',\n",
       " 'q542475',\n",
       " 'q5434357',\n",
       " 'q5442753',\n",
       " 'q546440',\n",
       " 'q5769084',\n",
       " 'q5769663',\n",
       " 'q5774663',\n",
       " 'q5778924',\n",
       " 'q580850',\n",
       " 'q581714',\n",
       " 'q583768',\n",
       " 'q586250',\n",
       " 'q5897543',\n",
       " 'q590103',\n",
       " 'q59126',\n",
       " 'q5967378',\n",
       " 'q599558',\n",
       " 'q603291',\n",
       " 'q604725',\n",
       " 'q608862',\n",
       " 'q622291',\n",
       " 'q622370',\n",
       " 'q622548',\n",
       " 'q622812',\n",
       " 'q623787',\n",
       " 'q624771',\n",
       " 'q628165',\n",
       " 'q629917',\n",
       " 'q643684',\n",
       " 'q643873',\n",
       " 'q645717',\n",
       " 'q6457531',\n",
       " 'q645928',\n",
       " 'q652256',\n",
       " 'q6585139',\n",
       " 'q663106',\n",
       " 'q665478',\n",
       " 'q678345',\n",
       " 'q681737',\n",
       " 'q690342',\n",
       " 'q699',\n",
       " 'q7168625',\n",
       " 'q7210294',\n",
       " 'q7225114',\n",
       " 'q7311396',\n",
       " 'q7362831',\n",
       " 'q7379160',\n",
       " 'q743934',\n",
       " 'q7444356',\n",
       " 'q752321',\n",
       " 'q754803',\n",
       " 'q7551315',\n",
       " 'q7569',\n",
       " 'q7603925',\n",
       " 'q761469',\n",
       " 'q7643432',\n",
       " 'q7644030',\n",
       " 'q7645884',\n",
       " 'q7696995',\n",
       " 'q775169',\n",
       " 'q775344',\n",
       " 'q790192',\n",
       " 'q794912',\n",
       " 'q80930',\n",
       " 'q8253',\n",
       " 'q8261',\n",
       " 'q8274',\n",
       " 'q83267',\n",
       " 'q838368',\n",
       " 'q842256',\n",
       " 'q846544',\n",
       " 'q850412',\n",
       " 'q851213',\n",
       " 'q853630',\n",
       " 'q853873',\n",
       " 'q858330',\n",
       " 'q859369',\n",
       " 'q860626',\n",
       " 'q8812380',\n",
       " 'q883179',\n",
       " 'q904447',\n",
       " 'q909586',\n",
       " 'q9168',\n",
       " 'q9259727',\n",
       " 'q926324',\n",
       " 'q93196',\n",
       " 'q93204',\n",
       " 'q9335577',\n",
       " 'q9503',\n",
       " 'q959790',\n",
       " 'q986699']"
      ]
     },
     "execution_count": 40,
     "metadata": {},
     "output_type": "execute_result"
    }
   ],
   "source": [
    "best_vars2 = pd.merge(best_variables, best_vars, on= 'imdb_id', how='outer')\n",
    "\n",
    "best_vars2.columns.values.tolist()"
   ]
  },
  {
   "cell_type": "code",
   "execution_count": 41,
   "metadata": {},
   "outputs": [],
   "source": [
    "#best_vars_final = best_vars2.drop(col = ['index', 'based_on', 'cast_member', 'country_of_origin', 'eniki_title','filming_location', 'genre', 'label', 'made_profit_y', 'main_subject', 'metacritic_id', 'original_language', 'rotten_tomatoes_id', 'series','wikidata_id',\n",
    " #'genre2'])\n",
    "best_vars_final = best_vars2[['imdb_id',\n",
    " 'critic_percent',\n",
    " 'audience_percent',\n",
    " 'audience_ratings',\n",
    " 'audience_average',\n",
    " 'critic_average',\n",
    " 'made_profit_x',\n",
    " 'num_nominations',\n",
    " 'num_awards',\n",
    " 'num_oscars',\n",
    " 'num_golden_globe',\n",
    " 'num_bafta',\n",
    " 'director',\n",
    " 'made_profit_y',\n",
    " 'publication_date',\n",
    " 'q1033891',\n",
    " 'q1054574',\n",
    " 'q10654943',\n",
    " 'q1067324',\n",
    " 'q1080374',\n",
    " 'q1091334',\n",
    " 'q1096120',\n",
    " 'q1097273',\n",
    " 'q1107',\n",
    " 'q1113999',\n",
    " 'q1115187',\n",
    " 'q1117103',\n",
    " 'q11356864',\n",
    " 'q1135802',\n",
    " 'q11366',\n",
    " 'q11396323',\n",
    " 'q11399',\n",
    " 'q11425',\n",
    " 'q11452132',\n",
    " 'q1146335',\n",
    " 'q1147197',\n",
    " 'q1150666',\n",
    " 'q1164334',\n",
    " 'q11661562',\n",
    " 'q1190502',\n",
    " 'q1194365',\n",
    " 'q1196408',\n",
    " 'q1200678',\n",
    " 'q1257444',\n",
    " 'q1259759',\n",
    " 'q1261214',\n",
    " 'q12767035',\n",
    " 'q128758',\n",
    " 'q12912091',\n",
    " 'q130232',\n",
    " 'q130352',\n",
    " 'q131539',\n",
    " 'q1320115',\n",
    " 'q13209138',\n",
    " 'q132311',\n",
    " 'q1332055',\n",
    " 'q13377795',\n",
    " 'q1339864',\n",
    " 'q1341051',\n",
    " 'q1342372',\n",
    " 'q1344',\n",
    " 'q1356411',\n",
    " 'q1361932',\n",
    " 'q136472',\n",
    " 'q1366112',\n",
    " 'q13717554',\n",
    " 'q1377546',\n",
    " 'q1395566',\n",
    " 'q1401416',\n",
    " 'q1433443',\n",
    " 'q1436734',\n",
    " 'q145806',\n",
    " 'q1464369',\n",
    " 'q14699093',\n",
    " 'q15062348',\n",
    " 'q1519335',\n",
    " 'q15286013',\n",
    " 'q1535153',\n",
    " 'q1538137',\n",
    " 'q15428604',\n",
    " 'q1548170',\n",
    " 'q15637293',\n",
    " 'q15637299',\n",
    " 'q15637301',\n",
    " 'q15637310',\n",
    " 'q15712918',\n",
    " 'q15712927',\n",
    " 'q157394',\n",
    " 'q157443',\n",
    " 'q15858553',\n",
    " 'q15898171',\n",
    " 'q16049832',\n",
    " 'q1615638',\n",
    " 'q1654577',\n",
    " 'q16575965',\n",
    " 'q16861950',\n",
    " 'q16909344',\n",
    " 'q16950433',\n",
    " 'q169672',\n",
    " 'q17013749',\n",
    " 'q170238',\n",
    " 'q170539',\n",
    " 'q17113138',\n",
    " 'q17175676',\n",
    " 'q172067',\n",
    " 'q1723850',\n",
    " 'q172980',\n",
    " 'q1740789',\n",
    " 'q174526',\n",
    " 'q1747837',\n",
    " 'q1760864',\n",
    " 'q1762165',\n",
    " 'q1776156',\n",
    " 'q1782964',\n",
    " 'q1786567',\n",
    " 'q17884',\n",
    " 'q1788980',\n",
    " 'q1800833',\n",
    " 'q181001',\n",
    " 'q182015',\n",
    " 'q182154',\n",
    " 'q182415',\n",
    " 'q185529',\n",
    " 'q185867',\n",
    " 'q18620604',\n",
    " 'q186424',\n",
    " 'q1864294',\n",
    " 'q188473',\n",
    " 'q188784',\n",
    " 'q1894374',\n",
    " 'q191489',\n",
    " 'q1919632',\n",
    " 'q192239',\n",
    " 'q192881',\n",
    " 'q193541',\n",
    " 'q1935609',\n",
    " 'q193606',\n",
    " 'q19367312',\n",
    " 'q193979',\n",
    " 'q1941707',\n",
    " 'q1957385',\n",
    " 'q197949',\n",
    " 'q19842222',\n",
    " 'q199701',\n",
    " 'q1999690',\n",
    " 'q200092',\n",
    " 'q20220309',\n",
    " 'q20267837',\n",
    " 'q202866',\n",
    " 'q20442589',\n",
    " 'q20443008',\n",
    " 'q20650540',\n",
    " 'q20652466',\n",
    " 'q20656232',\n",
    " 'q20656352',\n",
    " 'q20664331',\n",
    " 'q20667180',\n",
    " 'q20737414',\n",
    " 'q208505',\n",
    " 'q208555',\n",
    " 'q21010853',\n",
    " 'q2116008',\n",
    " 'q2118696',\n",
    " 'q21188110',\n",
    " 'q21192427',\n",
    " 'q21209409',\n",
    " 'q212781',\n",
    " 'q21322403',\n",
    " 'q2137852',\n",
    " 'q21401869',\n",
    " 'q2143665',\n",
    " 'q21590660',\n",
    " 'q217117',\n",
    " 'q217199',\n",
    " 'q21802675',\n",
    " 'q218248',\n",
    " 'q219557',\n",
    " 'q222639',\n",
    " 'q222926',\n",
    " 'q223685',\n",
    " 'q223770',\n",
    " 'q223945',\n",
    " 'q224700',\n",
    " 'q224989',\n",
    " 'q2254193',\n",
    " 'q2254211',\n",
    " 'q2254548',\n",
    " 'q226730',\n",
    " 'q2290276',\n",
    " 'q2292320',\n",
    " 'q229390',\n",
    " 'q2297927',\n",
    " 'q22981906',\n",
    " 'q231302',\n",
    " 'q2321734',\n",
    " 'q2356541',\n",
    " 'q23653',\n",
    " 'q237338',\n",
    " 'q23739',\n",
    " 'q23745',\n",
    " 'q2376899',\n",
    " 'q2389651',\n",
    " 'q23916',\n",
    " 'q240911',\n",
    " 'q2421031',\n",
    " 'q242492',\n",
    " 'q2439025',\n",
    " 'q2447078',\n",
    " 'q2484376',\n",
    " 'q248583',\n",
    " 'q24862',\n",
    " 'q2490520',\n",
    " 'q24925',\n",
    " 'q25110269',\n",
    " 'q25372',\n",
    " 'q253732',\n",
    " 'q25379',\n",
    " 'q2561390',\n",
    " 'q2561438',\n",
    " 'q2584671',\n",
    " 'q2593937',\n",
    " 'q261636',\n",
    " 'q2625243',\n",
    " 'q26268098',\n",
    " 'q263734',\n",
    " 'q2642760',\n",
    " 'q2678111',\n",
    " 'q270948',\n",
    " 'q2724311',\n",
    " 'q2743',\n",
    " 'q275934',\n",
    " 'q28026639',\n",
    " 'q289',\n",
    " 'q28968258',\n",
    " 'q28968511',\n",
    " 'q29197',\n",
    " 'q2973181',\n",
    " 'q2973201',\n",
    " 'q2975633',\n",
    " 'q2991560',\n",
    " 'q2991565',\n",
    " 'q3038946',\n",
    " 'q304538',\n",
    " 'q3056541',\n",
    " 'q3072024',\n",
    " 'q3072031',\n",
    " 'q3072039',\n",
    " 'q3072042',\n",
    " 'q3072043',\n",
    " 'q3072049',\n",
    " 'q31235',\n",
    " 'q319221',\n",
    " 'q319226',\n",
    " 'q320568',\n",
    " 'q3249257',\n",
    " 'q326439',\n",
    " 'q3272147',\n",
    " 'q332102',\n",
    " 'q336059',\n",
    " 'q336107',\n",
    " 'q336144',\n",
    " 'q343782',\n",
    " 'q352904',\n",
    " 'q36279',\n",
    " 'q3634883',\n",
    " 'q3641550',\n",
    " 'q369747',\n",
    " 'q37073',\n",
    " 'q37484',\n",
    " 'q38072107',\n",
    " 'q38926',\n",
    " 'q39427',\n",
    " 'q39892385',\n",
    " 'q3990883',\n",
    " 'q4075563',\n",
    " 'q40831',\n",
    " 'q4164344',\n",
    " 'q41664487',\n",
    " 'q416747',\n",
    " 'q4184',\n",
    " 'q4220915',\n",
    " 'q4235011',\n",
    " 'q4292083',\n",
    " 'q430525',\n",
    " 'q4382232',\n",
    " 'q4461646',\n",
    " 'q457832',\n",
    " 'q459290',\n",
    " 'q459435',\n",
    " 'q4674071',\n",
    " 'q468478',\n",
    " 'q4686573',\n",
    " 'q47009776',\n",
    " 'q471839',\n",
    " 'q472637',\n",
    " 'q4765080',\n",
    " 'q4774498',\n",
    " 'q482',\n",
    " 'q483352',\n",
    " 'q4836991',\n",
    " 'q484641',\n",
    " 'q486263',\n",
    " 'q4875794',\n",
    " 'q48834789',\n",
    " 'q49084',\n",
    " 'q491158',\n",
    " 'q4925568',\n",
    " 'q49451',\n",
    " 'q4949058',\n",
    " 'q496523',\n",
    " 'q4984974',\n",
    " 'q5035283',\n",
    " 'q505119',\n",
    " 'q5145881',\n",
    " 'q5151495',\n",
    " 'q5151497',\n",
    " 'q517386',\n",
    " 'q52162262',\n",
    " 'q525350',\n",
    " 'q5258881',\n",
    " 'q53094',\n",
    " 'q531067',\n",
    " 'q5366020',\n",
    " 'q5366097',\n",
    " 'q542475',\n",
    " 'q5434357',\n",
    " 'q5442753',\n",
    " 'q546440',\n",
    " 'q5769084',\n",
    " 'q5769663',\n",
    " 'q5774663',\n",
    " 'q5778924',\n",
    " 'q580850',\n",
    " 'q581714',\n",
    " 'q583768',\n",
    " 'q586250',\n",
    " 'q5897543',\n",
    " 'q590103',\n",
    " 'q59126',\n",
    " 'q5967378',\n",
    " 'q599558',\n",
    " 'q603291',\n",
    " 'q604725',\n",
    " 'q608862',\n",
    " 'q622291',\n",
    " 'q622370',\n",
    " 'q622548',\n",
    " 'q622812',\n",
    " 'q623787',\n",
    " 'q624771',\n",
    " 'q628165',\n",
    " 'q629917',\n",
    " 'q643684',\n",
    " 'q643873',\n",
    " 'q645717',\n",
    " 'q6457531',\n",
    " 'q645928',\n",
    " 'q652256',\n",
    " 'q6585139',\n",
    " 'q663106',\n",
    " 'q665478',\n",
    " 'q678345',\n",
    " 'q681737',\n",
    " 'q690342',\n",
    " 'q699',\n",
    " 'q7168625',\n",
    " 'q7210294',\n",
    " 'q7225114',\n",
    " 'q7311396',\n",
    " 'q7362831',\n",
    " 'q7379160',\n",
    " 'q743934',\n",
    " 'q7444356',\n",
    " 'q752321',\n",
    " 'q754803',\n",
    " 'q7551315',\n",
    " 'q7569',\n",
    " 'q7603925',\n",
    " 'q761469',\n",
    " 'q7643432',\n",
    " 'q7644030',\n",
    " 'q7645884',\n",
    " 'q7696995',\n",
    " 'q775169',\n",
    " 'q775344',\n",
    " 'q790192',\n",
    " 'q794912',\n",
    " 'q80930',\n",
    " 'q8253',\n",
    " 'q8261',\n",
    " 'q8274',\n",
    " 'q83267',\n",
    " 'q838368',\n",
    " 'q842256',\n",
    " 'q846544',\n",
    " 'q850412',\n",
    " 'q851213',\n",
    " 'q853630',\n",
    " 'q853873',\n",
    " 'q858330',\n",
    " 'q859369',\n",
    " 'q860626',\n",
    " 'q8812380',\n",
    " 'q883179',\n",
    " 'q904447',\n",
    " 'q909586',\n",
    " 'q9168',\n",
    " 'q9259727',\n",
    " 'q926324',\n",
    " 'q93196',\n",
    " 'q93204',\n",
    " 'q9335577',\n",
    " 'q9503',\n",
    " 'q959790',\n",
    " 'q986699' ]].dropna().reset_index(drop=True)"
   ]
  },
  {
   "cell_type": "code",
   "execution_count": 42,
   "metadata": {},
   "outputs": [],
   "source": [
    "best_vars = best_vars_final.drop(columns=['director','made_profit_x', 'publication_date'])\n"
   ]
  },
  {
   "cell_type": "code",
   "execution_count": 43,
   "metadata": {
    "scrolled": true
   },
   "outputs": [],
   "source": [
    "from sklearn.feature_selection import mutual_info_classif\n",
    "from sklearn.feature_extraction.text import CountVectorizer\n",
    "import matplotlib.pyplot as plt \n",
    "res = mutual_info_classif(best_vars.drop(columns=['imdb_id','made_profit_y']).values, best_vars['made_profit_y'].values, discrete_features=True)\n",
    "dep=dict(list(zip(best_vars.drop(columns=['imdb_id','made_profit_y']).columns,res)))\n",
    "d=sorted(dep,key=lambda x:x[1],reverse=True)\n",
    "var_names=['audience_percent','audience_ratings','audience_average','num_nominations','num_awards','num_oscars','num_golden_globe','num_bafta','critic_percent','critic_average']\n",
    "\n",
    "import seaborn as sns\n",
    "sns.set()\n",
    "\n",
    "# plt.figure(figsize=(20, 12))\n",
    "# plt.grid(True, color= 'skyblue')\n",
    "# plt.plot(list(dep.keys())[:10],list(dep.values())[:10], color = 'red', linewidth = 5.0, ) #\n"
   ]
  },
  {
   "cell_type": "code",
   "execution_count": 44,
   "metadata": {},
   "outputs": [
    {
     "data": {
      "text/plain": [
       "[<matplotlib.lines.Line2D at 0x1a1e438c88>]"
      ]
     },
     "execution_count": 44,
     "metadata": {},
     "output_type": "execute_result"
    },
    {
     "data": {
      "image/png": "[encoded data removed]",
      "text/plain": [
       "<Figure size 1080x432 with 1 Axes>"
      ]
     },
     "metadata": {},
     "output_type": "display_data"
    }
   ],
   "source": [
    "import seaborn as sns\n",
    "sns.set()\n",
    "\n",
    "plt.figure(figsize=(15, 6))\n",
    "plt.grid(True, color= 'skyblue')\n",
    "plt.plot(list(dep.keys())[:10],list(dep.values())[:10], color = 'red', linewidth = 3.0, ) #\n",
    "\n"
   ]
  },
  {
   "cell_type": "code",
   "execution_count": 45,
   "metadata": {},
   "outputs": [
    {
     "name": "stdout",
     "output_type": "stream",
     "text": [
      "0.34156378600823045\n"
     ]
    }
   ],
   "source": [
    "from sklearn.metrics import accuracy_score\n",
    "from sklearn.model_selection import train_test_split\n",
    "from sklearn.pipeline import make_pipeline\n",
    "\n",
    "X = best_vars.drop(columns=['imdb_id','made_profit_y']).values\n",
    "y = best_vars['made_profit_y'].values\n",
    "X_train, X_test, y_train, y_test = train_test_split(X, y, test_size=0.33)\n",
    "from sklearn.naive_bayes import GaussianNB\n",
    "bayes_model = GaussianNB()\n",
    "bayes_model.fit(X_train, y_train)\n",
    "y_prediction = bayes_model.predict(X_test) \n",
    "print(accuracy_score(y_test, y_prediction))\n",
    "     "
   ]
  },
  {
   "cell_type": "code",
   "execution_count": 46,
   "metadata": {},
   "outputs": [
    {
     "name": "stdout",
     "output_type": "stream",
     "text": [
      "0.823045267489712\n",
      "0.823045267489712\n",
      "0.823045267489712\n",
      "0.823045267489712\n",
      "0.823045267489712\n",
      "0.823045267489712\n",
      "0.823045267489712\n",
      "0.823045267489712\n",
      "0.823045267489712\n",
      "0.823045267489712\n",
      "0.823045267489712\n",
      "0.823045267489712\n",
      "0.823045267489712\n",
      "0.823045267489712\n",
      "0.823045267489712\n",
      "0.823045267489712\n",
      "0.823045267489712\n",
      "0.823045267489712\n",
      "0.823045267489712\n",
      "0.823045267489712\n"
     ]
    }
   ],
   "source": [
    "# k-nearest neighbours model\n",
    "from sklearn.neighbors import KNeighborsClassifier \n",
    "\n",
    "for k in range(20):\n",
    "    knn_model = make_pipeline(\n",
    "    KNeighborsClassifier(n_neighbors=13)\n",
    "    )\n",
    "    knn_model.fit(X_train, y_train)\n",
    "    y_prediction = knn_model.predict(X_test) \n",
    "    print(accuracy_score(y_test, y_prediction))\n",
    "\n",
    "\n"
   ]
  },
  {
   "cell_type": "code",
   "execution_count": 47,
   "metadata": {},
   "outputs": [
    {
     "name": "stdout",
     "output_type": "stream",
     "text": [
      "0.8518518518518519\n"
     ]
    }
   ],
   "source": [
    "#SVC model \n",
    "from sklearn.svm import SVC    \n",
    "from sklearn.preprocessing import MinMaxScaler\n",
    "\n",
    "svc_model = make_pipeline(\n",
    "\n",
    "        SVC(kernel='linear',C=0.001)\n",
    "    )\n",
    "    \n",
    "svc_model.fit(X_train, y_train)\n",
    "y_prediction = svc_model.predict(X_test) \n",
    "print(accuracy_score(y_test, y_prediction))"
   ]
  },
  {
   "cell_type": "code",
   "execution_count": 48,
   "metadata": {},
   "outputs": [
    {
     "name": "stdout",
     "output_type": "stream",
     "text": [
      "MAX SCORE = 0.875 @ variables = 1 (['critic_percent']) & num_clusters = 21\n"
     ]
    }
   ],
   "source": [
    "X = best_vars.drop(columns=['imdb_id','made_profit_y'])\n",
    "y = best_vars['made_profit_y'].values\n",
    "\n",
    "feature_names=X.columns.tolist()\n",
    "X_train, X_test, y_train, y_test = train_test_split(X, y, test_size=0.25)\n",
    "ARR=[]\n",
    "max_config=[]\n",
    "def hyper_parametre(n,kmax):\n",
    "    max_score=0.0\n",
    "    for i in range(1,n+1):\n",
    "        f_list=feature_names[:i]\n",
    "        #print(\"f_list=\",f_list)\n",
    "        x = X_train[f_list]\n",
    "        x_test=X_test[f_list]\n",
    "        ar=[]\n",
    "        for j in range(1,kmax+1):\n",
    "            knn_model = make_pipeline( KNeighborsClassifier(n_neighbors=j) )\n",
    "            knn_model.fit(x.values, y_train)\n",
    "            y_prediction = knn_model.predict(x_test) \n",
    "            score=accuracy_score(y_test, y_prediction)\n",
    "            if score>max_score:\n",
    "                max_score=score\n",
    "                max_config.append([i,j,f_list])\n",
    "            ar.append(accuracy_score(y_test, y_prediction))\n",
    "        ARR.append(ar)\n",
    "        \n",
    "    return max_score,max_config\n",
    "            \n",
    "mscore,mconfig=hyper_parametre(10,30)        \n",
    "print(\"MAX SCORE = {} @ variables = {} ({}) & num_clusters = {}\".format(mscore,mconfig[-1][0],mconfig[-1][2],mconfig[-1][1]))\n",
    "\n"
   ]
  },
  {
   "cell_type": "code",
   "execution_count": 49,
   "metadata": {},
   "outputs": [
    {
     "data": {
      "text/plain": [
       "<matplotlib.axes._subplots.AxesSubplot at 0x1a20d995f8>"
      ]
     },
     "execution_count": 49,
     "metadata": {},
     "output_type": "execute_result"
    },
    {
     "data": {
      "image/png": "[encoded data removed]",
      "text/plain": [
       "<Figure size 432x288 with 2 Axes>"
      ]
     },
     "metadata": {},
     "output_type": "display_data"
    }
   ],
   "source": [
    "sns.heatmap(ARR)\n",
    "\n"
   ]
  },
  {
   "cell_type": "code",
   "execution_count": 50,
   "metadata": {},
   "outputs": [
    {
     "name": "stdout",
     "output_type": "stream",
     "text": [
      "(0.8586956521739131, [[1, ['critic_percent']]])\n"
     ]
    }
   ],
   "source": [
    "from sklearn.svm import SVC    \n",
    "X = best_vars.drop(columns=['imdb_id','made_profit_y'])\n",
    "y = best_vars['made_profit_y'].values\n",
    "\n",
    "feature_names=X.columns.tolist()\n",
    "X_train, X_test, y_train, y_test = train_test_split(X, y, test_size=0.25)\n",
    "ARR=[]\n",
    "max_config=[]\n",
    "def hyper_parametre(n):\n",
    "    max_score=0.0\n",
    "    for i in range(1,n):\n",
    "        f_list=feature_names[:i]\n",
    "        #print(\"f_list=\",f_list)\n",
    "        x = X_train[f_list]\n",
    "        x_test=X_test[f_list]\n",
    "        ar=[]\n",
    "        from sklearn.svm import SVC    \n",
    "        svc_model = make_pipeline(SVC(kernel='linear',C=0.0001))\n",
    "        svc_model.fit(X_train, y_train)\n",
    "        y_prediction = svc_model.predict(X_test) \n",
    "        score = accuracy_score(y_test, y_prediction)\n",
    "        if score>max_score:\n",
    "            max_score=score\n",
    "            max_config.append([i,f_list])\n",
    "        ar.append(accuracy_score(y_test, y_prediction))\n",
    "        ARR.append(ar)\n",
    "    return max_score,max_config\n",
    "\n",
    "\n",
    "print (hyper_parametre(6))  \n",
    "import seaborn as sns\n",
    "#sns.set()\n",
    "#plt.figure(figsize=(20, 12))\n",
    "#plt.grid(True, color= 'skyblue')\n",
    "#plt.plot(ARR, color = 'red', linewidth = 5.0 ) #\n",
    "\n"
   ]
  },
  {
   "cell_type": "code",
   "execution_count": 51,
   "metadata": {},
   "outputs": [],
   "source": [
    "import seaborn as sns\n",
    "sns.set()\n",
    "\n",
    "# plt.figure(figsize=(20, 12))\n",
    "# plt.grid(True, color= 'skyblue')\n",
    "# plt.plot(ARR, color = 'red', linewidth = 5.0 ) #\n"
   ]
  },
  {
   "cell_type": "code",
   "execution_count": null,
   "metadata": {},
   "outputs": [],
   "source": []
  },
  {
   "cell_type": "code",
   "execution_count": 52,
   "metadata": {},
   "outputs": [],
   "source": [
    "#sns.pairplot(best_vars[best_vars.columns[:15]])"
   ]
  },
  {
   "cell_type": "markdown",
   "metadata": {},
   "source": [
    "## predict made profit using directors and cast , genre and !  \n",
    "\n",
    "\n",
    "\n",
    "\n",
    "## associative rules"
   ]
  },
  {
   "cell_type": "code",
   "execution_count": 53,
   "metadata": {},
   "outputs": [],
   "source": [
    "#np.hstack(wiki_movies['genre']).tolist()\n",
    "df2 = wiki_movies\n",
    "df2 = df2[['imdb_id', 'director']].dropna()\n",
    "from sklearn.feature_extraction.text import CountVectorizer\n",
    "vec=CountVectorizer()\n",
    "df2['director2']=df2.apply(func=lambda row:\" \".join(row['director']),axis=1)\n",
    "df2=pd.DataFrame(vec.fit_transform(df2['director2']).toarray(),columns=vec.get_feature_names()).reset_index()\n"
   ]
  },
  {
   "cell_type": "code",
   "execution_count": 54,
   "metadata": {},
   "outputs": [],
   "source": [
    "wiki_movies[['imdb_id','director']]\n",
    "\n",
    "df2['level_0'] = df2['index'].values\n",
    "\n",
    "df3 = wiki_movies[['imdb_id', 'director']].dropna().reset_index().reset_index()\n",
    "\n",
    "directors = pd.merge(df3, df2, on= 'level_0', how='outer')\n",
    "\n",
    "\n"
   ]
  },
  {
   "cell_type": "code",
   "execution_count": 55,
   "metadata": {},
   "outputs": [],
   "source": [
    "# predict made_profit using Directors, cast. \n",
    "\n",
    "cast_dir = wiki_movies[['imdb_id', 'director', 'cast_member', 'made_profit']].reset_index(drop=True)\n",
    "cast_dir = cast_dir.dropna()\n",
    "\n",
    "m_dir_profit = pd.merge(directors, cast_dir , on= 'imdb_id', how='outer')\n",
    "\n"
   ]
  },
  {
   "cell_type": "code",
   "execution_count": 56,
   "metadata": {},
   "outputs": [
    {
     "name": "stdout",
     "output_type": "stream",
     "text": [
      "0.8082191780821918\n"
     ]
    }
   ],
   "source": [
    "m_dir_profit = m_dir_profit.dropna()\n",
    "\n",
    "X = m_dir_profit.drop(columns=['imdb_id','director_x', 'director_y', 'cast_member']).values\n",
    "y = m_dir_profit['made_profit'].values\n",
    "X_train, X_test, y_train, y_test = train_test_split(X, y, test_size=0.10)\n",
    "\n",
    "from sklearn.neighbors import KNeighborsClassifier \n",
    "knn_model = make_pipeline(\n",
    "    KNeighborsClassifier(n_neighbors=20)\n",
    "    )\n",
    "knn_model.fit(X_train, y_train)\n",
    "y_prediction = knn_model.predict(X_test) \n",
    "print(accuracy_score(y_test, y_prediction))\n",
    "\n",
    "# from sklearn.svm import SVC    \n",
    "# svc_model = make_pipeline(SVC(kernel='linear',C=0.1))\n",
    "# svc_model.fit(X_train, y_train)\n",
    "# y_prediction = svc_model.predict(X_test) \n",
    "# print(accuracy_score(y_test, y_prediction))\n",
    "\n",
    "# It tells that directors are the good indicator of profit. Using data we have. "
   ]
  },
  {
   "cell_type": "code",
   "execution_count": 57,
   "metadata": {},
   "outputs": [],
   "source": [
    "m_dir_profit = m_dir_profit.reset_index(drop = True)\n",
    "m_dir_profit = m_dir_profit.drop(columns=['imdb_id','director_x', 'director_y', 'cast_member', 'imdb_id', 'index_x', 'index_y', 'level_0'])\n",
    "#m_dir_profit.columns\n",
    "\n",
    "\n",
    "d_profit = m_dir_profit.sum(axis = 0)\n",
    "\n",
    "\n",
    "director_list= list(m_dir_profit.columns)\n",
    "data = {'director':director_list,'made_profit':d_profit }\n",
    "Profit_makers = pd.DataFrame(data).reset_index(drop = True)\n",
    "\n",
    "profitable_dirs = Profit_makers[Profit_makers.made_profit >= 2]\n",
    "\n",
    "K = profitable_dirs.sort_values(by='made_profit', ascending=False).reset_index(drop = True)\n",
    "K = K.drop(K.index[0])\n",
    "#sns.K.plot()\n"
   ]
  },
  {
   "cell_type": "code",
   "execution_count": 58,
   "metadata": {},
   "outputs": [
    {
     "name": "stderr",
     "output_type": "stream",
     "text": [
      "/anaconda3/lib/python3.6/site-packages/scipy/stats/stats.py:1713: FutureWarning: Using a non-tuple sequence for multidimensional indexing is deprecated; use `arr[tuple(seq)]` instead of `arr[seq]`. In the future this will be interpreted as an array index, `arr[np.array(seq)]`, which will result either in an error or a different result.\n",
      "  return np.add.reduce(sorted[indexer] * weights, axis=axis) / sumval\n",
      "/anaconda3/lib/python3.6/site-packages/matplotlib/axes/_axes.py:6462: UserWarning: The 'normed' kwarg is deprecated, and has been replaced by the 'density' kwarg.\n",
      "  warnings.warn(\"The 'normed' kwarg is deprecated, and has been \"\n",
      "/anaconda3/lib/python3.6/site-packages/matplotlib/axes/_axes.py:6462: UserWarning: The 'normed' kwarg is deprecated, and has been replaced by the 'density' kwarg.\n",
      "  warnings.warn(\"The 'normed' kwarg is deprecated, and has been \"\n",
      "/anaconda3/lib/python3.6/site-packages/matplotlib/axes/_axes.py:6462: UserWarning: The 'normed' kwarg is deprecated, and has been replaced by the 'density' kwarg.\n",
      "  warnings.warn(\"The 'normed' kwarg is deprecated, and has been \"\n"
     ]
    },
    {
     "data": {
      "text/plain": [
       "<matplotlib.axes._subplots.AxesSubplot at 0x1a213b2e10>"
      ]
     },
     "execution_count": 58,
     "metadata": {},
     "output_type": "execute_result"
    },
    {
     "data": {
      "image/png": "[encoded data removed]",
      "text/plain": [
       "<Figure size 432x288 with 1 Axes>"
      ]
     },
     "metadata": {},
     "output_type": "display_data"
    },
    {
     "data": {
      "image/png": "[encoded data removed]",
      "text/plain": [
       "<Figure size 777.625x720 with 2 Axes>"
      ]
     },
     "metadata": {},
     "output_type": "display_data"
    }
   ],
   "source": [
    "\n",
    "\n",
    "sns.distplot(K['made_profit'], color = 'red')\n",
    "sns.kdeplot(K['made_profit'], color = 'purple' )\n",
    "sns.distplot(K['made_profit'])\n",
    "\n",
    "sns.pairplot(K, hue='made_profit', size=10);\n",
    "\n",
    "sns.distplot(K['made_profit'])\n",
    "\n"
   ]
  },
  {
   "cell_type": "code",
   "execution_count": 59,
   "metadata": {},
   "outputs": [
    {
     "name": "stdout",
     "output_type": "stream",
     "text": [
      "MAX SCORE = 0.8586956521739131 @ variables = 2 (['critic_percent', 'audience_percent']) & num_clusters = 11\n"
     ]
    }
   ],
   "source": [
    "X = best_vars.drop(columns=['imdb_id','made_profit_y'])\n",
    "y = best_vars['made_profit_y'].values\n",
    "\n",
    "feature_names=X.columns.tolist()\n",
    "X_train, X_test, y_train, y_test = train_test_split(X, y, test_size=0.25)\n",
    "ARR=[]\n",
    "max_config=[]\n",
    "def hyper_parametre(n,kmax):\n",
    "    max_score=0.0\n",
    "    for i in range(1,n+1):\n",
    "        f_list=feature_names[:i]\n",
    "        #print(\"f_list=\",f_list)\n",
    "        x = X_train[f_list]\n",
    "        x_test=X_test[f_list]\n",
    "        ar=[]\n",
    "        for j in range(1,kmax+1):\n",
    "            knn_model = make_pipeline( KNeighborsClassifier(n_neighbors=j) )\n",
    "            knn_model.fit(x.values, y_train)\n",
    "            y_prediction = knn_model.predict(x_test) \n",
    "            score=accuracy_score(y_test, y_prediction)\n",
    "            if score>max_score:\n",
    "                max_score=score\n",
    "                max_config.append([i,j,f_list])\n",
    "            ar.append(accuracy_score(y_test, y_prediction))\n",
    "        ARR.append(ar)\n",
    "        \n",
    "    return max_score,max_config\n",
    "            \n",
    "mscore,mconfig=hyper_parametre(10,30)        \n",
    "print(\"MAX SCORE = {} @ variables = {} ({}) & num_clusters = {}\".format(mscore,mconfig[-1][0],mconfig[-1][2],mconfig[-1][1]))\n"
   ]
  },
  {
   "cell_type": "code",
   "execution_count": 70,
   "metadata": {},
   "outputs": [
    {
     "data": {
      "image/png": "[encoded data removed]",
      "text/plain": [
       "<Figure size 504x504 with 1 Axes>"
      ]
     },
     "metadata": {},
     "output_type": "display_data"
    },
    {
     "data": {
      "image/png": "[encoded data removed]",
      "text/plain": [
       "<Figure size 720x720 with 1 Axes>"
      ]
     },
     "metadata": {},
     "output_type": "display_data"
    }
   ],
   "source": [
    "\n",
    "#https://towardsdatascience.com/linear-regression-in-6-lines-of-python-5e1d0cd05b8d\n",
    "k = best_vars_final[[\n",
    " 'audience_percent',\n",
    " 'audience_average']]\n",
    "#sns.pairplot(k)\n",
    "\n",
    "\n",
    "import numpy as np\n",
    "import matplotlib.pyplot as plt  # To visualize\n",
    "import pandas as pd  # To read data\n",
    "from sklearn.linear_model import LinearRegression\n",
    "\n",
    "X = k.iloc[:, 0].values.reshape(-1, 1)  # values converts it into a numpy array\n",
    "Y = k.iloc[:, 1].values.reshape(-1, 1)  # -1 means that calculate the dimension of rows, but have 1 column\n",
    "linear_regressor = LinearRegression()  # create object for the class\n",
    "linear_regressor.fit(X, Y)  # perform linear regression\n",
    "Y_pred = linear_regressor.predict(X) \n",
    "plt.figure(figsize = (7,7))\n",
    "plt.ylabel('Audience Percent')\n",
    "\n",
    "plt.xlabel('Audience Average')\n",
    "plt.scatter(X, Y)\n",
    "plt.plot(X, Y_pred, color='red')\n",
    "plt.show()\n",
    "\n",
    "s = best_vars_final[[\n",
    " 'critic_percent',\n",
    " 'critic_average']]\n",
    "\n",
    "X = s.iloc[:, 0].values.reshape(-1, 1)  # values converts it into a numpy array\n",
    "Y = s.iloc[:, 1].values.reshape(-1, 1)  # -1 means that calculate the dimension of rows, but have 1 column\n",
    "linear_regressor = LinearRegression()  # create object for the class\n",
    "linear_regressor.fit(X, Y)  # perform linear regression\n",
    "Y_pred = linear_regressor.predict(X) \n",
    "plt.figure(figsize = (10,10))\n",
    "plt.scatter(X, Y)\n",
    "plt.plot(X, Y_pred, color='green',alpha = 1.0)\n",
    "plt.show()\n",
    "\n",
    "\n",
    "\n",
    "#sns.pairplot(best_variables.dropna())\n",
    "\n",
    "# X =  .drop(columns=['imdb_id','made_profit_y'])\n",
    "# Y = \n",
    "# X_train, X_test, y_train, y_test = train_test_split(X, y, test_size=0.9)\n",
    "\n",
    "# knn_model = make_pipeline( KNeighborsClassifier(n_neighbors=j) )\n",
    "#             knn_model.fit(x.values, y_train)\n",
    "#             y_prediction = knn_model.predict(x_test) \n",
    "    \n",
    "\n",
    "\n",
    "# wiki_movies['pre_profit'] \n"
   ]
  },
  {
   "cell_type": "code",
   "execution_count": 61,
   "metadata": {},
   "outputs": [
    {
     "data": {
      "text/plain": [
       "<seaborn.axisgrid.PairGrid at 0x1a216f75c0>"
      ]
     },
     "execution_count": 61,
     "metadata": {},
     "output_type": "execute_result"
    },
    {
     "data": {
      "image/png": "[encoded data removed]",
      "text/plain": [
       "<Figure size 540x540 with 12 Axes>"
      ]
     },
     "metadata": {},
     "output_type": "display_data"
    }
   ],
   "source": [
    "# audience ratings vs awards + nominations. \n",
    "\n",
    "df = best_vars_final \n",
    "\n",
    "df['mentions'] = df['num_nominations'] + df['num_awards'] + df['num_oscars']+df['num_golden_globe']+ df['num_bafta'] \n",
    "\n",
    "\n",
    "sns.pairplot(df[['mentions', 'critic_average', 'audience_average']])\n",
    "\n",
    "\n",
    "\n"
   ]
  },
  {
   "cell_type": "code",
   "execution_count": 62,
   "metadata": {},
   "outputs": [
    {
     "data": {
      "image/png": "[encoded data removed]",
      "text/plain": [
       "<Figure size 720x720 with 1 Axes>"
      ]
     },
     "metadata": {},
     "output_type": "display_data"
    },
    {
     "data": {
      "image/png": "[encoded data removed]",
      "text/plain": [
       "<Figure size 720x720 with 1 Axes>"
      ]
     },
     "metadata": {},
     "output_type": "display_data"
    }
   ],
   "source": [
    "s = df[['mentions', 'critic_average', 'audience_average']]\n",
    "import seaborn as sns\n",
    "sns.set()\n",
    "X = s.iloc[:, 0].values.reshape(-1, 1)  # values converts it into a numpy array\n",
    "Y = s.iloc[:, 1].values.reshape(-1, 1)  # -1 means that calculate the dimension of rows, but have 1 column\n",
    "linear_regressor = LinearRegression()  # create object for the class\n",
    "linear_regressor.fit(X, Y)  # perform linear regression\n",
    "\n",
    "Y_pred = linear_regressor.predict(X) \n",
    "import seaborn as sns\n",
    "sns.set()\n",
    "plt.figure(figsize = (10,10))\n",
    "\n",
    "plt.ylabel('Audience Ratings')\n",
    "\n",
    "plt.xlabel('Total Awards and Nominations')\n",
    "plt.scatter(X, Y)\n",
    "\n",
    "plt.plot(X, Y_pred, color='orange',linewidth = 3.0)\n",
    "\n",
    "plt.show()\n",
    "\n",
    "j = df[[ 'critic_average', 'audience_average']]\n",
    "import seaborn as sns\n",
    "sns.set()\n",
    "X = j.iloc[:, 0].values.reshape(-1, 1)  # values converts it into a numpy array\n",
    "Y = j.iloc[:, 1].values.reshape(-1, 1)  # -1 means that calculate the dimension of rows, but have 1 column\n",
    "linear_regressor = LinearRegression()  # create object for the class\n",
    "linear_regressor.fit(X, Y)  # perform linear regression\n",
    "Y_pred = linear_regressor.predict(X) \n",
    "\n",
    "import seaborn as sns\n",
    "sns.set()\n",
    "plt.figure(figsize = (10,10))\n",
    "\n",
    "plt.ylabel('Critic Average')\n",
    "\n",
    "plt.xlabel('Audience Average')\n",
    "plt.scatter(X, Y)\n",
    "\n",
    "plt.plot(X, Y_pred, color='green',linewidth = 3.0)\n",
    "\n",
    "plt.show()\n",
    "\n",
    "\n",
    "\n",
    "\n",
    "\n"
   ]
  },
  {
   "cell_type": "code",
   "execution_count": 63,
   "metadata": {},
   "outputs": [
    {
     "name": "stdout",
     "output_type": "stream",
     "text": [
      "Predicting Profit using audience_avg , crictic_avg, mentions KNN_model\n",
      "0.8641304347826086\n",
      "Predicting Profit using audience_avg , crictic_avg, mentions SVC_model\n",
      "0.8641304347826086\n",
      "Predicting Profit using audience_avg , crictic_avg, mentions Gaussian_model\n",
      "0.8478260869565217\n"
     ]
    }
   ],
   "source": [
    "# Predicting Profit using audience_avg , crictic_avg, mentions\n",
    "\n",
    "df1 = df[['audience_average','critic_average', 'mentions' ]]\n",
    "\n",
    "X = df1.values\n",
    "y = df['made_profit_x'].values\n",
    "X_train, X_test, y_train, y_test = train_test_split(X, y, test_size=0.25)\n",
    "\n",
    "\n",
    "\n",
    "\n",
    "\n",
    "from sklearn.neighbors import KNeighborsClassifier \n",
    "knn_model = make_pipeline(\n",
    "    KNeighborsClassifier(n_neighbors=22)\n",
    "    )\n",
    "knn_model.fit(X_train, y_train)\n",
    "y_prediction = knn_model.predict(X_test) \n",
    "print('Predicting Profit using audience_avg , crictic_avg, mentions KNN_model')\n",
    "\n",
    "print(accuracy_score(y_test, y_prediction))\n",
    "\n",
    "from sklearn.svm import SVC    \n",
    "svc_model = make_pipeline(SVC(kernel='linear',C=0.1))\n",
    "svc_model.fit(X_train, y_train)\n",
    "y_prediction = svc_model.predict(X_test) \n",
    "print('Predicting Profit using audience_avg , crictic_avg, mentions SVC_model')\n",
    "\n",
    "print(accuracy_score(y_test, y_prediction))\n",
    "\n",
    "\n",
    "from sklearn.naive_bayes import GaussianNB\n",
    "bayes_model = GaussianNB()\n",
    "bayes_model.fit(X_train, y_train)\n",
    "\n",
    "y_prediction = bayes_model.predict(X_test) \n",
    "print('Predicting Profit using audience_avg , crictic_avg, mentions Gaussian_model')\n",
    "print(accuracy_score(y_test,y_prediction))\n"
   ]
  },
  {
   "cell_type": "code",
   "execution_count": 67,
   "metadata": {},
   "outputs": [
    {
     "data": {
      "application/vnd.plotly.v1+json": {
       "config": {
        "plotlyServerURL": "https://plot.ly"
       },
       "data": [
        {
         "customdata": [
          [
           7
          ],
          [
           10
          ],
          [
           5
          ],
          [
           8
          ],
          [
           2
          ],
          [
           4
          ],
          [
           2
          ],
          [
           14
          ],
          [
           9
          ],
          [
           5
          ],
          [
           11
          ],
          [
           11
          ],
          [
           12
          ],
          [
           3
          ],
          [
           18
          ],
          [
           11
          ],
          [
           1
          ],
          [
           10
          ],
          [
           12
          ],
          [
           10
          ],
          [
           0
          ],
          [
           6
          ],
          [
           9
          ],
          [
           5
          ],
          [
           3
          ],
          [
           6
          ],
          [
           9
          ],
          [
           9
          ],
          [
           8
          ],
          [
           3
          ],
          [
           11
          ],
          [
           11
          ],
          [
           11
          ],
          [
           2
          ],
          [
           2
          ],
          [
           4
          ],
          [
           3
          ],
          [
           11
          ],
          [
           4
          ],
          [
           6
          ],
          [
           10
          ],
          [
           6
          ],
          [
           12
          ],
          [
           13
          ],
          [
           6
          ],
          [
           6
          ],
          [
           8
          ],
          [
           12
          ],
          [
           14
          ],
          [
           5
          ],
          [
           5
          ],
          [
           16
          ],
          [
           11
          ],
          [
           11
          ],
          [
           5
          ],
          [
           5
          ],
          [
           9
          ],
          [
           4
          ],
          [
           9
          ],
          [
           12
          ],
          [
           7
          ],
          [
           7
          ],
          [
           4
          ],
          [
           12
          ],
          [
           7
          ],
          [
           4
          ],
          [
           11
          ],
          [
           3
          ],
          [
           4
          ],
          [
           18
          ],
          [
           7
          ],
          [
           9
          ],
          [
           13
          ],
          [
           5
          ],
          [
           6
          ],
          [
           5
          ],
          [
           7
          ],
          [
           6
          ],
          [
           7
          ],
          [
           7
          ],
          [
           3
          ],
          [
           0
          ],
          [
           4
          ],
          [
           11
          ],
          [
           7
          ],
          [
           4
          ],
          [
           4
          ],
          [
           6
          ],
          [
           10
          ],
          [
           4
          ],
          [
           10
          ],
          [
           3
          ],
          [
           11
          ],
          [
           9
          ],
          [
           8
          ],
          [
           4
          ],
          [
           12
          ],
          [
           7
          ],
          [
           8
          ],
          [
           10
          ],
          [
           11
          ],
          [
           10
          ],
          [
           15
          ],
          [
           8
          ],
          [
           5
          ],
          [
           8
          ],
          [
           9
          ],
          [
           8
          ],
          [
           11
          ],
          [
           0
          ],
          [
           5
          ],
          [
           3
          ],
          [
           6
          ],
          [
           7
          ],
          [
           11
          ],
          [
           7
          ],
          [
           4
          ],
          [
           12
          ],
          [
           10
          ],
          [
           6
          ],
          [
           11
          ],
          [
           8
          ],
          [
           2
          ],
          [
           8
          ],
          [
           9
          ],
          [
           5
          ],
          [
           7
          ],
          [
           9
          ],
          [
           10
          ],
          [
           8
          ],
          [
           6
          ],
          [
           6
          ],
          [
           1
          ],
          [
           7
          ],
          [
           1
          ],
          [
           8
          ],
          [
           3
          ],
          [
           10
          ],
          [
           0
          ],
          [
           8
          ],
          [
           6
          ],
          [
           11
          ],
          [
           4
          ],
          [
           8
          ],
          [
           12
          ],
          [
           6
          ],
          [
           4
          ],
          [
           3
          ],
          [
           0
          ],
          [
           10
          ],
          [
           0
          ],
          [
           17
          ],
          [
           0
          ],
          [
           3
          ],
          [
           4
          ],
          [
           1
          ],
          [
           8
          ],
          [
           10
          ],
          [
           12
          ],
          [
           6
          ],
          [
           19
          ],
          [
           5
          ],
          [
           10
          ],
          [
           13
          ],
          [
           13
          ],
          [
           11
          ],
          [
           0
          ],
          [
           5
          ],
          [
           3
          ],
          [
           12
          ],
          [
           5
          ],
          [
           5
          ],
          [
           5
          ],
          [
           3
          ],
          [
           10
          ],
          [
           7
          ],
          [
           11
          ],
          [
           7
          ],
          [
           11
          ],
          [
           11
          ],
          [
           8
          ],
          [
           6
          ],
          [
           8
          ],
          [
           8
          ],
          [
           8
          ],
          [
           14
          ],
          [
           7
          ],
          [
           6
          ],
          [
           11
          ],
          [
           6
          ],
          [
           10
          ],
          [
           2
          ],
          [
           10
          ],
          [
           0
          ],
          [
           4
          ],
          [
           6
          ],
          [
           3
          ],
          [
           12
          ],
          [
           4
          ],
          [
           10
          ],
          [
           9
          ],
          [
           6
          ],
          [
           16
          ],
          [
           7
          ],
          [
           8
          ],
          [
           2
          ],
          [
           7
          ],
          [
           4
          ],
          [
           8
          ],
          [
           4
          ],
          [
           5
          ],
          [
           5
          ],
          [
           6
          ],
          [
           3
          ],
          [
           5
          ],
          [
           7
          ],
          [
           12
          ],
          [
           4
          ],
          [
           8
          ],
          [
           8
          ],
          [
           3
          ],
          [
           3
          ],
          [
           9
          ],
          [
           19
          ],
          [
           2
          ],
          [
           8
          ],
          [
           0
          ],
          [
           9
          ],
          [
           5
          ],
          [
           8
          ],
          [
           8
          ],
          [
           6
          ],
          [
           14
          ],
          [
           6
          ],
          [
           13
          ],
          [
           8
          ],
          [
           9
          ],
          [
           7
          ],
          [
           4
          ],
          [
           7
          ],
          [
           0
          ],
          [
           7
          ],
          [
           10
          ],
          [
           6
          ],
          [
           4
          ],
          [
           8
          ],
          [
           2
          ],
          [
           14
          ],
          [
           5
          ],
          [
           4
          ],
          [
           5
          ],
          [
           4
          ],
          [
           2
          ],
          [
           5
          ],
          [
           10
          ],
          [
           11
          ],
          [
           3
          ],
          [
           5
          ],
          [
           11
          ],
          [
           8
          ],
          [
           5
          ],
          [
           2
          ],
          [
           5
          ],
          [
           2
          ],
          [
           0
          ],
          [
           1
          ],
          [
           9
          ],
          [
           6
          ],
          [
           5
          ],
          [
           7
          ],
          [
           4
          ],
          [
           7
          ],
          [
           3
          ],
          [
           3
          ],
          [
           3
          ],
          [
           0
          ],
          [
           0
          ],
          [
           5
          ],
          [
           2
          ],
          [
           7
          ],
          [
           5
          ],
          [
           0
          ],
          [
           5
          ],
          [
           0
          ],
          [
           13
          ],
          [
           8
          ],
          [
           3
          ],
          [
           0
          ],
          [
           12
          ],
          [
           0
          ],
          [
           7
          ],
          [
           8
          ],
          [
           8
          ],
          [
           3
          ],
          [
           9
          ],
          [
           9
          ],
          [
           6
          ],
          [
           10
          ],
          [
           13
          ],
          [
           8
          ],
          [
           10
          ],
          [
           6
          ],
          [
           3
          ],
          [
           8
          ],
          [
           1
          ],
          [
           5
          ],
          [
           12
          ],
          [
           3
          ],
          [
           6
          ],
          [
           5
          ],
          [
           2
          ],
          [
           5
          ],
          [
           9
          ],
          [
           7
          ],
          [
           0
          ],
          [
           9
          ],
          [
           6
          ],
          [
           7
          ],
          [
           11
          ],
          [
           9
          ],
          [
           0
          ],
          [
           12
          ],
          [
           10
          ],
          [
           13
          ],
          [
           9
          ],
          [
           4
          ],
          [
           7
          ],
          [
           4
          ],
          [
           10
          ],
          [
           8
          ],
          [
           8
          ],
          [
           2
          ],
          [
           3
          ],
          [
           10
          ],
          [
           2
          ],
          [
           16
          ],
          [
           10
          ],
          [
           5
          ],
          [
           4
          ],
          [
           9
          ],
          [
           8
          ],
          [
           11
          ],
          [
           2
          ],
          [
           3
          ],
          [
           7
          ],
          [
           0
          ],
          [
           6
          ],
          [
           0
          ],
          [
           13
          ],
          [
           5
          ],
          [
           13
          ],
          [
           3
          ],
          [
           1
          ],
          [
           3
          ],
          [
           1
          ],
          [
           6
          ],
          [
           10
          ],
          [
           6
          ],
          [
           7
          ],
          [
           6
          ],
          [
           7
          ],
          [
           9
          ],
          [
           8
          ],
          [
           13
          ],
          [
           9
          ],
          [
           9
          ],
          [
           1
          ],
          [
           5
          ],
          [
           0
          ],
          [
           4
          ],
          [
           1
          ],
          [
           2
          ],
          [
           8
          ],
          [
           7
          ],
          [
           15
          ],
          [
           10
          ],
          [
           4
          ],
          [
           11
          ],
          [
           3
          ],
          [
           9
          ],
          [
           10
          ],
          [
           10
          ],
          [
           8
          ],
          [
           10
          ],
          [
           7
          ],
          [
           6
          ],
          [
           3
          ],
          [
           0
          ],
          [
           7
          ],
          [
           6
          ],
          [
           9
          ],
          [
           10
          ],
          [
           0
          ],
          [
           8
          ],
          [
           7
          ],
          [
           9
          ],
          [
           5
          ],
          [
           10
          ],
          [
           7
          ],
          [
           0
          ],
          [
           10
          ],
          [
           0
          ],
          [
           3
          ],
          [
           11
          ],
          [
           9
          ],
          [
           0
          ],
          [
           12
          ],
          [
           0
          ],
          [
           14
          ],
          [
           14
          ],
          [
           4
          ],
          [
           5
          ],
          [
           8
          ],
          [
           0
          ],
          [
           16
          ],
          [
           14
          ],
          [
           13
          ],
          [
           3
          ],
          [
           4
          ],
          [
           16
          ],
          [
           6
          ],
          [
           7
          ],
          [
           9
          ],
          [
           3
          ],
          [
           2
          ],
          [
           0
          ],
          [
           2
          ],
          [
           9
          ],
          [
           10
          ],
          [
           7
          ],
          [
           9
          ],
          [
           6
          ],
          [
           8
          ],
          [
           4
          ],
          [
           7
          ],
          [
           3
          ],
          [
           2
          ],
          [
           7
          ],
          [
           7
          ],
          [
           14
          ],
          [
           2
          ],
          [
           8
          ],
          [
           11
          ],
          [
           6
          ],
          [
           0
          ],
          [
           7
          ],
          [
           6
          ],
          [
           7
          ],
          [
           5
          ],
          [
           4
          ],
          [
           6
          ],
          [
           6
          ],
          [
           3
          ],
          [
           2
          ],
          [
           0
          ],
          [
           2
          ],
          [
           6
          ],
          [
           5
          ],
          [
           6
          ],
          [
           4
          ],
          [
           9
          ],
          [
           2
          ],
          [
           6
          ],
          [
           0
          ],
          [
           7
          ],
          [
           0
          ],
          [
           4
          ],
          [
           9
          ],
          [
           0
          ],
          [
           0
          ],
          [
           8
          ],
          [
           13
          ],
          [
           7
          ],
          [
           10
          ],
          [
           4
          ],
          [
           12
          ],
          [
           7
          ],
          [
           8
          ],
          [
           11
          ],
          [
           6
          ],
          [
           7
          ],
          [
           11
          ],
          [
           4
          ],
          [
           0
          ],
          [
           7
          ],
          [
           8
          ],
          [
           7
          ],
          [
           9
          ],
          [
           6
          ],
          [
           5
          ],
          [
           7
          ],
          [
           0
          ],
          [
           6
          ],
          [
           4
          ],
          [
           1
          ],
          [
           11
          ],
          [
           0
          ],
          [
           11
          ],
          [
           4
          ],
          [
           17
          ],
          [
           8
          ],
          [
           0
          ],
          [
           7
          ],
          [
           7
          ],
          [
           0
          ],
          [
           0
          ],
          [
           11
          ],
          [
           1
          ],
          [
           9
          ],
          [
           0
          ],
          [
           1
          ],
          [
           10
          ],
          [
           7
          ],
          [
           5
          ],
          [
           4
          ],
          [
           14
          ],
          [
           0
          ],
          [
           3
          ],
          [
           6
          ],
          [
           7
          ],
          [
           1
          ],
          [
           2
          ],
          [
           0
          ],
          [
           6
          ],
          [
           0
          ],
          [
           11
          ],
          [
           17
          ],
          [
           10
          ],
          [
           0
          ],
          [
           2
          ],
          [
           9
          ],
          [
           7
          ],
          [
           6
          ],
          [
           12
          ],
          [
           4
          ],
          [
           4
          ],
          [
           17
          ],
          [
           0
          ],
          [
           0
          ],
          [
           5
          ],
          [
           7
          ],
          [
           5
          ],
          [
           9
          ],
          [
           8
          ],
          [
           4
          ],
          [
           3
          ],
          [
           5
          ],
          [
           2
          ],
          [
           0
          ],
          [
           0
          ],
          [
           3
          ],
          [
           6
          ],
          [
           0
          ],
          [
           6
          ],
          [
           11
          ],
          [
           0
          ],
          [
           7
          ],
          [
           14
          ],
          [
           3
          ],
          [
           7
          ],
          [
           0
          ],
          [
           3
          ],
          [
           2
          ],
          [
           9
          ],
          [
           8
          ],
          [
           4
          ],
          [
           5
          ],
          [
           10
          ],
          [
           0
          ],
          [
           5
          ],
          [
           2
          ],
          [
           8
          ],
          [
           9
          ],
          [
           14
          ],
          [
           7
          ],
          [
           0
          ],
          [
           0
          ],
          [
           12
          ],
          [
           6
          ],
          [
           0
          ],
          [
           0
          ],
          [
           5
          ],
          [
           2
          ],
          [
           9
          ],
          [
           0
          ],
          [
           0
          ],
          [
           12
          ],
          [
           14
          ],
          [
           3
          ],
          [
           3
          ],
          [
           12
          ],
          [
           7
          ],
          [
           6
          ],
          [
           5
          ],
          [
           5
          ],
          [
           6
          ],
          [
           6
          ],
          [
           12
          ],
          [
           6
          ],
          [
           7
          ],
          [
           9
          ],
          [
           13
          ],
          [
           0
          ],
          [
           5
          ],
          [
           4
          ],
          [
           4
          ],
          [
           5
          ],
          [
           5
          ],
          [
           7
          ],
          [
           4
          ],
          [
           4
          ],
          [
           6
          ],
          [
           2
          ],
          [
           11
          ],
          [
           14
          ],
          [
           11
          ],
          [
           0
          ],
          [
           14
          ],
          [
           12
          ],
          [
           6
          ],
          [
           15
          ],
          [
           0
          ],
          [
           4
          ],
          [
           4
          ],
          [
           2
          ],
          [
           11
          ],
          [
           9
          ],
          [
           10
          ],
          [
           2
          ],
          [
           12
          ],
          [
           8
          ],
          [
           3
          ],
          [
           2
          ],
          [
           9
          ],
          [
           5
          ],
          [
           2
          ],
          [
           2
          ],
          [
           0
          ],
          [
           0
          ],
          [
           0
          ],
          [
           0
          ],
          [
           3
          ],
          [
           5
          ],
          [
           4
          ],
          [
           7
          ],
          [
           6
          ],
          [
           3
          ],
          [
           8
          ],
          [
           12
          ],
          [
           14
          ],
          [
           4
          ],
          [
           5
          ],
          [
           2
          ],
          [
           8
          ],
          [
           2
          ],
          [
           3
          ],
          [
           4
          ],
          [
           4
          ],
          [
           3
          ],
          [
           4
          ],
          [
           0
          ],
          [
           4
          ],
          [
           5
          ],
          [
           2
          ],
          [
           5
          ],
          [
           0
          ],
          [
           0
          ],
          [
           15
          ],
          [
           9
          ],
          [
           2
          ],
          [
           2
          ],
          [
           4
          ],
          [
           8
          ],
          [
           6
          ],
          [
           9
          ],
          [
           0
          ],
          [
           5
          ],
          [
           0
          ],
          [
           0
          ],
          [
           11
          ],
          [
           7
          ],
          [
           10
          ],
          [
           0
          ],
          [
           7
          ],
          [
           0
          ],
          [
           2
          ],
          [
           11
          ],
          [
           2
          ],
          [
           7
          ],
          [
           10
          ],
          [
           3
          ],
          [
           7
          ],
          [
           4
          ],
          [
           6
          ],
          [
           2
          ],
          [
           6
          ],
          [
           4
          ],
          [
           8
          ],
          [
           4
          ],
          [
           5
          ],
          [
           6
          ],
          [
           9
          ],
          [
           6
          ],
          [
           4
          ],
          [
           10
          ],
          [
           1
          ],
          [
           10
          ],
          [
           0
          ],
          [
           8
          ],
          [
           6
          ],
          [
           2
          ],
          [
           9
          ],
          [
           7
          ],
          [
           6
          ],
          [
           2
          ],
          [
           0
          ],
          [
           9
          ],
          [
           8
          ],
          [
           7
          ],
          [
           9
          ],
          [
           2
          ],
          [
           0
          ],
          [
           12
          ],
          [
           0
          ],
          [
           2
          ],
          [
           12
          ],
          [
           2
          ],
          [
           0
          ],
          [
           15
          ],
          [
           3
          ],
          [
           0
          ],
          [
           8
          ],
          [
           0
          ],
          [
           2
          ],
          [
           7
          ]
         ],
         "hoverlabel": {
          "namelength": 0
         },
         "hovertemplate": "mentions=%{marker.color}<br>audience_average=%{y}<br>critic_average=%{marker.size}",
         "legendgroup": "",
         "marker": {
          "color": [
           7,
           10,
           5,
           8,
           2,
           4,
           2,
           14,
           9,
           5,
           11,
           11,
           12,
           3,
           18,
           11,
           1,
           10,
           12,
           10,
           0,
           6,
           9,
           5,
           3,
           6,
           9,
           9,
           8,
           3,
           11,
           11,
           11,
           2,
           2,
           4,
           3,
           11,
           4,
           6,
           10,
           6,
           12,
           13,
           6,
           6,
           8,
           12,
           14,
           5,
           5,
           16,
           11,
           11,
           5,
           5,
           9,
           4,
           9,
           12,
           7,
           7,
           4,
           12,
           7,
           4,
           11,
           3,
           4,
           18,
           7,
           9,
           13,
           5,
           6,
           5,
           7,
           6,
           7,
           7,
           3,
           0,
           4,
           11,
           7,
           4,
           4,
           6,
           10,
           4,
           10,
           3,
           11,
           9,
           8,
           4,
           12,
           7,
           8,
           10,
           11,
           10,
           15,
           8,
           5,
           8,
           9,
           8,
           11,
           0,
           5,
           3,
           6,
           7,
           11,
           7,
           4,
           12,
           10,
           6,
           11,
           8,
           2,
           8,
           9,
           5,
           7,
           9,
           10,
           8,
           6,
           6,
           1,
           7,
           1,
           8,
           3,
           10,
           0,
           8,
           6,
           11,
           4,
           8,
           12,
           6,
           4,
           3,
           0,
           10,
           0,
           17,
           0,
           3,
           4,
           1,
           8,
           10,
           12,
           6,
           19,
           5,
           10,
           13,
           13,
           11,
           0,
           5,
           3,
           12,
           5,
           5,
           5,
           3,
           10,
           7,
           11,
           7,
           11,
           11,
           8,
           6,
           8,
           8,
           8,
           14,
           7,
           6,
           11,
           6,
           10,
           2,
           10,
           0,
           4,
           6,
           3,
           12,
           4,
           10,
           9,
           6,
           16,
           7,
           8,
           2,
           7,
           4,
           8,
           4,
           5,
           5,
           6,
           3,
           5,
           7,
           12,
           4,
           8,
           8,
           3,
           3,
           9,
           19,
           2,
           8,
           0,
           9,
           5,
           8,
           8,
           6,
           14,
           6,
           13,
           8,
           9,
           7,
           4,
           7,
           0,
           7,
           10,
           6,
           4,
           8,
           2,
           14,
           5,
           4,
           5,
           4,
           2,
           5,
           10,
           11,
           3,
           5,
           11,
           8,
           5,
           2,
           5,
           2,
           0,
           1,
           9,
           6,
           5,
           7,
           4,
           7,
           3,
           3,
           3,
           0,
           0,
           5,
           2,
           7,
           5,
           0,
           5,
           0,
           13,
           8,
           3,
           0,
           12,
           0,
           7,
           8,
           8,
           3,
           9,
           9,
           6,
           10,
           13,
           8,
           10,
           6,
           3,
           8,
           1,
           5,
           12,
           3,
           6,
           5,
           2,
           5,
           9,
           7,
           0,
           9,
           6,
           7,
           11,
           9,
           0,
           12,
           10,
           13,
           9,
           4,
           7,
           4,
           10,
           8,
           8,
           2,
           3,
           10,
           2,
           16,
           10,
           5,
           4,
           9,
           8,
           11,
           2,
           3,
           7,
           0,
           6,
           0,
           13,
           5,
           13,
           3,
           1,
           3,
           1,
           6,
           10,
           6,
           7,
           6,
           7,
           9,
           8,
           13,
           9,
           9,
           1,
           5,
           0,
           4,
           1,
           2,
           8,
           7,
           15,
           10,
           4,
           11,
           3,
           9,
           10,
           10,
           8,
           10,
           7,
           6,
           3,
           0,
           7,
           6,
           9,
           10,
           0,
           8,
           7,
           9,
           5,
           10,
           7,
           0,
           10,
           0,
           3,
           11,
           9,
           0,
           12,
           0,
           14,
           14,
           4,
           5,
           8,
           0,
           16,
           14,
           13,
           3,
           4,
           16,
           6,
           7,
           9,
           3,
           2,
           0,
           2,
           9,
           10,
           7,
           9,
           6,
           8,
           4,
           7,
           3,
           2,
           7,
           7,
           14,
           2,
           8,
           11,
           6,
           0,
           7,
           6,
           7,
           5,
           4,
           6,
           6,
           3,
           2,
           0,
           2,
           6,
           5,
           6,
           4,
           9,
           2,
           6,
           0,
           7,
           0,
           4,
           9,
           0,
           0,
           8,
           13,
           7,
           10,
           4,
           12,
           7,
           8,
           11,
           6,
           7,
           11,
           4,
           0,
           7,
           8,
           7,
           9,
           6,
           5,
           7,
           0,
           6,
           4,
           1,
           11,
           0,
           11,
           4,
           17,
           8,
           0,
           7,
           7,
           0,
           0,
           11,
           1,
           9,
           0,
           1,
           10,
           7,
           5,
           4,
           14,
           0,
           3,
           6,
           7,
           1,
           2,
           0,
           6,
           0,
           11,
           17,
           10,
           0,
           2,
           9,
           7,
           6,
           12,
           4,
           4,
           17,
           0,
           0,
           5,
           7,
           5,
           9,
           8,
           4,
           3,
           5,
           2,
           0,
           0,
           3,
           6,
           0,
           6,
           11,
           0,
           7,
           14,
           3,
           7,
           0,
           3,
           2,
           9,
           8,
           4,
           5,
           10,
           0,
           5,
           2,
           8,
           9,
           14,
           7,
           0,
           0,
           12,
           6,
           0,
           0,
           5,
           2,
           9,
           0,
           0,
           12,
           14,
           3,
           3,
           12,
           7,
           6,
           5,
           5,
           6,
           6,
           12,
           6,
           7,
           9,
           13,
           0,
           5,
           4,
           4,
           5,
           5,
           7,
           4,
           4,
           6,
           2,
           11,
           14,
           11,
           0,
           14,
           12,
           6,
           15,
           0,
           4,
           4,
           2,
           11,
           9,
           10,
           2,
           12,
           8,
           3,
           2,
           9,
           5,
           2,
           2,
           0,
           0,
           0,
           0,
           3,
           5,
           4,
           7,
           6,
           3,
           8,
           12,
           14,
           4,
           5,
           2,
           8,
           2,
           3,
           4,
           4,
           3,
           4,
           0,
           4,
           5,
           2,
           5,
           0,
           0,
           15,
           9,
           2,
           2,
           4,
           8,
           6,
           9,
           0,
           5,
           0,
           0,
           11,
           7,
           10,
           0,
           7,
           0,
           2,
           11,
           2,
           7,
           10,
           3,
           7,
           4,
           6,
           2,
           6,
           4,
           8,
           4,
           5,
           6,
           9,
           6,
           4,
           10,
           1,
           10,
           0,
           8,
           6,
           2,
           9,
           7,
           6,
           2,
           0,
           9,
           8,
           7,
           9,
           2,
           0,
           12,
           0,
           2,
           12,
           2,
           0,
           15,
           3,
           0,
           8,
           0,
           2,
           7
          ],
          "coloraxis": "coloraxis",
          "size": [
           4.3,
           7.6,
           7.4,
           5.7,
           6.2,
           8.5,
           9.2,
           8.7,
           6,
           6.2,
           7.8,
           7.6,
           9.1,
           7.8,
           7.2,
           7.6,
           5.3,
           7.7,
           6.8,
           8,
           5.1,
           6.9,
           6.8,
           6.9,
           5.5,
           8.2,
           7.8,
           7.1,
           5.5,
           8.7,
           5.1,
           8.2,
           6.5,
           4.1,
           5.5,
           8.5,
           7.2,
           6.7,
           8.9,
           8.7,
           7.1,
           8.5,
           6.3,
           7.5,
           7.1,
           7.2,
           7.5,
           8.8,
           7.7,
           7.2,
           5.5,
           7.2,
           8.2,
           6,
           7.7,
           6.6,
           8.2,
           5.5,
           7.1,
           9.1,
           7.7,
           7.5,
           4.9,
           8.2,
           4.8,
           5.7,
           7.5,
           4.9,
           6.5,
           9.2,
           4,
           6.8,
           6,
           3.9,
           6.7,
           8,
           8.4,
           6.3,
           6.9,
           7.2,
           4.8,
           3.8,
           8.5,
           6.5,
           5.4,
           5,
           8.5,
           8.8,
           8.6,
           7.8,
           8.1,
           7.3,
           6.7,
           5.8,
           7.2,
           5,
           7.7,
           3,
           7.7,
           5.7,
           8.2,
           8.9,
           7.8,
           7.7,
           3.4,
           8.2,
           7.8,
           7.7,
           7.7,
           7.4,
           6.7,
           5.9,
           6.7,
           8.8,
           7.3,
           5.3,
           8.2,
           7.5,
           6.8,
           7.4,
           7.1,
           5.2,
           6.6,
           5.6,
           4.8,
           5.4,
           8.4,
           7.2,
           2.8,
           7.8,
           7.9,
           7.7,
           6.4,
           7.4,
           5.9,
           8,
           4.6,
           7.9,
           5.4,
           7.5,
           5.4,
           8.2,
           4.8,
           8,
           5,
           6.5,
           5.3,
           7.2,
           3.6,
           6.4,
           5.3,
           6.2,
           5,
           5.6,
           6.1,
           6.5,
           3.8,
           7.1,
           7.9,
           7.6,
           8.6,
           5,
           6.9,
           6.3,
           8.6,
           8.1,
           5.5,
           7.4,
           5.1,
           3.5,
           9,
           9,
           6.2,
           3.7,
           6.3,
           6.7,
           7.1,
           5.9,
           6.6,
           7.9,
           7.5,
           6,
           6.9,
           6,
           7.3,
           7.5,
           8.1,
           4.1,
           8.8,
           5.6,
           8.3,
           3.8,
           7.8,
           7.3,
           5.6,
           6.7,
           8.3,
           8.4,
           5.4,
           6.6,
           8.4,
           7.8,
           7.7,
           6.8,
           7.3,
           8.9,
           2.3,
           6,
           3.7,
           7.7,
           8,
           5.1,
           4.5,
           4.6,
           5,
           8.4,
           7.8,
           4.3,
           7,
           6.6,
           4.4,
           8.7,
           6.7,
           9,
           7,
           6.9,
           5.2,
           4.6,
           7.5,
           8.3,
           5.4,
           7.3,
           7.5,
           2.2,
           7.4,
           4.6,
           5.8,
           7.4,
           4.3,
           9.3,
           4.2,
           7.8,
           8.1,
           5.2,
           2.1,
           7.4,
           3.6,
           5.7,
           8,
           6.3,
           7.1,
           8.2,
           4.8,
           8,
           6.6,
           7.5,
           4.5,
           5.8,
           3.9,
           8.9,
           4.6,
           4,
           6.8,
           3.6,
           5.9,
           6.1,
           5.5,
           4.1,
           6.1,
           7.7,
           7.8,
           8.3,
           5.1,
           7.7,
           5.6,
           3.8,
           5.1,
           5.4,
           4.1,
           6.1,
           6.5,
           5.4,
           6.2,
           4,
           7,
           6.2,
           7.4,
           4.8,
           7,
           4.8,
           7.3,
           6.3,
           7.6,
           6.1,
           7.6,
           8,
           4.8,
           7.4,
           5.3,
           7.4,
           8.4,
           7,
           7.4,
           5.7,
           5.9,
           7.4,
           8.2,
           4.7,
           6.8,
           7,
           7.8,
           6.8,
           6.5,
           7.1,
           5.8,
           5,
           4.5,
           7.1,
           7.5,
           8,
           5.4,
           6.9,
           7,
           8.6,
           8.7,
           4.7,
           7.2,
           5.9,
           8.7,
           8.4,
           7.4,
           6.6,
           7.8,
           7,
           4.6,
           6.8,
           7,
           5,
           7.4,
           6.8,
           2.7,
           6.5,
           4.4,
           4.4,
           7,
           4.8,
           5,
           4.7,
           6.9,
           6.7,
           7.1,
           7.8,
           4,
           7.1,
           5.2,
           6,
           8.2,
           7.2,
           6.7,
           8.7,
           6.7,
           6.5,
           7.2,
           5.2,
           7.1,
           7,
           3.3,
           7,
           3.8,
           8,
           6.9,
           8.3,
           6,
           6.9,
           5.7,
           6.4,
           4.2,
           7.1,
           4.3,
           8.1,
           6.4,
           6.6,
           4.9,
           9,
           5.2,
           3.7,
           5.3,
           3.7,
           9,
           6.9,
           6.2,
           5.3,
           6.4,
           6.7,
           7.7,
           8.5,
           8.2,
           8.4,
           5.4,
           5.8,
           6.4,
           4.7,
           5.5,
           8.1,
           6.1,
           5.3,
           8.7,
           5.4,
           7.6,
           7.8,
           7.3,
           3.3,
           5.7,
           4.5,
           9.3,
           6.4,
           8.4,
           6.9,
           6,
           6.9,
           5.5,
           5.7,
           8.4,
           6.4,
           6.7,
           6.9,
           6.4,
           5.6,
           6.1,
           7.5,
           6.4,
           4.4,
           5.3,
           4.6,
           5.5,
           7,
           7.7,
           7,
           5.9,
           8.7,
           4.6,
           8.6,
           5,
           5.3,
           3.5,
           8,
           6,
           8,
           8,
           5.8,
           5.4,
           5.6,
           5.5,
           7.1,
           5.9,
           3.9,
           6.9,
           8.1,
           6.8,
           5.8,
           7.1,
           4,
           7.3,
           4,
           7.3,
           4.2,
           5.7,
           4.7,
           4.6,
           2.7,
           5.5,
           6.4,
           4.9,
           5.9,
           6.8,
           7.7,
           5.2,
           6.7,
           7.5,
           5.2,
           6.8,
           7,
           6.4,
           1,
           7.5,
           7,
           7,
           7.5,
           4.9,
           6.3,
           6.2,
           4.4,
           6.5,
           6.3,
           5.5,
           8.2,
           5.1,
           7.5,
           7.1,
           6.7,
           7.4,
           5.4,
           5.1,
           8.7,
           4.8,
           5.2,
           8.4,
           6.9,
           6.1,
           5.9,
           7.7,
           7.5,
           5.4,
           7.5,
           7.9,
           7,
           4,
           7.2,
           5.9,
           4.9,
           7.7,
           5.8,
           4,
           7.5,
           3.5,
           6.7,
           8.7,
           9,
           6.4,
           7.3,
           4.4,
           5.2,
           2.6,
           5.5,
           5.3,
           7.7,
           5.1,
           4.7,
           4.6,
           6.7,
           8.6,
           5.9,
           7.8,
           7.3,
           7.3,
           5.8,
           8.8,
           6.5,
           5.5,
           2.9,
           6.2,
           5.8,
           5.4,
           3.5,
           7.6,
           4,
           9,
           6.3,
           6.2,
           6.1,
           5.8,
           5.7,
           7.7,
           6.5,
           7.7,
           7.2,
           4.6,
           8.6,
           2.9,
           6.4,
           5.5,
           3.4,
           8.3,
           8.1,
           7.4,
           4.4,
           6.9,
           7.9,
           5.2,
           5.9,
           3.7,
           4.8,
           5.3,
           8.2,
           7,
           5.5,
           5.6,
           5.4,
           6.1,
           9.1,
           6.3,
           5.8,
           6.7,
           7.3,
           4.2,
           4,
           8.9,
           6.1,
           6.3,
           8.4,
           7.9,
           7.7,
           4.2,
           8.2,
           7.9,
           8.8,
           7.1,
           6.3,
           5.7,
           7.3,
           4.7,
           7.4,
           6.9,
           4.5,
           7.8,
           6.5,
           2.7,
           8.9,
           8.1,
           7.6,
           8.4,
           3.3,
           4.8,
           4.7,
           8.3,
           7.5,
           8.5,
           6.7,
           5.1,
           8.6,
           5.6,
           7.3,
           4.2,
           6,
           7.6,
           6,
           4.9,
           4.1,
           4.7,
           5.4,
           6.2,
           5.9,
           5.5,
           4.8,
           5.8,
           7,
           7.2,
           8.6,
           5.5,
           7.8,
           6.9,
           5.9,
           3.8,
           7.9,
           3.4,
           6.9,
           7.1,
           6.8,
           4.8,
           7.6,
           6.9,
           4.9,
           6.4,
           6,
           6.4,
           4,
           4.9,
           5.5,
           6.4,
           5.4,
           6.5,
           9,
           6.3,
           7,
           8.7,
           8.1,
           6.1,
           4.5,
           5.2,
           5.3,
           6.8,
           7.8,
           4.8,
           6,
           3,
           4.3,
           8.1,
           8.2,
           5.7,
           6.6,
           5,
           7.2,
           7.2,
           6,
           4.3,
           5,
           7.2,
           8.7,
           5,
           4.8,
           6.8,
           8.6,
           6,
           6.5,
           6.2,
           6.2,
           4.4,
           7.3,
           6.2,
           7.7,
           6,
           7.1,
           3.9,
           9,
           5.5,
           3.7,
           5.5,
           7.7,
           8.7,
           2.2,
           3.5,
           4.6,
           6.6,
           5.2,
           5.7,
           4.6,
           5,
           6.3,
           7,
           4.5,
           4.5,
           7,
           3.5,
           6.3,
           7.7
          ],
          "sizemode": "area",
          "sizeref": 0.023250000000000003,
          "symbol": "circle"
         },
         "mode": "markers",
         "name": "",
         "showlegend": false,
         "type": "scatter",
         "x": [
          7,
          10,
          5,
          8,
          2,
          4,
          2,
          14,
          9,
          5,
          11,
          11,
          12,
          3,
          18,
          11,
          1,
          10,
          12,
          10,
          0,
          6,
          9,
          5,
          3,
          6,
          9,
          9,
          8,
          3,
          11,
          11,
          11,
          2,
          2,
          4,
          3,
          11,
          4,
          6,
          10,
          6,
          12,
          13,
          6,
          6,
          8,
          12,
          14,
          5,
          5,
          16,
          11,
          11,
          5,
          5,
          9,
          4,
          9,
          12,
          7,
          7,
          4,
          12,
          7,
          4,
          11,
          3,
          4,
          18,
          7,
          9,
          13,
          5,
          6,
          5,
          7,
          6,
          7,
          7,
          3,
          0,
          4,
          11,
          7,
          4,
          4,
          6,
          10,
          4,
          10,
          3,
          11,
          9,
          8,
          4,
          12,
          7,
          8,
          10,
          11,
          10,
          15,
          8,
          5,
          8,
          9,
          8,
          11,
          0,
          5,
          3,
          6,
          7,
          11,
          7,
          4,
          12,
          10,
          6,
          11,
          8,
          2,
          8,
          9,
          5,
          7,
          9,
          10,
          8,
          6,
          6,
          1,
          7,
          1,
          8,
          3,
          10,
          0,
          8,
          6,
          11,
          4,
          8,
          12,
          6,
          4,
          3,
          0,
          10,
          0,
          17,
          0,
          3,
          4,
          1,
          8,
          10,
          12,
          6,
          19,
          5,
          10,
          13,
          13,
          11,
          0,
          5,
          3,
          12,
          5,
          5,
          5,
          3,
          10,
          7,
          11,
          7,
          11,
          11,
          8,
          6,
          8,
          8,
          8,
          14,
          7,
          6,
          11,
          6,
          10,
          2,
          10,
          0,
          4,
          6,
          3,
          12,
          4,
          10,
          9,
          6,
          16,
          7,
          8,
          2,
          7,
          4,
          8,
          4,
          5,
          5,
          6,
          3,
          5,
          7,
          12,
          4,
          8,
          8,
          3,
          3,
          9,
          19,
          2,
          8,
          0,
          9,
          5,
          8,
          8,
          6,
          14,
          6,
          13,
          8,
          9,
          7,
          4,
          7,
          0,
          7,
          10,
          6,
          4,
          8,
          2,
          14,
          5,
          4,
          5,
          4,
          2,
          5,
          10,
          11,
          3,
          5,
          11,
          8,
          5,
          2,
          5,
          2,
          0,
          1,
          9,
          6,
          5,
          7,
          4,
          7,
          3,
          3,
          3,
          0,
          0,
          5,
          2,
          7,
          5,
          0,
          5,
          0,
          13,
          8,
          3,
          0,
          12,
          0,
          7,
          8,
          8,
          3,
          9,
          9,
          6,
          10,
          13,
          8,
          10,
          6,
          3,
          8,
          1,
          5,
          12,
          3,
          6,
          5,
          2,
          5,
          9,
          7,
          0,
          9,
          6,
          7,
          11,
          9,
          0,
          12,
          10,
          13,
          9,
          4,
          7,
          4,
          10,
          8,
          8,
          2,
          3,
          10,
          2,
          16,
          10,
          5,
          4,
          9,
          8,
          11,
          2,
          3,
          7,
          0,
          6,
          0,
          13,
          5,
          13,
          3,
          1,
          3,
          1,
          6,
          10,
          6,
          7,
          6,
          7,
          9,
          8,
          13,
          9,
          9,
          1,
          5,
          0,
          4,
          1,
          2,
          8,
          7,
          15,
          10,
          4,
          11,
          3,
          9,
          10,
          10,
          8,
          10,
          7,
          6,
          3,
          0,
          7,
          6,
          9,
          10,
          0,
          8,
          7,
          9,
          5,
          10,
          7,
          0,
          10,
          0,
          3,
          11,
          9,
          0,
          12,
          0,
          14,
          14,
          4,
          5,
          8,
          0,
          16,
          14,
          13,
          3,
          4,
          16,
          6,
          7,
          9,
          3,
          2,
          0,
          2,
          9,
          10,
          7,
          9,
          6,
          8,
          4,
          7,
          3,
          2,
          7,
          7,
          14,
          2,
          8,
          11,
          6,
          0,
          7,
          6,
          7,
          5,
          4,
          6,
          6,
          3,
          2,
          0,
          2,
          6,
          5,
          6,
          4,
          9,
          2,
          6,
          0,
          7,
          0,
          4,
          9,
          0,
          0,
          8,
          13,
          7,
          10,
          4,
          12,
          7,
          8,
          11,
          6,
          7,
          11,
          4,
          0,
          7,
          8,
          7,
          9,
          6,
          5,
          7,
          0,
          6,
          4,
          1,
          11,
          0,
          11,
          4,
          17,
          8,
          0,
          7,
          7,
          0,
          0,
          11,
          1,
          9,
          0,
          1,
          10,
          7,
          5,
          4,
          14,
          0,
          3,
          6,
          7,
          1,
          2,
          0,
          6,
          0,
          11,
          17,
          10,
          0,
          2,
          9,
          7,
          6,
          12,
          4,
          4,
          17,
          0,
          0,
          5,
          7,
          5,
          9,
          8,
          4,
          3,
          5,
          2,
          0,
          0,
          3,
          6,
          0,
          6,
          11,
          0,
          7,
          14,
          3,
          7,
          0,
          3,
          2,
          9,
          8,
          4,
          5,
          10,
          0,
          5,
          2,
          8,
          9,
          14,
          7,
          0,
          0,
          12,
          6,
          0,
          0,
          5,
          2,
          9,
          0,
          0,
          12,
          14,
          3,
          3,
          12,
          7,
          6,
          5,
          5,
          6,
          6,
          12,
          6,
          7,
          9,
          13,
          0,
          5,
          4,
          4,
          5,
          5,
          7,
          4,
          4,
          6,
          2,
          11,
          14,
          11,
          0,
          14,
          12,
          6,
          15,
          0,
          4,
          4,
          2,
          11,
          9,
          10,
          2,
          12,
          8,
          3,
          2,
          9,
          5,
          2,
          2,
          0,
          0,
          0,
          0,
          3,
          5,
          4,
          7,
          6,
          3,
          8,
          12,
          14,
          4,
          5,
          2,
          8,
          2,
          3,
          4,
          4,
          3,
          4,
          0,
          4,
          5,
          2,
          5,
          0,
          0,
          15,
          9,
          2,
          2,
          4,
          8,
          6,
          9,
          0,
          5,
          0,
          0,
          11,
          7,
          10,
          0,
          7,
          0,
          2,
          11,
          2,
          7,
          10,
          3,
          7,
          4,
          6,
          2,
          6,
          4,
          8,
          4,
          5,
          6,
          9,
          6,
          4,
          10,
          1,
          10,
          0,
          8,
          6,
          2,
          9,
          7,
          6,
          2,
          0,
          9,
          8,
          7,
          9,
          2,
          0,
          12,
          0,
          2,
          12,
          2,
          0,
          15,
          3,
          0,
          8,
          0,
          2,
          7
         ],
         "xaxis": "x",
         "y": [
          3.3,
          4.3,
          4.2,
          3.5,
          3.4,
          4,
          3.8,
          4.1,
          3.9,
          3.7,
          4.3,
          4.1,
          4.2,
          4.1,
          3.9,
          3.6,
          3.3,
          4.2,
          4.1,
          4.4,
          3.2,
          3.9,
          3.9,
          3.3,
          2.9,
          4.1,
          3.6,
          3.5,
          3.3,
          3.7,
          3.3,
          4.1,
          4.1,
          2.7,
          2.9,
          4.1,
          3.2,
          3.2,
          3.7,
          4,
          3.2,
          3.7,
          3.9,
          4.1,
          4,
          3,
          4.2,
          3.6,
          4.2,
          4.2,
          2.7,
          4.1,
          4.3,
          3.3,
          4.2,
          3.1,
          4.1,
          4.1,
          3.4,
          4.2,
          4.3,
          4.1,
          3.5,
          3.8,
          3.4,
          3.3,
          3,
          3.4,
          3.6,
          3.9,
          3.4,
          2.8,
          3.5,
          2.8,
          4.1,
          4.3,
          3.5,
          3.8,
          3.9,
          3.5,
          3.1,
          2.9,
          4.2,
          3.6,
          3,
          3.4,
          4.1,
          3.4,
          4.2,
          3.2,
          4.4,
          3.3,
          4,
          3.1,
          3.4,
          3.5,
          3.4,
          2.1,
          4.1,
          3.5,
          3.4,
          4.3,
          3.5,
          3.9,
          3.1,
          3.6,
          4,
          3.9,
          3.8,
          4.5,
          3.9,
          3.5,
          3.3,
          4.2,
          3.2,
          3.4,
          3.4,
          4.1,
          4,
          3.9,
          3.9,
          3.4,
          3.5,
          3.3,
          3,
          3,
          4.1,
          3.5,
          2.9,
          3.5,
          4.3,
          3.7,
          3.7,
          3.7,
          3.5,
          3.4,
          3.2,
          4.2,
          3.5,
          3.8,
          2.5,
          4.4,
          2.7,
          4.3,
          3.7,
          3.4,
          3.6,
          4,
          3.6,
          3.2,
          3.1,
          3.5,
          3.1,
          2.9,
          3.7,
          3.4,
          3.6,
          4,
          4.1,
          4.3,
          4,
          3.2,
          3.3,
          3.6,
          4.1,
          4.1,
          2.7,
          4,
          3.4,
          2.1,
          4.1,
          3.8,
          3.9,
          3,
          3.7,
          3.3,
          3.3,
          3.4,
          3.9,
          4.2,
          4.1,
          3.7,
          3.6,
          4.4,
          3.8,
          3.6,
          4.2,
          3.3,
          4.2,
          2.8,
          4,
          2.4,
          4.1,
          3.5,
          3,
          4.1,
          3.3,
          3.5,
          2.9,
          3.4,
          3.6,
          3.4,
          4.4,
          3.4,
          4.1,
          3.8,
          2.6,
          3.1,
          2.9,
          3.6,
          4,
          3.4,
          3.4,
          3.3,
          3.2,
          3.8,
          3.8,
          2.6,
          4,
          3.4,
          2.6,
          3.8,
          4,
          4.3,
          3.5,
          4.1,
          3.1,
          3.1,
          3.7,
          3.6,
          2.6,
          4.3,
          4.1,
          2.8,
          3.8,
          2.9,
          3.7,
          3.5,
          3.2,
          4.4,
          2.5,
          3.7,
          3.6,
          2.9,
          2.6,
          3.9,
          2.8,
          3.1,
          4,
          4,
          3.7,
          4.1,
          3.2,
          3.8,
          3.7,
          4.2,
          2.9,
          3.5,
          3,
          4.3,
          3.3,
          2.9,
          3.5,
          2.5,
          2.8,
          3.4,
          3.7,
          3,
          4.3,
          4.3,
          3.7,
          3.5,
          3.3,
          2.6,
          3.4,
          2.8,
          3,
          3.6,
          2.7,
          3.7,
          4,
          3.5,
          3.6,
          2.7,
          3.7,
          3.6,
          4.1,
          2.8,
          3.5,
          3.1,
          3.8,
          3.4,
          3.8,
          3.5,
          3.7,
          4.3,
          3.3,
          3.5,
          2.9,
          3.3,
          4,
          3.9,
          3.9,
          3.9,
          3.4,
          3.5,
          4.1,
          2.6,
          3.4,
          3.9,
          4,
          3.2,
          3.6,
          3.4,
          3.9,
          3.1,
          3.5,
          3.5,
          4.2,
          3.3,
          3,
          4,
          3.6,
          4.1,
          4.3,
          2.5,
          4.3,
          2.8,
          4.1,
          4,
          3.7,
          3,
          3.7,
          3.3,
          3.3,
          3.5,
          3.2,
          3.1,
          3.9,
          3.5,
          2.5,
          3.7,
          3,
          3.2,
          3.8,
          3,
          3.3,
          3,
          3.9,
          3.6,
          3.6,
          4,
          3,
          3.4,
          3.7,
          3.3,
          3.8,
          3.7,
          4.3,
          3.9,
          3.6,
          3.3,
          4.1,
          2.6,
          3.7,
          3.9,
          3,
          4.1,
          2.9,
          3.7,
          3.5,
          4.2,
          3.4,
          4,
          3.3,
          3.4,
          2.8,
          3.7,
          3,
          3.4,
          3.5,
          3.1,
          3.1,
          4,
          3.2,
          3,
          3.4,
          3.2,
          4.3,
          3.8,
          3.4,
          3.5,
          3.8,
          3.6,
          3.2,
          4.1,
          3.4,
          3.6,
          3.4,
          3.2,
          3.7,
          3.3,
          2.7,
          4.1,
          3.2,
          3.3,
          3.9,
          3,
          4.4,
          3.9,
          3.8,
          3,
          3,
          3.2,
          4,
          3.7,
          4.2,
          3.4,
          3.4,
          3.5,
          3.4,
          3.1,
          4.1,
          3.3,
          3.6,
          4,
          3.3,
          3.1,
          3.1,
          3.9,
          3.5,
          2.8,
          3.4,
          3.2,
          3.3,
          4.3,
          3.9,
          3.9,
          2.9,
          3.9,
          3.5,
          4.1,
          3.5,
          2.8,
          3.5,
          4.1,
          3.5,
          3.7,
          4.2,
          3.6,
          3.2,
          3.3,
          3.3,
          3.5,
          3.2,
          3.3,
          4.1,
          4,
          3.2,
          3.1,
          3.8,
          3.1,
          4.1,
          3.4,
          3.7,
          2.9,
          3.3,
          3.1,
          2.7,
          2.2,
          3.2,
          3.6,
          3.8,
          2.9,
          4.1,
          4,
          3.2,
          3.8,
          3.8,
          3.1,
          3.6,
          4.3,
          3.2,
          1.5,
          4.1,
          4.2,
          3.6,
          3.8,
          2.9,
          3.1,
          3.6,
          3.1,
          3.8,
          3.5,
          3.2,
          3.5,
          3.1,
          3.8,
          4,
          3.7,
          2.8,
          3,
          2.6,
          4,
          2.9,
          2.7,
          4.1,
          3.7,
          3.8,
          3.1,
          3.3,
          3.5,
          3,
          3.7,
          4.3,
          3.8,
          2.9,
          4,
          3.6,
          3.2,
          3.5,
          3.5,
          2.8,
          4,
          2.8,
          3.5,
          3.8,
          4.1,
          3.2,
          3.2,
          3.2,
          3.3,
          2.6,
          3,
          2.9,
          3.9,
          2.9,
          3.5,
          3,
          3.9,
          3.9,
          3,
          3.9,
          4,
          4.1,
          3,
          3.9,
          3.5,
          3.1,
          2.7,
          3.6,
          2.9,
          4.2,
          3,
          3.6,
          2.9,
          4,
          3.7,
          3.3,
          3.4,
          2.8,
          3.3,
          3.8,
          3.9,
          3.5,
          2.9,
          3.3,
          4.2,
          2.8,
          3.3,
          3.3,
          2.9,
          4,
          3.8,
          3.6,
          2.9,
          3.7,
          3.5,
          3.4,
          2.5,
          2.7,
          2.7,
          3.1,
          3.6,
          3.4,
          3.2,
          3.8,
          3.2,
          3.4,
          4.4,
          3.5,
          3.3,
          3.5,
          4,
          4.1,
          2.6,
          4.1,
          3.6,
          3.7,
          4,
          3.9,
          3.9,
          2.5,
          4,
          3.5,
          4.3,
          3.3,
          3.5,
          3.6,
          3.7,
          2.8,
          3.5,
          3.8,
          3.3,
          3.4,
          3.1,
          2.2,
          3.9,
          3.8,
          4.1,
          4,
          2.3,
          2.9,
          3.1,
          3.9,
          3.7,
          4,
          3.7,
          2.5,
          4.5,
          3.2,
          3.3,
          3.1,
          2.8,
          3.7,
          3.3,
          3,
          3,
          3.1,
          3.2,
          4,
          3.7,
          3,
          4.3,
          3.8,
          3.6,
          3.6,
          3.6,
          3.3,
          4.1,
          3.7,
          3.3,
          3.1,
          3.4,
          3,
          3.6,
          4.1,
          3.4,
          3.9,
          3.8,
          3.6,
          3.3,
          3.7,
          3.1,
          3.4,
          2.5,
          3.3,
          3.7,
          3.8,
          3.4,
          3.3,
          4.3,
          3.2,
          3.6,
          4.2,
          4.2,
          4.1,
          2.9,
          2.9,
          3.6,
          3.6,
          3.2,
          2.9,
          3,
          3.1,
          3,
          3.4,
          3.9,
          3.8,
          3.7,
          2.8,
          4.1,
          3.8,
          3.5,
          3.2,
          3.1,
          4,
          4,
          2.7,
          3.9,
          3.5,
          4,
          3.5,
          3.4,
          3.1,
          3.5,
          2.9,
          3.4,
          3.6,
          3.8,
          3.4,
          3.8,
          2.6,
          3.7,
          3.1,
          3.1,
          3.7,
          2.8,
          4,
          2.1,
          2.7,
          3.8,
          3.5,
          3.2,
          3.4,
          3.2,
          2.9,
          2.9,
          3.7,
          3.2,
          3.1,
          3.6,
          3.4,
          3.5,
          4
         ],
         "yaxis": "y"
        }
       ],
       "layout": {
        "coloraxis": {
         "colorbar": {
          "title": {
           "text": "mentions"
          }
         },
         "colorscale": [
          [
           0,
           "#0d0887"
          ],
          [
           0.1111111111111111,
           "#46039f"
          ],
          [
           0.2222222222222222,
           "#7201a8"
          ],
          [
           0.3333333333333333,
           "#9c179e"
          ],
          [
           0.4444444444444444,
           "#bd3786"
          ],
          [
           0.5555555555555556,
           "#d8576b"
          ],
          [
           0.6666666666666666,
           "#ed7953"
          ],
          [
           0.7777777777777778,
           "#fb9f3a"
          ],
          [
           0.8888888888888888,
           "#fdca26"
          ],
          [
           1,
           "#f0f921"
          ]
         ]
        },
        "height": 600,
        "legend": {
         "itemsizing": "constant",
         "tracegroupgap": 0
        },
        "margin": {
         "t": 60
        },
        "template": {
         "data": {
          "bar": [
           {
            "error_x": {
             "color": "#2a3f5f"
            },
            "error_y": {
             "color": "#2a3f5f"
            },
            "marker": {
             "line": {
              "color": "#E5ECF6",
              "width": 0.5
             }
            },
            "type": "bar"
           }
          ],
          "barpolar": [
           {
            "marker": {
             "line": {
              "color": "#E5ECF6",
              "width": 0.5
             }
            },
            "type": "barpolar"
           }
          ],
          "carpet": [
           {
            "aaxis": {
             "endlinecolor": "#2a3f5f",
             "gridcolor": "white",
             "linecolor": "white",
             "minorgridcolor": "white",
             "startlinecolor": "#2a3f5f"
            },
            "baxis": {
             "endlinecolor": "#2a3f5f",
             "gridcolor": "white",
             "linecolor": "white",
             "minorgridcolor": "white",
             "startlinecolor": "#2a3f5f"
            },
            "type": "carpet"
           }
          ],
          "choropleth": [
           {
            "colorbar": {
             "outlinewidth": 0,
             "ticks": ""
            },
            "type": "choropleth"
           }
          ],
          "contour": [
           {
            "colorbar": {
             "outlinewidth": 0,
             "ticks": ""
            },
            "colorscale": [
             [
              0,
              "#0d0887"
             ],
             [
              0.1111111111111111,
              "#46039f"
             ],
             [
              0.2222222222222222,
              "#7201a8"
             ],
             [
              0.3333333333333333,
              "#9c179e"
             ],
             [
              0.4444444444444444,
              "#bd3786"
             ],
             [
              0.5555555555555556,
              "#d8576b"
             ],
             [
              0.6666666666666666,
              "#ed7953"
             ],
             [
              0.7777777777777778,
              "#fb9f3a"
             ],
             [
              0.8888888888888888,
              "#fdca26"
             ],
             [
              1,
              "#f0f921"
             ]
            ],
            "type": "contour"
           }
          ],
          "contourcarpet": [
           {
            "colorbar": {
             "outlinewidth": 0,
             "ticks": ""
            },
            "type": "contourcarpet"
           }
          ],
          "heatmap": [
           {
            "colorbar": {
             "outlinewidth": 0,
             "ticks": ""
            },
            "colorscale": [
             [
              0,
              "#0d0887"
             ],
             [
              0.1111111111111111,
              "#46039f"
             ],
             [
              0.2222222222222222,
              "#7201a8"
             ],
             [
              0.3333333333333333,
              "#9c179e"
             ],
             [
              0.4444444444444444,
              "#bd3786"
             ],
             [
              0.5555555555555556,
              "#d8576b"
             ],
             [
              0.6666666666666666,
              "#ed7953"
             ],
             [
              0.7777777777777778,
              "#fb9f3a"
             ],
             [
              0.8888888888888888,
              "#fdca26"
             ],
             [
              1,
              "#f0f921"
             ]
            ],
            "type": "heatmap"
           }
          ],
          "heatmapgl": [
           {
            "colorbar": {
             "outlinewidth": 0,
             "ticks": ""
            },
            "colorscale": [
             [
              0,
              "#0d0887"
             ],
             [
              0.1111111111111111,
              "#46039f"
             ],
             [
              0.2222222222222222,
              "#7201a8"
             ],
             [
              0.3333333333333333,
              "#9c179e"
             ],
             [
              0.4444444444444444,
              "#bd3786"
             ],
             [
              0.5555555555555556,
              "#d8576b"
             ],
             [
              0.6666666666666666,
              "#ed7953"
             ],
             [
              0.7777777777777778,
              "#fb9f3a"
             ],
             [
              0.8888888888888888,
              "#fdca26"
             ],
             [
              1,
              "#f0f921"
             ]
            ],
            "type": "heatmapgl"
           }
          ],
          "histogram": [
           {
            "marker": {
             "colorbar": {
              "outlinewidth": 0,
              "ticks": ""
             }
            },
            "type": "histogram"
           }
          ],
          "histogram2d": [
           {
            "colorbar": {
             "outlinewidth": 0,
             "ticks": ""
            },
            "colorscale": [
             [
              0,
              "#0d0887"
             ],
             [
              0.1111111111111111,
              "#46039f"
             ],
             [
              0.2222222222222222,
              "#7201a8"
             ],
             [
              0.3333333333333333,
              "#9c179e"
             ],
             [
              0.4444444444444444,
              "#bd3786"
             ],
             [
              0.5555555555555556,
              "#d8576b"
             ],
             [
              0.6666666666666666,
              "#ed7953"
             ],
             [
              0.7777777777777778,
              "#fb9f3a"
             ],
             [
              0.8888888888888888,
              "#fdca26"
             ],
             [
              1,
              "#f0f921"
             ]
            ],
            "type": "histogram2d"
           }
          ],
          "histogram2dcontour": [
           {
            "colorbar": {
             "outlinewidth": 0,
             "ticks": ""
            },
            "colorscale": [
             [
              0,
              "#0d0887"
             ],
             [
              0.1111111111111111,
              "#46039f"
             ],
             [
              0.2222222222222222,
              "#7201a8"
             ],
             [
              0.3333333333333333,
              "#9c179e"
             ],
             [
              0.4444444444444444,
              "#bd3786"
             ],
             [
              0.5555555555555556,
              "#d8576b"
             ],
             [
              0.6666666666666666,
              "#ed7953"
             ],
             [
              0.7777777777777778,
              "#fb9f3a"
             ],
             [
              0.8888888888888888,
              "#fdca26"
             ],
             [
              1,
              "#f0f921"
             ]
            ],
            "type": "histogram2dcontour"
           }
          ],
          "mesh3d": [
           {
            "colorbar": {
             "outlinewidth": 0,
             "ticks": ""
            },
            "type": "mesh3d"
           }
          ],
          "parcoords": [
           {
            "line": {
             "colorbar": {
              "outlinewidth": 0,
              "ticks": ""
             }
            },
            "type": "parcoords"
           }
          ],
          "scatter": [
           {
            "marker": {
             "colorbar": {
              "outlinewidth": 0,
              "ticks": ""
             }
            },
            "type": "scatter"
           }
          ],
          "scatter3d": [
           {
            "line": {
             "colorbar": {
              "outlinewidth": 0,
              "ticks": ""
             }
            },
            "marker": {
             "colorbar": {
              "outlinewidth": 0,
              "ticks": ""
             }
            },
            "type": "scatter3d"
           }
          ],
          "scattercarpet": [
           {
            "marker": {
             "colorbar": {
              "outlinewidth": 0,
              "ticks": ""
             }
            },
            "type": "scattercarpet"
           }
          ],
          "scattergeo": [
           {
            "marker": {
             "colorbar": {
              "outlinewidth": 0,
              "ticks": ""
             }
            },
            "type": "scattergeo"
           }
          ],
          "scattergl": [
           {
            "marker": {
             "colorbar": {
              "outlinewidth": 0,
              "ticks": ""
             }
            },
            "type": "scattergl"
           }
          ],
          "scattermapbox": [
           {
            "marker": {
             "colorbar": {
              "outlinewidth": 0,
              "ticks": ""
             }
            },
            "type": "scattermapbox"
           }
          ],
          "scatterpolar": [
           {
            "marker": {
             "colorbar": {
              "outlinewidth": 0,
              "ticks": ""
             }
            },
            "type": "scatterpolar"
           }
          ],
          "scatterpolargl": [
           {
            "marker": {
             "colorbar": {
              "outlinewidth": 0,
              "ticks": ""
             }
            },
            "type": "scatterpolargl"
           }
          ],
          "scatterternary": [
           {
            "marker": {
             "colorbar": {
              "outlinewidth": 0,
              "ticks": ""
             }
            },
            "type": "scatterternary"
           }
          ],
          "surface": [
           {
            "colorbar": {
             "outlinewidth": 0,
             "ticks": ""
            },
            "colorscale": [
             [
              0,
              "#0d0887"
             ],
             [
              0.1111111111111111,
              "#46039f"
             ],
             [
              0.2222222222222222,
              "#7201a8"
             ],
             [
              0.3333333333333333,
              "#9c179e"
             ],
             [
              0.4444444444444444,
              "#bd3786"
             ],
             [
              0.5555555555555556,
              "#d8576b"
             ],
             [
              0.6666666666666666,
              "#ed7953"
             ],
             [
              0.7777777777777778,
              "#fb9f3a"
             ],
             [
              0.8888888888888888,
              "#fdca26"
             ],
             [
              1,
              "#f0f921"
             ]
            ],
            "type": "surface"
           }
          ],
          "table": [
           {
            "cells": {
             "fill": {
              "color": "#EBF0F8"
             },
             "line": {
              "color": "white"
             }
            },
            "header": {
             "fill": {
              "color": "#C8D4E3"
             },
             "line": {
              "color": "white"
             }
            },
            "type": "table"
           }
          ]
         },
         "layout": {
          "annotationdefaults": {
           "arrowcolor": "#2a3f5f",
           "arrowhead": 0,
           "arrowwidth": 1
          },
          "colorscale": {
           "diverging": [
            [
             0,
             "#8e0152"
            ],
            [
             0.1,
             "#c51b7d"
            ],
            [
             0.2,
             "#de77ae"
            ],
            [
             0.3,
             "#f1b6da"
            ],
            [
             0.4,
             "#fde0ef"
            ],
            [
             0.5,
             "#f7f7f7"
            ],
            [
             0.6,
             "#e6f5d0"
            ],
            [
             0.7,
             "#b8e186"
            ],
            [
             0.8,
             "#7fbc41"
            ],
            [
             0.9,
             "#4d9221"
            ],
            [
             1,
             "#276419"
            ]
           ],
           "sequential": [
            [
             0,
             "#0d0887"
            ],
            [
             0.1111111111111111,
             "#46039f"
            ],
            [
             0.2222222222222222,
             "#7201a8"
            ],
            [
             0.3333333333333333,
             "#9c179e"
            ],
            [
             0.4444444444444444,
             "#bd3786"
            ],
            [
             0.5555555555555556,
             "#d8576b"
            ],
            [
             0.6666666666666666,
             "#ed7953"
            ],
            [
             0.7777777777777778,
             "#fb9f3a"
            ],
            [
             0.8888888888888888,
             "#fdca26"
            ],
            [
             1,
             "#f0f921"
            ]
           ],
           "sequentialminus": [
            [
             0,
             "#0d0887"
            ],
            [
             0.1111111111111111,
             "#46039f"
            ],
            [
             0.2222222222222222,
             "#7201a8"
            ],
            [
             0.3333333333333333,
             "#9c179e"
            ],
            [
             0.4444444444444444,
             "#bd3786"
            ],
            [
             0.5555555555555556,
             "#d8576b"
            ],
            [
             0.6666666666666666,
             "#ed7953"
            ],
            [
             0.7777777777777778,
             "#fb9f3a"
            ],
            [
             0.8888888888888888,
             "#fdca26"
            ],
            [
             1,
             "#f0f921"
            ]
           ]
          },
          "colorway": [
           "#636efa",
           "#EF553B",
           "#00cc96",
           "#ab63fa",
           "#FFA15A",
           "#19d3f3",
           "#FF6692",
           "#B6E880",
           "#FF97FF",
           "#FECB52"
          ],
          "font": {
           "color": "#2a3f5f"
          },
          "geo": {
           "bgcolor": "white",
           "lakecolor": "white",
           "landcolor": "#E5ECF6",
           "showlakes": true,
           "showland": true,
           "subunitcolor": "white"
          },
          "hoverlabel": {
           "align": "left"
          },
          "hovermode": "closest",
          "mapbox": {
           "style": "light"
          },
          "paper_bgcolor": "white",
          "plot_bgcolor": "#E5ECF6",
          "polar": {
           "angularaxis": {
            "gridcolor": "white",
            "linecolor": "white",
            "ticks": ""
           },
           "bgcolor": "#E5ECF6",
           "radialaxis": {
            "gridcolor": "white",
            "linecolor": "white",
            "ticks": ""
           }
          },
          "scene": {
           "xaxis": {
            "backgroundcolor": "#E5ECF6",
            "gridcolor": "white",
            "gridwidth": 2,
            "linecolor": "white",
            "showbackground": true,
            "ticks": "",
            "zerolinecolor": "white"
           },
           "yaxis": {
            "backgroundcolor": "#E5ECF6",
            "gridcolor": "white",
            "gridwidth": 2,
            "linecolor": "white",
            "showbackground": true,
            "ticks": "",
            "zerolinecolor": "white"
           },
           "zaxis": {
            "backgroundcolor": "#E5ECF6",
            "gridcolor": "white",
            "gridwidth": 2,
            "linecolor": "white",
            "showbackground": true,
            "ticks": "",
            "zerolinecolor": "white"
           }
          },
          "shapedefaults": {
           "line": {
            "color": "#2a3f5f"
           }
          },
          "ternary": {
           "aaxis": {
            "gridcolor": "white",
            "linecolor": "white",
            "ticks": ""
           },
           "baxis": {
            "gridcolor": "white",
            "linecolor": "white",
            "ticks": ""
           },
           "bgcolor": "#E5ECF6",
           "caxis": {
            "gridcolor": "white",
            "linecolor": "white",
            "ticks": ""
           }
          },
          "title": {
           "x": 0.05
          },
          "xaxis": {
           "automargin": true,
           "gridcolor": "white",
           "linecolor": "white",
           "ticks": "",
           "zerolinecolor": "white",
           "zerolinewidth": 2
          },
          "yaxis": {
           "automargin": true,
           "gridcolor": "white",
           "linecolor": "white",
           "ticks": "",
           "zerolinecolor": "white",
           "zerolinewidth": 2
          }
         }
        },
        "xaxis": {
         "anchor": "y",
         "domain": [
          0,
          0.98
         ],
         "title": {
          "text": "mentions"
         }
        },
        "yaxis": {
         "anchor": "x",
         "domain": [
          0,
          1
         ],
         "title": {
          "text": "audience_average"
         }
        }
       }
      },
      "text/html": [
       "<div>\n",
       "        \n",
       "        \n",
       "            <div id=\"89d227d6-07c7-4f68-8a16-201886106f25\" class=\"plotly-graph-div\" style=\"height:600px; width:100%;\"></div>\n",
       "            <script type=\"text/javascript\">\n",
       "                require([\"plotly\"], function(Plotly) {\n",
       "                    window.PLOTLYENV=window.PLOTLYENV || {};\n",
       "                    \n",
       "                if (document.getElementById(\"89d227d6-07c7-4f68-8a16-201886106f25\")) {\n",
       "                    Plotly.newPlot(\n",
       "                        '89d227d6-07c7-4f68-8a16-201886106f25',\n",
       "                        [{\"customdata\": [[7.0], [10.0], [5.0], [8.0], [2.0], [4.0], [2.0], [14.0], [9.0], [5.0], [11.0], [11.0], [12.0], [3.0], [18.0], [11.0], [1.0], [10.0], [12.0], [10.0], [0.0], [6.0], [9.0], [5.0], [3.0], [6.0], [9.0], [9.0], [8.0], [3.0], [11.0], [11.0], [11.0], [2.0], [2.0], [4.0], [3.0], [11.0], [4.0], [6.0], [10.0], [6.0], [12.0], [13.0], [6.0], [6.0], [8.0], [12.0], [14.0], [5.0], [5.0], [16.0], [11.0], [11.0], [5.0], [5.0], [9.0], [4.0], [9.0], [12.0], [7.0], [7.0], [4.0], [12.0], [7.0], [4.0], [11.0], [3.0], [4.0], [18.0], [7.0], [9.0], [13.0], [5.0], [6.0], [5.0], [7.0], [6.0], [7.0], [7.0], [3.0], [0.0], [4.0], [11.0], [7.0], [4.0], [4.0], [6.0], [10.0], [4.0], [10.0], [3.0], [11.0], [9.0], [8.0], [4.0], [12.0], [7.0], [8.0], [10.0], [11.0], [10.0], [15.0], [8.0], [5.0], [8.0], [9.0], [8.0], [11.0], [0.0], [5.0], [3.0], [6.0], [7.0], [11.0], [7.0], [4.0], [12.0], [10.0], [6.0], [11.0], [8.0], [2.0], [8.0], [9.0], [5.0], [7.0], [9.0], [10.0], [8.0], [6.0], [6.0], [1.0], [7.0], [1.0], [8.0], [3.0], [10.0], [0.0], [8.0], [6.0], [11.0], [4.0], [8.0], [12.0], [6.0], [4.0], [3.0], [0.0], [10.0], [0.0], [17.0], [0.0], [3.0], [4.0], [1.0], [8.0], [10.0], [12.0], [6.0], [19.0], [5.0], [10.0], [13.0], [13.0], [11.0], [0.0], [5.0], [3.0], [12.0], [5.0], [5.0], [5.0], [3.0], [10.0], [7.0], [11.0], [7.0], [11.0], [11.0], [8.0], [6.0], [8.0], [8.0], [8.0], [14.0], [7.0], [6.0], [11.0], [6.0], [10.0], [2.0], [10.0], [0.0], [4.0], [6.0], [3.0], [12.0], [4.0], [10.0], [9.0], [6.0], [16.0], [7.0], [8.0], [2.0], [7.0], [4.0], [8.0], [4.0], [5.0], [5.0], [6.0], [3.0], [5.0], [7.0], [12.0], [4.0], [8.0], [8.0], [3.0], [3.0], [9.0], [19.0], [2.0], [8.0], [0.0], [9.0], [5.0], [8.0], [8.0], [6.0], [14.0], [6.0], [13.0], [8.0], [9.0], [7.0], [4.0], [7.0], [0.0], [7.0], [10.0], [6.0], [4.0], [8.0], [2.0], [14.0], [5.0], [4.0], [5.0], [4.0], [2.0], [5.0], [10.0], [11.0], [3.0], [5.0], [11.0], [8.0], [5.0], [2.0], [5.0], [2.0], [0.0], [1.0], [9.0], [6.0], [5.0], [7.0], [4.0], [7.0], [3.0], [3.0], [3.0], [0.0], [0.0], [5.0], [2.0], [7.0], [5.0], [0.0], [5.0], [0.0], [13.0], [8.0], [3.0], [0.0], [12.0], [0.0], [7.0], [8.0], [8.0], [3.0], [9.0], [9.0], [6.0], [10.0], [13.0], [8.0], [10.0], [6.0], [3.0], [8.0], [1.0], [5.0], [12.0], [3.0], [6.0], [5.0], [2.0], [5.0], [9.0], [7.0], [0.0], [9.0], [6.0], [7.0], [11.0], [9.0], [0.0], [12.0], [10.0], [13.0], [9.0], [4.0], [7.0], [4.0], [10.0], [8.0], [8.0], [2.0], [3.0], [10.0], [2.0], [16.0], [10.0], [5.0], [4.0], [9.0], [8.0], [11.0], [2.0], [3.0], [7.0], [0.0], [6.0], [0.0], [13.0], [5.0], [13.0], [3.0], [1.0], [3.0], [1.0], [6.0], [10.0], [6.0], [7.0], [6.0], [7.0], [9.0], [8.0], [13.0], [9.0], [9.0], [1.0], [5.0], [0.0], [4.0], [1.0], [2.0], [8.0], [7.0], [15.0], [10.0], [4.0], [11.0], [3.0], [9.0], [10.0], [10.0], [8.0], [10.0], [7.0], [6.0], [3.0], [0.0], [7.0], [6.0], [9.0], [10.0], [0.0], [8.0], [7.0], [9.0], [5.0], [10.0], [7.0], [0.0], [10.0], [0.0], [3.0], [11.0], [9.0], [0.0], [12.0], [0.0], [14.0], [14.0], [4.0], [5.0], [8.0], [0.0], [16.0], [14.0], [13.0], [3.0], [4.0], [16.0], [6.0], [7.0], [9.0], [3.0], [2.0], [0.0], [2.0], [9.0], [10.0], [7.0], [9.0], [6.0], [8.0], [4.0], [7.0], [3.0], [2.0], [7.0], [7.0], [14.0], [2.0], [8.0], [11.0], [6.0], [0.0], [7.0], [6.0], [7.0], [5.0], [4.0], [6.0], [6.0], [3.0], [2.0], [0.0], [2.0], [6.0], [5.0], [6.0], [4.0], [9.0], [2.0], [6.0], [0.0], [7.0], [0.0], [4.0], [9.0], [0.0], [0.0], [8.0], [13.0], [7.0], [10.0], [4.0], [12.0], [7.0], [8.0], [11.0], [6.0], [7.0], [11.0], [4.0], [0.0], [7.0], [8.0], [7.0], [9.0], [6.0], [5.0], [7.0], [0.0], [6.0], [4.0], [1.0], [11.0], [0.0], [11.0], [4.0], [17.0], [8.0], [0.0], [7.0], [7.0], [0.0], [0.0], [11.0], [1.0], [9.0], [0.0], [1.0], [10.0], [7.0], [5.0], [4.0], [14.0], [0.0], [3.0], [6.0], [7.0], [1.0], [2.0], [0.0], [6.0], [0.0], [11.0], [17.0], [10.0], [0.0], [2.0], [9.0], [7.0], [6.0], [12.0], [4.0], [4.0], [17.0], [0.0], [0.0], [5.0], [7.0], [5.0], [9.0], [8.0], [4.0], [3.0], [5.0], [2.0], [0.0], [0.0], [3.0], [6.0], [0.0], [6.0], [11.0], [0.0], [7.0], [14.0], [3.0], [7.0], [0.0], [3.0], [2.0], [9.0], [8.0], [4.0], [5.0], [10.0], [0.0], [5.0], [2.0], [8.0], [9.0], [14.0], [7.0], [0.0], [0.0], [12.0], [6.0], [0.0], [0.0], [5.0], [2.0], [9.0], [0.0], [0.0], [12.0], [14.0], [3.0], [3.0], [12.0], [7.0], [6.0], [5.0], [5.0], [6.0], [6.0], [12.0], [6.0], [7.0], [9.0], [13.0], [0.0], [5.0], [4.0], [4.0], [5.0], [5.0], [7.0], [4.0], [4.0], [6.0], [2.0], [11.0], [14.0], [11.0], [0.0], [14.0], [12.0], [6.0], [15.0], [0.0], [4.0], [4.0], [2.0], [11.0], [9.0], [10.0], [2.0], [12.0], [8.0], [3.0], [2.0], [9.0], [5.0], [2.0], [2.0], [0.0], [0.0], [0.0], [0.0], [3.0], [5.0], [4.0], [7.0], [6.0], [3.0], [8.0], [12.0], [14.0], [4.0], [5.0], [2.0], [8.0], [2.0], [3.0], [4.0], [4.0], [3.0], [4.0], [0.0], [4.0], [5.0], [2.0], [5.0], [0.0], [0.0], [15.0], [9.0], [2.0], [2.0], [4.0], [8.0], [6.0], [9.0], [0.0], [5.0], [0.0], [0.0], [11.0], [7.0], [10.0], [0.0], [7.0], [0.0], [2.0], [11.0], [2.0], [7.0], [10.0], [3.0], [7.0], [4.0], [6.0], [2.0], [6.0], [4.0], [8.0], [4.0], [5.0], [6.0], [9.0], [6.0], [4.0], [10.0], [1.0], [10.0], [0.0], [8.0], [6.0], [2.0], [9.0], [7.0], [6.0], [2.0], [0.0], [9.0], [8.0], [7.0], [9.0], [2.0], [0.0], [12.0], [0.0], [2.0], [12.0], [2.0], [0.0], [15.0], [3.0], [0.0], [8.0], [0.0], [2.0], [7.0]], \"hoverlabel\": {\"namelength\": 0}, \"hovertemplate\": \"mentions=%{marker.color}<br>audience_average=%{y}<br>critic_average=%{marker.size}\", \"legendgroup\": \"\", \"marker\": {\"color\": [7.0, 10.0, 5.0, 8.0, 2.0, 4.0, 2.0, 14.0, 9.0, 5.0, 11.0, 11.0, 12.0, 3.0, 18.0, 11.0, 1.0, 10.0, 12.0, 10.0, 0.0, 6.0, 9.0, 5.0, 3.0, 6.0, 9.0, 9.0, 8.0, 3.0, 11.0, 11.0, 11.0, 2.0, 2.0, 4.0, 3.0, 11.0, 4.0, 6.0, 10.0, 6.0, 12.0, 13.0, 6.0, 6.0, 8.0, 12.0, 14.0, 5.0, 5.0, 16.0, 11.0, 11.0, 5.0, 5.0, 9.0, 4.0, 9.0, 12.0, 7.0, 7.0, 4.0, 12.0, 7.0, 4.0, 11.0, 3.0, 4.0, 18.0, 7.0, 9.0, 13.0, 5.0, 6.0, 5.0, 7.0, 6.0, 7.0, 7.0, 3.0, 0.0, 4.0, 11.0, 7.0, 4.0, 4.0, 6.0, 10.0, 4.0, 10.0, 3.0, 11.0, 9.0, 8.0, 4.0, 12.0, 7.0, 8.0, 10.0, 11.0, 10.0, 15.0, 8.0, 5.0, 8.0, 9.0, 8.0, 11.0, 0.0, 5.0, 3.0, 6.0, 7.0, 11.0, 7.0, 4.0, 12.0, 10.0, 6.0, 11.0, 8.0, 2.0, 8.0, 9.0, 5.0, 7.0, 9.0, 10.0, 8.0, 6.0, 6.0, 1.0, 7.0, 1.0, 8.0, 3.0, 10.0, 0.0, 8.0, 6.0, 11.0, 4.0, 8.0, 12.0, 6.0, 4.0, 3.0, 0.0, 10.0, 0.0, 17.0, 0.0, 3.0, 4.0, 1.0, 8.0, 10.0, 12.0, 6.0, 19.0, 5.0, 10.0, 13.0, 13.0, 11.0, 0.0, 5.0, 3.0, 12.0, 5.0, 5.0, 5.0, 3.0, 10.0, 7.0, 11.0, 7.0, 11.0, 11.0, 8.0, 6.0, 8.0, 8.0, 8.0, 14.0, 7.0, 6.0, 11.0, 6.0, 10.0, 2.0, 10.0, 0.0, 4.0, 6.0, 3.0, 12.0, 4.0, 10.0, 9.0, 6.0, 16.0, 7.0, 8.0, 2.0, 7.0, 4.0, 8.0, 4.0, 5.0, 5.0, 6.0, 3.0, 5.0, 7.0, 12.0, 4.0, 8.0, 8.0, 3.0, 3.0, 9.0, 19.0, 2.0, 8.0, 0.0, 9.0, 5.0, 8.0, 8.0, 6.0, 14.0, 6.0, 13.0, 8.0, 9.0, 7.0, 4.0, 7.0, 0.0, 7.0, 10.0, 6.0, 4.0, 8.0, 2.0, 14.0, 5.0, 4.0, 5.0, 4.0, 2.0, 5.0, 10.0, 11.0, 3.0, 5.0, 11.0, 8.0, 5.0, 2.0, 5.0, 2.0, 0.0, 1.0, 9.0, 6.0, 5.0, 7.0, 4.0, 7.0, 3.0, 3.0, 3.0, 0.0, 0.0, 5.0, 2.0, 7.0, 5.0, 0.0, 5.0, 0.0, 13.0, 8.0, 3.0, 0.0, 12.0, 0.0, 7.0, 8.0, 8.0, 3.0, 9.0, 9.0, 6.0, 10.0, 13.0, 8.0, 10.0, 6.0, 3.0, 8.0, 1.0, 5.0, 12.0, 3.0, 6.0, 5.0, 2.0, 5.0, 9.0, 7.0, 0.0, 9.0, 6.0, 7.0, 11.0, 9.0, 0.0, 12.0, 10.0, 13.0, 9.0, 4.0, 7.0, 4.0, 10.0, 8.0, 8.0, 2.0, 3.0, 10.0, 2.0, 16.0, 10.0, 5.0, 4.0, 9.0, 8.0, 11.0, 2.0, 3.0, 7.0, 0.0, 6.0, 0.0, 13.0, 5.0, 13.0, 3.0, 1.0, 3.0, 1.0, 6.0, 10.0, 6.0, 7.0, 6.0, 7.0, 9.0, 8.0, 13.0, 9.0, 9.0, 1.0, 5.0, 0.0, 4.0, 1.0, 2.0, 8.0, 7.0, 15.0, 10.0, 4.0, 11.0, 3.0, 9.0, 10.0, 10.0, 8.0, 10.0, 7.0, 6.0, 3.0, 0.0, 7.0, 6.0, 9.0, 10.0, 0.0, 8.0, 7.0, 9.0, 5.0, 10.0, 7.0, 0.0, 10.0, 0.0, 3.0, 11.0, 9.0, 0.0, 12.0, 0.0, 14.0, 14.0, 4.0, 5.0, 8.0, 0.0, 16.0, 14.0, 13.0, 3.0, 4.0, 16.0, 6.0, 7.0, 9.0, 3.0, 2.0, 0.0, 2.0, 9.0, 10.0, 7.0, 9.0, 6.0, 8.0, 4.0, 7.0, 3.0, 2.0, 7.0, 7.0, 14.0, 2.0, 8.0, 11.0, 6.0, 0.0, 7.0, 6.0, 7.0, 5.0, 4.0, 6.0, 6.0, 3.0, 2.0, 0.0, 2.0, 6.0, 5.0, 6.0, 4.0, 9.0, 2.0, 6.0, 0.0, 7.0, 0.0, 4.0, 9.0, 0.0, 0.0, 8.0, 13.0, 7.0, 10.0, 4.0, 12.0, 7.0, 8.0, 11.0, 6.0, 7.0, 11.0, 4.0, 0.0, 7.0, 8.0, 7.0, 9.0, 6.0, 5.0, 7.0, 0.0, 6.0, 4.0, 1.0, 11.0, 0.0, 11.0, 4.0, 17.0, 8.0, 0.0, 7.0, 7.0, 0.0, 0.0, 11.0, 1.0, 9.0, 0.0, 1.0, 10.0, 7.0, 5.0, 4.0, 14.0, 0.0, 3.0, 6.0, 7.0, 1.0, 2.0, 0.0, 6.0, 0.0, 11.0, 17.0, 10.0, 0.0, 2.0, 9.0, 7.0, 6.0, 12.0, 4.0, 4.0, 17.0, 0.0, 0.0, 5.0, 7.0, 5.0, 9.0, 8.0, 4.0, 3.0, 5.0, 2.0, 0.0, 0.0, 3.0, 6.0, 0.0, 6.0, 11.0, 0.0, 7.0, 14.0, 3.0, 7.0, 0.0, 3.0, 2.0, 9.0, 8.0, 4.0, 5.0, 10.0, 0.0, 5.0, 2.0, 8.0, 9.0, 14.0, 7.0, 0.0, 0.0, 12.0, 6.0, 0.0, 0.0, 5.0, 2.0, 9.0, 0.0, 0.0, 12.0, 14.0, 3.0, 3.0, 12.0, 7.0, 6.0, 5.0, 5.0, 6.0, 6.0, 12.0, 6.0, 7.0, 9.0, 13.0, 0.0, 5.0, 4.0, 4.0, 5.0, 5.0, 7.0, 4.0, 4.0, 6.0, 2.0, 11.0, 14.0, 11.0, 0.0, 14.0, 12.0, 6.0, 15.0, 0.0, 4.0, 4.0, 2.0, 11.0, 9.0, 10.0, 2.0, 12.0, 8.0, 3.0, 2.0, 9.0, 5.0, 2.0, 2.0, 0.0, 0.0, 0.0, 0.0, 3.0, 5.0, 4.0, 7.0, 6.0, 3.0, 8.0, 12.0, 14.0, 4.0, 5.0, 2.0, 8.0, 2.0, 3.0, 4.0, 4.0, 3.0, 4.0, 0.0, 4.0, 5.0, 2.0, 5.0, 0.0, 0.0, 15.0, 9.0, 2.0, 2.0, 4.0, 8.0, 6.0, 9.0, 0.0, 5.0, 0.0, 0.0, 11.0, 7.0, 10.0, 0.0, 7.0, 0.0, 2.0, 11.0, 2.0, 7.0, 10.0, 3.0, 7.0, 4.0, 6.0, 2.0, 6.0, 4.0, 8.0, 4.0, 5.0, 6.0, 9.0, 6.0, 4.0, 10.0, 1.0, 10.0, 0.0, 8.0, 6.0, 2.0, 9.0, 7.0, 6.0, 2.0, 0.0, 9.0, 8.0, 7.0, 9.0, 2.0, 0.0, 12.0, 0.0, 2.0, 12.0, 2.0, 0.0, 15.0, 3.0, 0.0, 8.0, 0.0, 2.0, 7.0], \"coloraxis\": \"coloraxis\", \"size\": [4.3, 7.6, 7.4, 5.7, 6.2, 8.5, 9.2, 8.7, 6.0, 6.2, 7.8, 7.6, 9.1, 7.8, 7.2, 7.6, 5.3, 7.7, 6.8, 8.0, 5.1, 6.9, 6.8, 6.9, 5.5, 8.2, 7.8, 7.1, 5.5, 8.7, 5.1, 8.2, 6.5, 4.1, 5.5, 8.5, 7.2, 6.7, 8.9, 8.7, 7.1, 8.5, 6.3, 7.5, 7.1, 7.2, 7.5, 8.8, 7.7, 7.2, 5.5, 7.2, 8.2, 6.0, 7.7, 6.6, 8.2, 5.5, 7.1, 9.1, 7.7, 7.5, 4.9, 8.2, 4.8, 5.7, 7.5, 4.9, 6.5, 9.2, 4.0, 6.8, 6.0, 3.9, 6.7, 8.0, 8.4, 6.3, 6.9, 7.2, 4.8, 3.8, 8.5, 6.5, 5.4, 5.0, 8.5, 8.8, 8.6, 7.8, 8.1, 7.3, 6.7, 5.8, 7.2, 5.0, 7.7, 3.0, 7.7, 5.7, 8.2, 8.9, 7.8, 7.7, 3.4, 8.2, 7.8, 7.7, 7.7, 7.4, 6.7, 5.9, 6.7, 8.8, 7.3, 5.3, 8.2, 7.5, 6.8, 7.4, 7.1, 5.2, 6.6, 5.6, 4.8, 5.4, 8.4, 7.2, 2.8, 7.8, 7.9, 7.7, 6.4, 7.4, 5.9, 8.0, 4.6, 7.9, 5.4, 7.5, 5.4, 8.2, 4.8, 8.0, 5.0, 6.5, 5.3, 7.2, 3.6, 6.4, 5.3, 6.2, 5.0, 5.6, 6.1, 6.5, 3.8, 7.1, 7.9, 7.6, 8.6, 5.0, 6.9, 6.3, 8.6, 8.1, 5.5, 7.4, 5.1, 3.5, 9.0, 9.0, 6.2, 3.7, 6.3, 6.7, 7.1, 5.9, 6.6, 7.9, 7.5, 6.0, 6.9, 6.0, 7.3, 7.5, 8.1, 4.1, 8.8, 5.6, 8.3, 3.8, 7.8, 7.3, 5.6, 6.7, 8.3, 8.4, 5.4, 6.6, 8.4, 7.8, 7.7, 6.8, 7.3, 8.9, 2.3, 6.0, 3.7, 7.7, 8.0, 5.1, 4.5, 4.6, 5.0, 8.4, 7.8, 4.3, 7.0, 6.6, 4.4, 8.7, 6.7, 9.0, 7.0, 6.9, 5.2, 4.6, 7.5, 8.3, 5.4, 7.3, 7.5, 2.2, 7.4, 4.6, 5.8, 7.4, 4.3, 9.3, 4.2, 7.8, 8.1, 5.2, 2.1, 7.4, 3.6, 5.7, 8.0, 6.3, 7.1, 8.2, 4.8, 8.0, 6.6, 7.5, 4.5, 5.8, 3.9, 8.9, 4.6, 4.0, 6.8, 3.6, 5.9, 6.1, 5.5, 4.1, 6.1, 7.7, 7.8, 8.3, 5.1, 7.7, 5.6, 3.8, 5.1, 5.4, 4.1, 6.1, 6.5, 5.4, 6.2, 4.0, 7.0, 6.2, 7.4, 4.8, 7.0, 4.8, 7.3, 6.3, 7.6, 6.1, 7.6, 8.0, 4.8, 7.4, 5.3, 7.4, 8.4, 7.0, 7.4, 5.7, 5.9, 7.4, 8.2, 4.7, 6.8, 7.0, 7.8, 6.8, 6.5, 7.1, 5.8, 5.0, 4.5, 7.1, 7.5, 8.0, 5.4, 6.9, 7.0, 8.6, 8.7, 4.7, 7.2, 5.9, 8.7, 8.4, 7.4, 6.6, 7.8, 7.0, 4.6, 6.8, 7.0, 5.0, 7.4, 6.8, 2.7, 6.5, 4.4, 4.4, 7.0, 4.8, 5.0, 4.7, 6.9, 6.7, 7.1, 7.8, 4.0, 7.1, 5.2, 6.0, 8.2, 7.2, 6.7, 8.7, 6.7, 6.5, 7.2, 5.2, 7.1, 7.0, 3.3, 7.0, 3.8, 8.0, 6.9, 8.3, 6.0, 6.9, 5.7, 6.4, 4.2, 7.1, 4.3, 8.1, 6.4, 6.6, 4.9, 9.0, 5.2, 3.7, 5.3, 3.7, 9.0, 6.9, 6.2, 5.3, 6.4, 6.7, 7.7, 8.5, 8.2, 8.4, 5.4, 5.8, 6.4, 4.7, 5.5, 8.1, 6.1, 5.3, 8.7, 5.4, 7.6, 7.8, 7.3, 3.3, 5.7, 4.5, 9.3, 6.4, 8.4, 6.9, 6.0, 6.9, 5.5, 5.7, 8.4, 6.4, 6.7, 6.9, 6.4, 5.6, 6.1, 7.5, 6.4, 4.4, 5.3, 4.6, 5.5, 7.0, 7.7, 7.0, 5.9, 8.7, 4.6, 8.6, 5.0, 5.3, 3.5, 8.0, 6.0, 8.0, 8.0, 5.8, 5.4, 5.6, 5.5, 7.1, 5.9, 3.9, 6.9, 8.1, 6.8, 5.8, 7.1, 4.0, 7.3, 4.0, 7.3, 4.2, 5.7, 4.7, 4.6, 2.7, 5.5, 6.4, 4.9, 5.9, 6.8, 7.7, 5.2, 6.7, 7.5, 5.2, 6.8, 7.0, 6.4, 1.0, 7.5, 7.0, 7.0, 7.5, 4.9, 6.3, 6.2, 4.4, 6.5, 6.3, 5.5, 8.2, 5.1, 7.5, 7.1, 6.7, 7.4, 5.4, 5.1, 8.7, 4.8, 5.2, 8.4, 6.9, 6.1, 5.9, 7.7, 7.5, 5.4, 7.5, 7.9, 7.0, 4.0, 7.2, 5.9, 4.9, 7.7, 5.8, 4.0, 7.5, 3.5, 6.7, 8.7, 9.0, 6.4, 7.3, 4.4, 5.2, 2.6, 5.5, 5.3, 7.7, 5.1, 4.7, 4.6, 6.7, 8.6, 5.9, 7.8, 7.3, 7.3, 5.8, 8.8, 6.5, 5.5, 2.9, 6.2, 5.8, 5.4, 3.5, 7.6, 4.0, 9.0, 6.3, 6.2, 6.1, 5.8, 5.7, 7.7, 6.5, 7.7, 7.2, 4.6, 8.6, 2.9, 6.4, 5.5, 3.4, 8.3, 8.1, 7.4, 4.4, 6.9, 7.9, 5.2, 5.9, 3.7, 4.8, 5.3, 8.2, 7.0, 5.5, 5.6, 5.4, 6.1, 9.1, 6.3, 5.8, 6.7, 7.3, 4.2, 4.0, 8.9, 6.1, 6.3, 8.4, 7.9, 7.7, 4.2, 8.2, 7.9, 8.8, 7.1, 6.3, 5.7, 7.3, 4.7, 7.4, 6.9, 4.5, 7.8, 6.5, 2.7, 8.9, 8.1, 7.6, 8.4, 3.3, 4.8, 4.7, 8.3, 7.5, 8.5, 6.7, 5.1, 8.6, 5.6, 7.3, 4.2, 6.0, 7.6, 6.0, 4.9, 4.1, 4.7, 5.4, 6.2, 5.9, 5.5, 4.8, 5.8, 7.0, 7.2, 8.6, 5.5, 7.8, 6.9, 5.9, 3.8, 7.9, 3.4, 6.9, 7.1, 6.8, 4.8, 7.6, 6.9, 4.9, 6.4, 6.0, 6.4, 4.0, 4.9, 5.5, 6.4, 5.4, 6.5, 9.0, 6.3, 7.0, 8.7, 8.1, 6.1, 4.5, 5.2, 5.3, 6.8, 7.8, 4.8, 6.0, 3.0, 4.3, 8.1, 8.2, 5.7, 6.6, 5.0, 7.2, 7.2, 6.0, 4.3, 5.0, 7.2, 8.7, 5.0, 4.8, 6.8, 8.6, 6.0, 6.5, 6.2, 6.2, 4.4, 7.3, 6.2, 7.7, 6.0, 7.1, 3.9, 9.0, 5.5, 3.7, 5.5, 7.7, 8.7, 2.2, 3.5, 4.6, 6.6, 5.2, 5.7, 4.6, 5.0, 6.3, 7.0, 4.5, 4.5, 7.0, 3.5, 6.3, 7.7], \"sizemode\": \"area\", \"sizeref\": 0.023250000000000003, \"symbol\": \"circle\"}, \"mode\": \"markers\", \"name\": \"\", \"showlegend\": false, \"type\": \"scatter\", \"x\": [7.0, 10.0, 5.0, 8.0, 2.0, 4.0, 2.0, 14.0, 9.0, 5.0, 11.0, 11.0, 12.0, 3.0, 18.0, 11.0, 1.0, 10.0, 12.0, 10.0, 0.0, 6.0, 9.0, 5.0, 3.0, 6.0, 9.0, 9.0, 8.0, 3.0, 11.0, 11.0, 11.0, 2.0, 2.0, 4.0, 3.0, 11.0, 4.0, 6.0, 10.0, 6.0, 12.0, 13.0, 6.0, 6.0, 8.0, 12.0, 14.0, 5.0, 5.0, 16.0, 11.0, 11.0, 5.0, 5.0, 9.0, 4.0, 9.0, 12.0, 7.0, 7.0, 4.0, 12.0, 7.0, 4.0, 11.0, 3.0, 4.0, 18.0, 7.0, 9.0, 13.0, 5.0, 6.0, 5.0, 7.0, 6.0, 7.0, 7.0, 3.0, 0.0, 4.0, 11.0, 7.0, 4.0, 4.0, 6.0, 10.0, 4.0, 10.0, 3.0, 11.0, 9.0, 8.0, 4.0, 12.0, 7.0, 8.0, 10.0, 11.0, 10.0, 15.0, 8.0, 5.0, 8.0, 9.0, 8.0, 11.0, 0.0, 5.0, 3.0, 6.0, 7.0, 11.0, 7.0, 4.0, 12.0, 10.0, 6.0, 11.0, 8.0, 2.0, 8.0, 9.0, 5.0, 7.0, 9.0, 10.0, 8.0, 6.0, 6.0, 1.0, 7.0, 1.0, 8.0, 3.0, 10.0, 0.0, 8.0, 6.0, 11.0, 4.0, 8.0, 12.0, 6.0, 4.0, 3.0, 0.0, 10.0, 0.0, 17.0, 0.0, 3.0, 4.0, 1.0, 8.0, 10.0, 12.0, 6.0, 19.0, 5.0, 10.0, 13.0, 13.0, 11.0, 0.0, 5.0, 3.0, 12.0, 5.0, 5.0, 5.0, 3.0, 10.0, 7.0, 11.0, 7.0, 11.0, 11.0, 8.0, 6.0, 8.0, 8.0, 8.0, 14.0, 7.0, 6.0, 11.0, 6.0, 10.0, 2.0, 10.0, 0.0, 4.0, 6.0, 3.0, 12.0, 4.0, 10.0, 9.0, 6.0, 16.0, 7.0, 8.0, 2.0, 7.0, 4.0, 8.0, 4.0, 5.0, 5.0, 6.0, 3.0, 5.0, 7.0, 12.0, 4.0, 8.0, 8.0, 3.0, 3.0, 9.0, 19.0, 2.0, 8.0, 0.0, 9.0, 5.0, 8.0, 8.0, 6.0, 14.0, 6.0, 13.0, 8.0, 9.0, 7.0, 4.0, 7.0, 0.0, 7.0, 10.0, 6.0, 4.0, 8.0, 2.0, 14.0, 5.0, 4.0, 5.0, 4.0, 2.0, 5.0, 10.0, 11.0, 3.0, 5.0, 11.0, 8.0, 5.0, 2.0, 5.0, 2.0, 0.0, 1.0, 9.0, 6.0, 5.0, 7.0, 4.0, 7.0, 3.0, 3.0, 3.0, 0.0, 0.0, 5.0, 2.0, 7.0, 5.0, 0.0, 5.0, 0.0, 13.0, 8.0, 3.0, 0.0, 12.0, 0.0, 7.0, 8.0, 8.0, 3.0, 9.0, 9.0, 6.0, 10.0, 13.0, 8.0, 10.0, 6.0, 3.0, 8.0, 1.0, 5.0, 12.0, 3.0, 6.0, 5.0, 2.0, 5.0, 9.0, 7.0, 0.0, 9.0, 6.0, 7.0, 11.0, 9.0, 0.0, 12.0, 10.0, 13.0, 9.0, 4.0, 7.0, 4.0, 10.0, 8.0, 8.0, 2.0, 3.0, 10.0, 2.0, 16.0, 10.0, 5.0, 4.0, 9.0, 8.0, 11.0, 2.0, 3.0, 7.0, 0.0, 6.0, 0.0, 13.0, 5.0, 13.0, 3.0, 1.0, 3.0, 1.0, 6.0, 10.0, 6.0, 7.0, 6.0, 7.0, 9.0, 8.0, 13.0, 9.0, 9.0, 1.0, 5.0, 0.0, 4.0, 1.0, 2.0, 8.0, 7.0, 15.0, 10.0, 4.0, 11.0, 3.0, 9.0, 10.0, 10.0, 8.0, 10.0, 7.0, 6.0, 3.0, 0.0, 7.0, 6.0, 9.0, 10.0, 0.0, 8.0, 7.0, 9.0, 5.0, 10.0, 7.0, 0.0, 10.0, 0.0, 3.0, 11.0, 9.0, 0.0, 12.0, 0.0, 14.0, 14.0, 4.0, 5.0, 8.0, 0.0, 16.0, 14.0, 13.0, 3.0, 4.0, 16.0, 6.0, 7.0, 9.0, 3.0, 2.0, 0.0, 2.0, 9.0, 10.0, 7.0, 9.0, 6.0, 8.0, 4.0, 7.0, 3.0, 2.0, 7.0, 7.0, 14.0, 2.0, 8.0, 11.0, 6.0, 0.0, 7.0, 6.0, 7.0, 5.0, 4.0, 6.0, 6.0, 3.0, 2.0, 0.0, 2.0, 6.0, 5.0, 6.0, 4.0, 9.0, 2.0, 6.0, 0.0, 7.0, 0.0, 4.0, 9.0, 0.0, 0.0, 8.0, 13.0, 7.0, 10.0, 4.0, 12.0, 7.0, 8.0, 11.0, 6.0, 7.0, 11.0, 4.0, 0.0, 7.0, 8.0, 7.0, 9.0, 6.0, 5.0, 7.0, 0.0, 6.0, 4.0, 1.0, 11.0, 0.0, 11.0, 4.0, 17.0, 8.0, 0.0, 7.0, 7.0, 0.0, 0.0, 11.0, 1.0, 9.0, 0.0, 1.0, 10.0, 7.0, 5.0, 4.0, 14.0, 0.0, 3.0, 6.0, 7.0, 1.0, 2.0, 0.0, 6.0, 0.0, 11.0, 17.0, 10.0, 0.0, 2.0, 9.0, 7.0, 6.0, 12.0, 4.0, 4.0, 17.0, 0.0, 0.0, 5.0, 7.0, 5.0, 9.0, 8.0, 4.0, 3.0, 5.0, 2.0, 0.0, 0.0, 3.0, 6.0, 0.0, 6.0, 11.0, 0.0, 7.0, 14.0, 3.0, 7.0, 0.0, 3.0, 2.0, 9.0, 8.0, 4.0, 5.0, 10.0, 0.0, 5.0, 2.0, 8.0, 9.0, 14.0, 7.0, 0.0, 0.0, 12.0, 6.0, 0.0, 0.0, 5.0, 2.0, 9.0, 0.0, 0.0, 12.0, 14.0, 3.0, 3.0, 12.0, 7.0, 6.0, 5.0, 5.0, 6.0, 6.0, 12.0, 6.0, 7.0, 9.0, 13.0, 0.0, 5.0, 4.0, 4.0, 5.0, 5.0, 7.0, 4.0, 4.0, 6.0, 2.0, 11.0, 14.0, 11.0, 0.0, 14.0, 12.0, 6.0, 15.0, 0.0, 4.0, 4.0, 2.0, 11.0, 9.0, 10.0, 2.0, 12.0, 8.0, 3.0, 2.0, 9.0, 5.0, 2.0, 2.0, 0.0, 0.0, 0.0, 0.0, 3.0, 5.0, 4.0, 7.0, 6.0, 3.0, 8.0, 12.0, 14.0, 4.0, 5.0, 2.0, 8.0, 2.0, 3.0, 4.0, 4.0, 3.0, 4.0, 0.0, 4.0, 5.0, 2.0, 5.0, 0.0, 0.0, 15.0, 9.0, 2.0, 2.0, 4.0, 8.0, 6.0, 9.0, 0.0, 5.0, 0.0, 0.0, 11.0, 7.0, 10.0, 0.0, 7.0, 0.0, 2.0, 11.0, 2.0, 7.0, 10.0, 3.0, 7.0, 4.0, 6.0, 2.0, 6.0, 4.0, 8.0, 4.0, 5.0, 6.0, 9.0, 6.0, 4.0, 10.0, 1.0, 10.0, 0.0, 8.0, 6.0, 2.0, 9.0, 7.0, 6.0, 2.0, 0.0, 9.0, 8.0, 7.0, 9.0, 2.0, 0.0, 12.0, 0.0, 2.0, 12.0, 2.0, 0.0, 15.0, 3.0, 0.0, 8.0, 0.0, 2.0, 7.0], \"xaxis\": \"x\", \"y\": [3.3, 4.3, 4.2, 3.5, 3.4, 4.0, 3.8, 4.1, 3.9, 3.7, 4.3, 4.1, 4.2, 4.1, 3.9, 3.6, 3.3, 4.2, 4.1, 4.4, 3.2, 3.9, 3.9, 3.3, 2.9, 4.1, 3.6, 3.5, 3.3, 3.7, 3.3, 4.1, 4.1, 2.7, 2.9, 4.1, 3.2, 3.2, 3.7, 4.0, 3.2, 3.7, 3.9, 4.1, 4.0, 3.0, 4.2, 3.6, 4.2, 4.2, 2.7, 4.1, 4.3, 3.3, 4.2, 3.1, 4.1, 4.1, 3.4, 4.2, 4.3, 4.1, 3.5, 3.8, 3.4, 3.3, 3.0, 3.4, 3.6, 3.9, 3.4, 2.8, 3.5, 2.8, 4.1, 4.3, 3.5, 3.8, 3.9, 3.5, 3.1, 2.9, 4.2, 3.6, 3.0, 3.4, 4.1, 3.4, 4.2, 3.2, 4.4, 3.3, 4.0, 3.1, 3.4, 3.5, 3.4, 2.1, 4.1, 3.5, 3.4, 4.3, 3.5, 3.9, 3.1, 3.6, 4.0, 3.9, 3.8, 4.5, 3.9, 3.5, 3.3, 4.2, 3.2, 3.4, 3.4, 4.1, 4.0, 3.9, 3.9, 3.4, 3.5, 3.3, 3.0, 3.0, 4.1, 3.5, 2.9, 3.5, 4.3, 3.7, 3.7, 3.7, 3.5, 3.4, 3.2, 4.2, 3.5, 3.8, 2.5, 4.4, 2.7, 4.3, 3.7, 3.4, 3.6, 4.0, 3.6, 3.2, 3.1, 3.5, 3.1, 2.9, 3.7, 3.4, 3.6, 4.0, 4.1, 4.3, 4.0, 3.2, 3.3, 3.6, 4.1, 4.1, 2.7, 4.0, 3.4, 2.1, 4.1, 3.8, 3.9, 3.0, 3.7, 3.3, 3.3, 3.4, 3.9, 4.2, 4.1, 3.7, 3.6, 4.4, 3.8, 3.6, 4.2, 3.3, 4.2, 2.8, 4.0, 2.4, 4.1, 3.5, 3.0, 4.1, 3.3, 3.5, 2.9, 3.4, 3.6, 3.4, 4.4, 3.4, 4.1, 3.8, 2.6, 3.1, 2.9, 3.6, 4.0, 3.4, 3.4, 3.3, 3.2, 3.8, 3.8, 2.6, 4.0, 3.4, 2.6, 3.8, 4.0, 4.3, 3.5, 4.1, 3.1, 3.1, 3.7, 3.6, 2.6, 4.3, 4.1, 2.8, 3.8, 2.9, 3.7, 3.5, 3.2, 4.4, 2.5, 3.7, 3.6, 2.9, 2.6, 3.9, 2.8, 3.1, 4.0, 4.0, 3.7, 4.1, 3.2, 3.8, 3.7, 4.2, 2.9, 3.5, 3.0, 4.3, 3.3, 2.9, 3.5, 2.5, 2.8, 3.4, 3.7, 3.0, 4.3, 4.3, 3.7, 3.5, 3.3, 2.6, 3.4, 2.8, 3.0, 3.6, 2.7, 3.7, 4.0, 3.5, 3.6, 2.7, 3.7, 3.6, 4.1, 2.8, 3.5, 3.1, 3.8, 3.4, 3.8, 3.5, 3.7, 4.3, 3.3, 3.5, 2.9, 3.3, 4.0, 3.9, 3.9, 3.9, 3.4, 3.5, 4.1, 2.6, 3.4, 3.9, 4.0, 3.2, 3.6, 3.4, 3.9, 3.1, 3.5, 3.5, 4.2, 3.3, 3.0, 4.0, 3.6, 4.1, 4.3, 2.5, 4.3, 2.8, 4.1, 4.0, 3.7, 3.0, 3.7, 3.3, 3.3, 3.5, 3.2, 3.1, 3.9, 3.5, 2.5, 3.7, 3.0, 3.2, 3.8, 3.0, 3.3, 3.0, 3.9, 3.6, 3.6, 4.0, 3.0, 3.4, 3.7, 3.3, 3.8, 3.7, 4.3, 3.9, 3.6, 3.3, 4.1, 2.6, 3.7, 3.9, 3.0, 4.1, 2.9, 3.7, 3.5, 4.2, 3.4, 4.0, 3.3, 3.4, 2.8, 3.7, 3.0, 3.4, 3.5, 3.1, 3.1, 4.0, 3.2, 3.0, 3.4, 3.2, 4.3, 3.8, 3.4, 3.5, 3.8, 3.6, 3.2, 4.1, 3.4, 3.6, 3.4, 3.2, 3.7, 3.3, 2.7, 4.1, 3.2, 3.3, 3.9, 3.0, 4.4, 3.9, 3.8, 3.0, 3.0, 3.2, 4.0, 3.7, 4.2, 3.4, 3.4, 3.5, 3.4, 3.1, 4.1, 3.3, 3.6, 4.0, 3.3, 3.1, 3.1, 3.9, 3.5, 2.8, 3.4, 3.2, 3.3, 4.3, 3.9, 3.9, 2.9, 3.9, 3.5, 4.1, 3.5, 2.8, 3.5, 4.1, 3.5, 3.7, 4.2, 3.6, 3.2, 3.3, 3.3, 3.5, 3.2, 3.3, 4.1, 4.0, 3.2, 3.1, 3.8, 3.1, 4.1, 3.4, 3.7, 2.9, 3.3, 3.1, 2.7, 2.2, 3.2, 3.6, 3.8, 2.9, 4.1, 4.0, 3.2, 3.8, 3.8, 3.1, 3.6, 4.3, 3.2, 1.5, 4.1, 4.2, 3.6, 3.8, 2.9, 3.1, 3.6, 3.1, 3.8, 3.5, 3.2, 3.5, 3.1, 3.8, 4.0, 3.7, 2.8, 3.0, 2.6, 4.0, 2.9, 2.7, 4.1, 3.7, 3.8, 3.1, 3.3, 3.5, 3.0, 3.7, 4.3, 3.8, 2.9, 4.0, 3.6, 3.2, 3.5, 3.5, 2.8, 4.0, 2.8, 3.5, 3.8, 4.1, 3.2, 3.2, 3.2, 3.3, 2.6, 3.0, 2.9, 3.9, 2.9, 3.5, 3.0, 3.9, 3.9, 3.0, 3.9, 4.0, 4.1, 3.0, 3.9, 3.5, 3.1, 2.7, 3.6, 2.9, 4.2, 3.0, 3.6, 2.9, 4.0, 3.7, 3.3, 3.4, 2.8, 3.3, 3.8, 3.9, 3.5, 2.9, 3.3, 4.2, 2.8, 3.3, 3.3, 2.9, 4.0, 3.8, 3.6, 2.9, 3.7, 3.5, 3.4, 2.5, 2.7, 2.7, 3.1, 3.6, 3.4, 3.2, 3.8, 3.2, 3.4, 4.4, 3.5, 3.3, 3.5, 4.0, 4.1, 2.6, 4.1, 3.6, 3.7, 4.0, 3.9, 3.9, 2.5, 4.0, 3.5, 4.3, 3.3, 3.5, 3.6, 3.7, 2.8, 3.5, 3.8, 3.3, 3.4, 3.1, 2.2, 3.9, 3.8, 4.1, 4.0, 2.3, 2.9, 3.1, 3.9, 3.7, 4.0, 3.7, 2.5, 4.5, 3.2, 3.3, 3.1, 2.8, 3.7, 3.3, 3.0, 3.0, 3.1, 3.2, 4.0, 3.7, 3.0, 4.3, 3.8, 3.6, 3.6, 3.6, 3.3, 4.1, 3.7, 3.3, 3.1, 3.4, 3.0, 3.6, 4.1, 3.4, 3.9, 3.8, 3.6, 3.3, 3.7, 3.1, 3.4, 2.5, 3.3, 3.7, 3.8, 3.4, 3.3, 4.3, 3.2, 3.6, 4.2, 4.2, 4.1, 2.9, 2.9, 3.6, 3.6, 3.2, 2.9, 3.0, 3.1, 3.0, 3.4, 3.9, 3.8, 3.7, 2.8, 4.1, 3.8, 3.5, 3.2, 3.1, 4.0, 4.0, 2.7, 3.9, 3.5, 4.0, 3.5, 3.4, 3.1, 3.5, 2.9, 3.4, 3.6, 3.8, 3.4, 3.8, 2.6, 3.7, 3.1, 3.1, 3.7, 2.8, 4.0, 2.1, 2.7, 3.8, 3.5, 3.2, 3.4, 3.2, 2.9, 2.9, 3.7, 3.2, 3.1, 3.6, 3.4, 3.5, 4.0], \"yaxis\": \"y\"}],\n",
       "                        {\"coloraxis\": {\"colorbar\": {\"title\": {\"text\": \"mentions\"}}, \"colorscale\": [[0.0, \"#0d0887\"], [0.1111111111111111, \"#46039f\"], [0.2222222222222222, \"#7201a8\"], [0.3333333333333333, \"#9c179e\"], [0.4444444444444444, \"#bd3786\"], [0.5555555555555556, \"#d8576b\"], [0.6666666666666666, \"#ed7953\"], [0.7777777777777778, \"#fb9f3a\"], [0.8888888888888888, \"#fdca26\"], [1.0, \"#f0f921\"]]}, \"height\": 600, \"legend\": {\"itemsizing\": \"constant\", \"tracegroupgap\": 0}, \"margin\": {\"t\": 60}, \"template\": {\"data\": {\"bar\": [{\"error_x\": {\"color\": \"#2a3f5f\"}, \"error_y\": {\"color\": \"#2a3f5f\"}, \"marker\": {\"line\": {\"color\": \"#E5ECF6\", \"width\": 0.5}}, \"type\": \"bar\"}], \"barpolar\": [{\"marker\": {\"line\": {\"color\": \"#E5ECF6\", \"width\": 0.5}}, \"type\": \"barpolar\"}], \"carpet\": [{\"aaxis\": {\"endlinecolor\": \"#2a3f5f\", \"gridcolor\": \"white\", \"linecolor\": \"white\", \"minorgridcolor\": \"white\", \"startlinecolor\": \"#2a3f5f\"}, \"baxis\": {\"endlinecolor\": \"#2a3f5f\", \"gridcolor\": \"white\", \"linecolor\": \"white\", \"minorgridcolor\": \"white\", \"startlinecolor\": \"#2a3f5f\"}, \"type\": \"carpet\"}], \"choropleth\": [{\"colorbar\": {\"outlinewidth\": 0, \"ticks\": \"\"}, \"type\": \"choropleth\"}], \"contour\": [{\"colorbar\": {\"outlinewidth\": 0, \"ticks\": \"\"}, \"colorscale\": [[0.0, \"#0d0887\"], [0.1111111111111111, \"#46039f\"], [0.2222222222222222, \"#7201a8\"], [0.3333333333333333, \"#9c179e\"], [0.4444444444444444, \"#bd3786\"], [0.5555555555555556, \"#d8576b\"], [0.6666666666666666, \"#ed7953\"], [0.7777777777777778, \"#fb9f3a\"], [0.8888888888888888, \"#fdca26\"], [1.0, \"#f0f921\"]], \"type\": \"contour\"}], \"contourcarpet\": [{\"colorbar\": {\"outlinewidth\": 0, \"ticks\": \"\"}, \"type\": \"contourcarpet\"}], \"heatmap\": [{\"colorbar\": {\"outlinewidth\": 0, \"ticks\": \"\"}, \"colorscale\": [[0.0, \"#0d0887\"], [0.1111111111111111, \"#46039f\"], [0.2222222222222222, \"#7201a8\"], [0.3333333333333333, \"#9c179e\"], [0.4444444444444444, \"#bd3786\"], [0.5555555555555556, \"#d8576b\"], [0.6666666666666666, \"#ed7953\"], [0.7777777777777778, \"#fb9f3a\"], [0.8888888888888888, \"#fdca26\"], [1.0, \"#f0f921\"]], \"type\": \"heatmap\"}], \"heatmapgl\": [{\"colorbar\": {\"outlinewidth\": 0, \"ticks\": \"\"}, \"colorscale\": [[0.0, \"#0d0887\"], [0.1111111111111111, \"#46039f\"], [0.2222222222222222, \"#7201a8\"], [0.3333333333333333, \"#9c179e\"], [0.4444444444444444, \"#bd3786\"], [0.5555555555555556, \"#d8576b\"], [0.6666666666666666, \"#ed7953\"], [0.7777777777777778, \"#fb9f3a\"], [0.8888888888888888, \"#fdca26\"], [1.0, \"#f0f921\"]], \"type\": \"heatmapgl\"}], \"histogram\": [{\"marker\": {\"colorbar\": {\"outlinewidth\": 0, \"ticks\": \"\"}}, \"type\": \"histogram\"}], \"histogram2d\": [{\"colorbar\": {\"outlinewidth\": 0, \"ticks\": \"\"}, \"colorscale\": [[0.0, \"#0d0887\"], [0.1111111111111111, \"#46039f\"], [0.2222222222222222, \"#7201a8\"], [0.3333333333333333, \"#9c179e\"], [0.4444444444444444, \"#bd3786\"], [0.5555555555555556, \"#d8576b\"], [0.6666666666666666, \"#ed7953\"], [0.7777777777777778, \"#fb9f3a\"], [0.8888888888888888, \"#fdca26\"], [1.0, \"#f0f921\"]], \"type\": \"histogram2d\"}], \"histogram2dcontour\": [{\"colorbar\": {\"outlinewidth\": 0, \"ticks\": \"\"}, \"colorscale\": [[0.0, \"#0d0887\"], [0.1111111111111111, \"#46039f\"], [0.2222222222222222, \"#7201a8\"], [0.3333333333333333, \"#9c179e\"], [0.4444444444444444, \"#bd3786\"], [0.5555555555555556, \"#d8576b\"], [0.6666666666666666, \"#ed7953\"], [0.7777777777777778, \"#fb9f3a\"], [0.8888888888888888, \"#fdca26\"], [1.0, \"#f0f921\"]], \"type\": \"histogram2dcontour\"}], \"mesh3d\": [{\"colorbar\": {\"outlinewidth\": 0, \"ticks\": \"\"}, \"type\": \"mesh3d\"}], \"parcoords\": [{\"line\": {\"colorbar\": {\"outlinewidth\": 0, \"ticks\": \"\"}}, \"type\": \"parcoords\"}], \"scatter\": [{\"marker\": {\"colorbar\": {\"outlinewidth\": 0, \"ticks\": \"\"}}, \"type\": \"scatter\"}], \"scatter3d\": [{\"line\": {\"colorbar\": {\"outlinewidth\": 0, \"ticks\": \"\"}}, \"marker\": {\"colorbar\": {\"outlinewidth\": 0, \"ticks\": \"\"}}, \"type\": \"scatter3d\"}], \"scattercarpet\": [{\"marker\": {\"colorbar\": {\"outlinewidth\": 0, \"ticks\": \"\"}}, \"type\": \"scattercarpet\"}], \"scattergeo\": [{\"marker\": {\"colorbar\": {\"outlinewidth\": 0, \"ticks\": \"\"}}, \"type\": \"scattergeo\"}], \"scattergl\": [{\"marker\": {\"colorbar\": {\"outlinewidth\": 0, \"ticks\": \"\"}}, \"type\": \"scattergl\"}], \"scattermapbox\": [{\"marker\": {\"colorbar\": {\"outlinewidth\": 0, \"ticks\": \"\"}}, \"type\": \"scattermapbox\"}], \"scatterpolar\": [{\"marker\": {\"colorbar\": {\"outlinewidth\": 0, \"ticks\": \"\"}}, \"type\": \"scatterpolar\"}], \"scatterpolargl\": [{\"marker\": {\"colorbar\": {\"outlinewidth\": 0, \"ticks\": \"\"}}, \"type\": \"scatterpolargl\"}], \"scatterternary\": [{\"marker\": {\"colorbar\": {\"outlinewidth\": 0, \"ticks\": \"\"}}, \"type\": \"scatterternary\"}], \"surface\": [{\"colorbar\": {\"outlinewidth\": 0, \"ticks\": \"\"}, \"colorscale\": [[0.0, \"#0d0887\"], [0.1111111111111111, \"#46039f\"], [0.2222222222222222, \"#7201a8\"], [0.3333333333333333, \"#9c179e\"], [0.4444444444444444, \"#bd3786\"], [0.5555555555555556, \"#d8576b\"], [0.6666666666666666, \"#ed7953\"], [0.7777777777777778, \"#fb9f3a\"], [0.8888888888888888, \"#fdca26\"], [1.0, \"#f0f921\"]], \"type\": \"surface\"}], \"table\": [{\"cells\": {\"fill\": {\"color\": \"#EBF0F8\"}, \"line\": {\"color\": \"white\"}}, \"header\": {\"fill\": {\"color\": \"#C8D4E3\"}, \"line\": {\"color\": \"white\"}}, \"type\": \"table\"}]}, \"layout\": {\"annotationdefaults\": {\"arrowcolor\": \"#2a3f5f\", \"arrowhead\": 0, \"arrowwidth\": 1}, \"colorscale\": {\"diverging\": [[0, \"#8e0152\"], [0.1, \"#c51b7d\"], [0.2, \"#de77ae\"], [0.3, \"#f1b6da\"], [0.4, \"#fde0ef\"], [0.5, \"#f7f7f7\"], [0.6, \"#e6f5d0\"], [0.7, \"#b8e186\"], [0.8, \"#7fbc41\"], [0.9, \"#4d9221\"], [1, \"#276419\"]], \"sequential\": [[0.0, \"#0d0887\"], [0.1111111111111111, \"#46039f\"], [0.2222222222222222, \"#7201a8\"], [0.3333333333333333, \"#9c179e\"], [0.4444444444444444, \"#bd3786\"], [0.5555555555555556, \"#d8576b\"], [0.6666666666666666, \"#ed7953\"], [0.7777777777777778, \"#fb9f3a\"], [0.8888888888888888, \"#fdca26\"], [1.0, \"#f0f921\"]], \"sequentialminus\": [[0.0, \"#0d0887\"], [0.1111111111111111, \"#46039f\"], [0.2222222222222222, \"#7201a8\"], [0.3333333333333333, \"#9c179e\"], [0.4444444444444444, \"#bd3786\"], [0.5555555555555556, \"#d8576b\"], [0.6666666666666666, \"#ed7953\"], [0.7777777777777778, \"#fb9f3a\"], [0.8888888888888888, \"#fdca26\"], [1.0, \"#f0f921\"]]}, \"colorway\": [\"#636efa\", \"#EF553B\", \"#00cc96\", \"#ab63fa\", \"#FFA15A\", \"#19d3f3\", \"#FF6692\", \"#B6E880\", \"#FF97FF\", \"#FECB52\"], \"font\": {\"color\": \"#2a3f5f\"}, \"geo\": {\"bgcolor\": \"white\", \"lakecolor\": \"white\", \"landcolor\": \"#E5ECF6\", \"showlakes\": true, \"showland\": true, \"subunitcolor\": \"white\"}, \"hoverlabel\": {\"align\": \"left\"}, \"hovermode\": \"closest\", \"mapbox\": {\"style\": \"light\"}, \"paper_bgcolor\": \"white\", \"plot_bgcolor\": \"#E5ECF6\", \"polar\": {\"angularaxis\": {\"gridcolor\": \"white\", \"linecolor\": \"white\", \"ticks\": \"\"}, \"bgcolor\": \"#E5ECF6\", \"radialaxis\": {\"gridcolor\": \"white\", \"linecolor\": \"white\", \"ticks\": \"\"}}, \"scene\": {\"xaxis\": {\"backgroundcolor\": \"#E5ECF6\", \"gridcolor\": \"white\", \"gridwidth\": 2, \"linecolor\": \"white\", \"showbackground\": true, \"ticks\": \"\", \"zerolinecolor\": \"white\"}, \"yaxis\": {\"backgroundcolor\": \"#E5ECF6\", \"gridcolor\": \"white\", \"gridwidth\": 2, \"linecolor\": \"white\", \"showbackground\": true, \"ticks\": \"\", \"zerolinecolor\": \"white\"}, \"zaxis\": {\"backgroundcolor\": \"#E5ECF6\", \"gridcolor\": \"white\", \"gridwidth\": 2, \"linecolor\": \"white\", \"showbackground\": true, \"ticks\": \"\", \"zerolinecolor\": \"white\"}}, \"shapedefaults\": {\"line\": {\"color\": \"#2a3f5f\"}}, \"ternary\": {\"aaxis\": {\"gridcolor\": \"white\", \"linecolor\": \"white\", \"ticks\": \"\"}, \"baxis\": {\"gridcolor\": \"white\", \"linecolor\": \"white\", \"ticks\": \"\"}, \"bgcolor\": \"#E5ECF6\", \"caxis\": {\"gridcolor\": \"white\", \"linecolor\": \"white\", \"ticks\": \"\"}}, \"title\": {\"x\": 0.05}, \"xaxis\": {\"automargin\": true, \"gridcolor\": \"white\", \"linecolor\": \"white\", \"ticks\": \"\", \"zerolinecolor\": \"white\", \"zerolinewidth\": 2}, \"yaxis\": {\"automargin\": true, \"gridcolor\": \"white\", \"linecolor\": \"white\", \"ticks\": \"\", \"zerolinecolor\": \"white\", \"zerolinewidth\": 2}}}, \"xaxis\": {\"anchor\": \"y\", \"domain\": [0.0, 0.98], \"title\": {\"text\": \"mentions\"}}, \"yaxis\": {\"anchor\": \"x\", \"domain\": [0.0, 1.0], \"title\": {\"text\": \"audience_average\"}}},\n",
       "                        {\"responsive\": true}\n",
       "                    ).then(function(){\n",
       "                            \n",
       "var gd = document.getElementById('89d227d6-07c7-4f68-8a16-201886106f25');\n",
       "var x = new MutationObserver(function (mutations, observer) {{\n",
       "        var display = window.getComputedStyle(gd).display;\n",
       "        if (!display || display === 'none') {{\n",
       "            console.log([gd, 'removed!']);\n",
       "            Plotly.purge(gd);\n",
       "            observer.disconnect();\n",
       "        }}\n",
       "}});\n",
       "\n",
       "// Listen for the removal of the full notebook cells\n",
       "var notebookContainer = gd.closest('#notebook-container');\n",
       "if (notebookContainer) {{\n",
       "    x.observe(notebookContainer, {childList: true});\n",
       "}}\n",
       "\n",
       "// Listen for the clearing of the current output cell\n",
       "var outputEl = gd.closest('.output');\n",
       "if (outputEl) {{\n",
       "    x.observe(outputEl, {childList: true});\n",
       "}}\n",
       "\n",
       "                        })\n",
       "                };\n",
       "                });\n",
       "            </script>\n",
       "        </div>"
      ]
     },
     "metadata": {},
     "output_type": "display_data"
    },
    {
     "data": {
      "image/png": "[encoded data removed]",
      "text/plain": [
       "<Figure size 1440x576 with 1 Axes>"
      ]
     },
     "metadata": {},
     "output_type": "display_data"
    }
   ],
   "source": [
    "# https://stackoverflow.com/questions/28227340/kmeans-scatter-plot-plot-different-colors-per-cluster\n",
    "\n",
    "from sklearn.cluster import KMeans\n",
    "import matplotlib.pyplot as plt\n",
    "f = df[['audience_average', 'critic_average' , 'mentions'  ]]\n",
    "\n",
    "# # Scaling the data to normalize\n",
    "# model = KMeans(n_clusters=10).fit(f)\n",
    "\n",
    "# # Visualize it:\n",
    "# plt.figure(figsize=(8, 6))\n",
    "# plt.scatter(f[:0],f[:1])\n",
    "\n",
    "%matplotlib inline\n",
    "clustering = KMeans(n_clusters = 6, random_state = 10)\n",
    "clustering.fit(f)\n",
    "\n",
    "color_theme = np.array(['darkblue', 'lightsalmon', 'red', 'lightyellow', 'brown', 'green'])\n",
    "\n",
    "\n",
    "\n",
    "plt.figure(figsize =(20,8))\n",
    "# plt.subplot(1,2,1)\n",
    "# plt.scatter(x=f['audience_average'], y=f['mentions'], c = color_theme ,s=50)\n",
    "# plt.title('K-Means  Classification')\n",
    "\n",
    "plt.subplot(1,2,2)\n",
    "plt.ylabel('Audience Average')\n",
    "\n",
    "plt.xlabel('Total Awards and Nominations')\n",
    "plt.scatter(x = f['mentions'],y = f['critic_average'] , c = color_theme[clustering.labels_], s=50 )\n",
    "plt.axvline(12.5, color=\"k\", linestyle=\"--\");\n",
    "plt.axvline(8.5, color=\"k\", linestyle=\"--\");\n",
    "plt.axvline(4.7, color=\"k\", linestyle=\"--\");\n",
    "plt.title('K-Means  Classification')\n",
    "\n",
    "import plotly.express as px\n",
    "\n",
    "# fig = px.scatter(f, x=\"mentions\", y=\"critic_average\", color=\"mentions\",\n",
    "#                  size='critic_average', hover_data=['mentions'])\n",
    "# fig.show()\n",
    "\n",
    "# import plotly.express as px\n",
    "\n",
    "# fig = px.scatter(f, x=\"mentions\", y=\"critic_average\", color=\"mentions\",\n",
    "#                  size='critic_average', hover_data=['mentions'])\n",
    "# fig.show()\n",
    "\n",
    "fig = px.scatter(f, x=\"mentions\", y=\"audience_average\", color=\"mentions\",\n",
    "                  size='critic_average', hover_data=['mentions'])\n",
    "fig.show()\n",
    "\n"
   ]
  },
  {
   "cell_type": "code",
   "execution_count": 65,
   "metadata": {},
   "outputs": [
    {
     "data": {
      "text/plain": [
       "[<matplotlib.lines.Line2D at 0x1a392142e8>]"
      ]
     },
     "execution_count": 65,
     "metadata": {},
     "output_type": "execute_result"
    },
    {
     "data": {
      "image/png": "[encoded data removed]",
      "text/plain": [
       "<Figure size 1800x360 with 1 Axes>"
      ]
     },
     "metadata": {},
     "output_type": "display_data"
    }
   ],
   "source": [
    "#directors with most profit. \n",
    "\n",
    "\n",
    "nk = K[K['made_profit']>=4]\n",
    "\n",
    "labels = np.array(list(nk.director))\n",
    "\n",
    "numbers = np.array(list(nk.made_profit))\n",
    "\n",
    "\n",
    "\n",
    "plt.figure(figsize=(25, 5))\n",
    "plt.grid(True, color= 'purple')\n",
    "plt.ylabel('Profitability',fontsize=20)\n",
    "\n",
    "plt.xlabel('Director IDs',fontsize=20)\n",
    "plt.plot(labels,numbers, color = 'salmon', linewidth = 5.0 ) \n",
    "\n",
    "\n",
    "\n",
    "\n",
    "\n"
   ]
  },
  {
   "cell_type": "code",
   "execution_count": 66,
   "metadata": {},
   "outputs": [
    {
     "data": {
      "application/vnd.plotly.v1+json": {
       "config": {
        "plotlyServerURL": "https://plot.ly"
       },
       "data": [
        {
         "marker": {
          "color": [
           "#C9DA0F",
           "#51402B",
           "#869053",
           "#8D660B",
           "#CF0C92",
           "#AC44B9",
           "#C78442",
           "#E66CBF",
           "#D34916",
           "#184AB0",
           "#B6D537",
           "#71B830",
           "#7A07CA",
           "#B181CC",
           "#10671F",
           "#1C04E5",
           "#E82C54",
           "#DC2873",
           "#A40DAA",
           "#61566E",
           "#836207",
           "#616A37",
           "#691CFA",
           "#45D961",
           "#921FBB",
           "#5621F0",
           "#E4F4B2",
           "#5C8F0D",
           "#BDF7CE"
          ],
          "opacity": [
           1,
           0.8,
           0.6,
           0.4
          ],
          "size": [
           71.42857142857143,
           60.43956043956044,
           54.94505494505494,
           54.94505494505494,
           49.450549450549445,
           49.450549450549445,
           43.956043956043956,
           43.956043956043956,
           38.46153846153847,
           38.46153846153847,
           38.46153846153847,
           38.46153846153847
          ]
         },
         "mode": "markers",
         "type": "scatter",
         "x": [
          "Steven Speilberg",
          "Robert Zemeckis",
          "Quintan Tarantino",
          "Woody Allen",
          "Christopher Nolan",
          "Tim Burton",
          "Peter Jackson",
          "Robert Rodriguez",
          "Wolfgang Peterson",
          "Clint Eastwood",
          "Ridley Scott",
          "Oliver Stone",
          "Martin Scoresese",
          "Harold Ramis"
         ],
         "y": [
          13,
          11,
          10,
          10,
          9,
          9,
          8,
          8,
          7,
          7,
          7,
          7
         ]
        }
       ],
       "layout": {
        "template": {
         "data": {
          "bar": [
           {
            "error_x": {
             "color": "#2a3f5f"
            },
            "error_y": {
             "color": "#2a3f5f"
            },
            "marker": {
             "line": {
              "color": "#E5ECF6",
              "width": 0.5
             }
            },
            "type": "bar"
           }
          ],
          "barpolar": [
           {
            "marker": {
             "line": {
              "color": "#E5ECF6",
              "width": 0.5
             }
            },
            "type": "barpolar"
           }
          ],
          "carpet": [
           {
            "aaxis": {
             "endlinecolor": "#2a3f5f",
             "gridcolor": "white",
             "linecolor": "white",
             "minorgridcolor": "white",
             "startlinecolor": "#2a3f5f"
            },
            "baxis": {
             "endlinecolor": "#2a3f5f",
             "gridcolor": "white",
             "linecolor": "white",
             "minorgridcolor": "white",
             "startlinecolor": "#2a3f5f"
            },
            "type": "carpet"
           }
          ],
          "choropleth": [
           {
            "colorbar": {
             "outlinewidth": 0,
             "ticks": ""
            },
            "type": "choropleth"
           }
          ],
          "contour": [
           {
            "colorbar": {
             "outlinewidth": 0,
             "ticks": ""
            },
            "colorscale": [
             [
              0,
              "#0d0887"
             ],
             [
              0.1111111111111111,
              "#46039f"
             ],
             [
              0.2222222222222222,
              "#7201a8"
             ],
             [
              0.3333333333333333,
              "#9c179e"
             ],
             [
              0.4444444444444444,
              "#bd3786"
             ],
             [
              0.5555555555555556,
              "#d8576b"
             ],
             [
              0.6666666666666666,
              "#ed7953"
             ],
             [
              0.7777777777777778,
              "#fb9f3a"
             ],
             [
              0.8888888888888888,
              "#fdca26"
             ],
             [
              1,
              "#f0f921"
             ]
            ],
            "type": "contour"
           }
          ],
          "contourcarpet": [
           {
            "colorbar": {
             "outlinewidth": 0,
             "ticks": ""
            },
            "type": "contourcarpet"
           }
          ],
          "heatmap": [
           {
            "colorbar": {
             "outlinewidth": 0,
             "ticks": ""
            },
            "colorscale": [
             [
              0,
              "#0d0887"
             ],
             [
              0.1111111111111111,
              "#46039f"
             ],
             [
              0.2222222222222222,
              "#7201a8"
             ],
             [
              0.3333333333333333,
              "#9c179e"
             ],
             [
              0.4444444444444444,
              "#bd3786"
             ],
             [
              0.5555555555555556,
              "#d8576b"
             ],
             [
              0.6666666666666666,
              "#ed7953"
             ],
             [
              0.7777777777777778,
              "#fb9f3a"
             ],
             [
              0.8888888888888888,
              "#fdca26"
             ],
             [
              1,
              "#f0f921"
             ]
            ],
            "type": "heatmap"
           }
          ],
          "heatmapgl": [
           {
            "colorbar": {
             "outlinewidth": 0,
             "ticks": ""
            },
            "colorscale": [
             [
              0,
              "#0d0887"
             ],
             [
              0.1111111111111111,
              "#46039f"
             ],
             [
              0.2222222222222222,
              "#7201a8"
             ],
             [
              0.3333333333333333,
              "#9c179e"
             ],
             [
              0.4444444444444444,
              "#bd3786"
             ],
             [
              0.5555555555555556,
              "#d8576b"
             ],
             [
              0.6666666666666666,
              "#ed7953"
             ],
             [
              0.7777777777777778,
              "#fb9f3a"
             ],
             [
              0.8888888888888888,
              "#fdca26"
             ],
             [
              1,
              "#f0f921"
             ]
            ],
            "type": "heatmapgl"
           }
          ],
          "histogram": [
           {
            "marker": {
             "colorbar": {
              "outlinewidth": 0,
              "ticks": ""
             }
            },
            "type": "histogram"
           }
          ],
          "histogram2d": [
           {
            "colorbar": {
             "outlinewidth": 0,
             "ticks": ""
            },
            "colorscale": [
             [
              0,
              "#0d0887"
             ],
             [
              0.1111111111111111,
              "#46039f"
             ],
             [
              0.2222222222222222,
              "#7201a8"
             ],
             [
              0.3333333333333333,
              "#9c179e"
             ],
             [
              0.4444444444444444,
              "#bd3786"
             ],
             [
              0.5555555555555556,
              "#d8576b"
             ],
             [
              0.6666666666666666,
              "#ed7953"
             ],
             [
              0.7777777777777778,
              "#fb9f3a"
             ],
             [
              0.8888888888888888,
              "#fdca26"
             ],
             [
              1,
              "#f0f921"
             ]
            ],
            "type": "histogram2d"
           }
          ],
          "histogram2dcontour": [
           {
            "colorbar": {
             "outlinewidth": 0,
             "ticks": ""
            },
            "colorscale": [
             [
              0,
              "#0d0887"
             ],
             [
              0.1111111111111111,
              "#46039f"
             ],
             [
              0.2222222222222222,
              "#7201a8"
             ],
             [
              0.3333333333333333,
              "#9c179e"
             ],
             [
              0.4444444444444444,
              "#bd3786"
             ],
             [
              0.5555555555555556,
              "#d8576b"
             ],
             [
              0.6666666666666666,
              "#ed7953"
             ],
             [
              0.7777777777777778,
              "#fb9f3a"
             ],
             [
              0.8888888888888888,
              "#fdca26"
             ],
             [
              1,
              "#f0f921"
             ]
            ],
            "type": "histogram2dcontour"
           }
          ],
          "mesh3d": [
           {
            "colorbar": {
             "outlinewidth": 0,
             "ticks": ""
            },
            "type": "mesh3d"
           }
          ],
          "parcoords": [
           {
            "line": {
             "colorbar": {
              "outlinewidth": 0,
              "ticks": ""
             }
            },
            "type": "parcoords"
           }
          ],
          "scatter": [
           {
            "marker": {
             "colorbar": {
              "outlinewidth": 0,
              "ticks": ""
             }
            },
            "type": "scatter"
           }
          ],
          "scatter3d": [
           {
            "line": {
             "colorbar": {
              "outlinewidth": 0,
              "ticks": ""
             }
            },
            "marker": {
             "colorbar": {
              "outlinewidth": 0,
              "ticks": ""
             }
            },
            "type": "scatter3d"
           }
          ],
          "scattercarpet": [
           {
            "marker": {
             "colorbar": {
              "outlinewidth": 0,
              "ticks": ""
             }
            },
            "type": "scattercarpet"
           }
          ],
          "scattergeo": [
           {
            "marker": {
             "colorbar": {
              "outlinewidth": 0,
              "ticks": ""
             }
            },
            "type": "scattergeo"
           }
          ],
          "scattergl": [
           {
            "marker": {
             "colorbar": {
              "outlinewidth": 0,
              "ticks": ""
             }
            },
            "type": "scattergl"
           }
          ],
          "scattermapbox": [
           {
            "marker": {
             "colorbar": {
              "outlinewidth": 0,
              "ticks": ""
             }
            },
            "type": "scattermapbox"
           }
          ],
          "scatterpolar": [
           {
            "marker": {
             "colorbar": {
              "outlinewidth": 0,
              "ticks": ""
             }
            },
            "type": "scatterpolar"
           }
          ],
          "scatterpolargl": [
           {
            "marker": {
             "colorbar": {
              "outlinewidth": 0,
              "ticks": ""
             }
            },
            "type": "scatterpolargl"
           }
          ],
          "scatterternary": [
           {
            "marker": {
             "colorbar": {
              "outlinewidth": 0,
              "ticks": ""
             }
            },
            "type": "scatterternary"
           }
          ],
          "surface": [
           {
            "colorbar": {
             "outlinewidth": 0,
             "ticks": ""
            },
            "colorscale": [
             [
              0,
              "#0d0887"
             ],
             [
              0.1111111111111111,
              "#46039f"
             ],
             [
              0.2222222222222222,
              "#7201a8"
             ],
             [
              0.3333333333333333,
              "#9c179e"
             ],
             [
              0.4444444444444444,
              "#bd3786"
             ],
             [
              0.5555555555555556,
              "#d8576b"
             ],
             [
              0.6666666666666666,
              "#ed7953"
             ],
             [
              0.7777777777777778,
              "#fb9f3a"
             ],
             [
              0.8888888888888888,
              "#fdca26"
             ],
             [
              1,
              "#f0f921"
             ]
            ],
            "type": "surface"
           }
          ],
          "table": [
           {
            "cells": {
             "fill": {
              "color": "#EBF0F8"
             },
             "line": {
              "color": "white"
             }
            },
            "header": {
             "fill": {
              "color": "#C8D4E3"
             },
             "line": {
              "color": "white"
             }
            },
            "type": "table"
           }
          ]
         },
         "layout": {
          "annotationdefaults": {
           "arrowcolor": "#2a3f5f",
           "arrowhead": 0,
           "arrowwidth": 1
          },
          "colorscale": {
           "diverging": [
            [
             0,
             "#8e0152"
            ],
            [
             0.1,
             "#c51b7d"
            ],
            [
             0.2,
             "#de77ae"
            ],
            [
             0.3,
             "#f1b6da"
            ],
            [
             0.4,
             "#fde0ef"
            ],
            [
             0.5,
             "#f7f7f7"
            ],
            [
             0.6,
             "#e6f5d0"
            ],
            [
             0.7,
             "#b8e186"
            ],
            [
             0.8,
             "#7fbc41"
            ],
            [
             0.9,
             "#4d9221"
            ],
            [
             1,
             "#276419"
            ]
           ],
           "sequential": [
            [
             0,
             "#0d0887"
            ],
            [
             0.1111111111111111,
             "#46039f"
            ],
            [
             0.2222222222222222,
             "#7201a8"
            ],
            [
             0.3333333333333333,
             "#9c179e"
            ],
            [
             0.4444444444444444,
             "#bd3786"
            ],
            [
             0.5555555555555556,
             "#d8576b"
            ],
            [
             0.6666666666666666,
             "#ed7953"
            ],
            [
             0.7777777777777778,
             "#fb9f3a"
            ],
            [
             0.8888888888888888,
             "#fdca26"
            ],
            [
             1,
             "#f0f921"
            ]
           ],
           "sequentialminus": [
            [
             0,
             "#0d0887"
            ],
            [
             0.1111111111111111,
             "#46039f"
            ],
            [
             0.2222222222222222,
             "#7201a8"
            ],
            [
             0.3333333333333333,
             "#9c179e"
            ],
            [
             0.4444444444444444,
             "#bd3786"
            ],
            [
             0.5555555555555556,
             "#d8576b"
            ],
            [
             0.6666666666666666,
             "#ed7953"
            ],
            [
             0.7777777777777778,
             "#fb9f3a"
            ],
            [
             0.8888888888888888,
             "#fdca26"
            ],
            [
             1,
             "#f0f921"
            ]
           ]
          },
          "colorway": [
           "#636efa",
           "#EF553B",
           "#00cc96",
           "#ab63fa",
           "#FFA15A",
           "#19d3f3",
           "#FF6692",
           "#B6E880",
           "#FF97FF",
           "#FECB52"
          ],
          "font": {
           "color": "#2a3f5f"
          },
          "geo": {
           "bgcolor": "white",
           "lakecolor": "white",
           "landcolor": "#E5ECF6",
           "showlakes": true,
           "showland": true,
           "subunitcolor": "white"
          },
          "hoverlabel": {
           "align": "left"
          },
          "hovermode": "closest",
          "mapbox": {
           "style": "light"
          },
          "paper_bgcolor": "white",
          "plot_bgcolor": "#E5ECF6",
          "polar": {
           "angularaxis": {
            "gridcolor": "white",
            "linecolor": "white",
            "ticks": ""
           },
           "bgcolor": "#E5ECF6",
           "radialaxis": {
            "gridcolor": "white",
            "linecolor": "white",
            "ticks": ""
           }
          },
          "scene": {
           "xaxis": {
            "backgroundcolor": "#E5ECF6",
            "gridcolor": "white",
            "gridwidth": 2,
            "linecolor": "white",
            "showbackground": true,
            "ticks": "",
            "zerolinecolor": "white"
           },
           "yaxis": {
            "backgroundcolor": "#E5ECF6",
            "gridcolor": "white",
            "gridwidth": 2,
            "linecolor": "white",
            "showbackground": true,
            "ticks": "",
            "zerolinecolor": "white"
           },
           "zaxis": {
            "backgroundcolor": "#E5ECF6",
            "gridcolor": "white",
            "gridwidth": 2,
            "linecolor": "white",
            "showbackground": true,
            "ticks": "",
            "zerolinecolor": "white"
           }
          },
          "shapedefaults": {
           "line": {
            "color": "#2a3f5f"
           }
          },
          "ternary": {
           "aaxis": {
            "gridcolor": "white",
            "linecolor": "white",
            "ticks": ""
           },
           "baxis": {
            "gridcolor": "white",
            "linecolor": "white",
            "ticks": ""
           },
           "bgcolor": "#E5ECF6",
           "caxis": {
            "gridcolor": "white",
            "linecolor": "white",
            "ticks": ""
           }
          },
          "title": {
           "x": 0.05
          },
          "xaxis": {
           "automargin": true,
           "gridcolor": "white",
           "linecolor": "white",
           "ticks": "",
           "zerolinecolor": "white",
           "zerolinewidth": 2
          },
          "yaxis": {
           "automargin": true,
           "gridcolor": "white",
           "linecolor": "white",
           "ticks": "",
           "zerolinecolor": "white",
           "zerolinewidth": 2
          }
         }
        }
       }
      },
      "text/html": [
       "<div>\n",
       "        \n",
       "        \n",
       "            <div id=\"dfed2d6b-3d85-4d55-bbbb-1dca5d8db4cc\" class=\"plotly-graph-div\" style=\"height:525px; width:100%;\"></div>\n",
       "            <script type=\"text/javascript\">\n",
       "                require([\"plotly\"], function(Plotly) {\n",
       "                    window.PLOTLYENV=window.PLOTLYENV || {};\n",
       "                    \n",
       "                if (document.getElementById(\"dfed2d6b-3d85-4d55-bbbb-1dca5d8db4cc\")) {\n",
       "                    Plotly.newPlot(\n",
       "                        'dfed2d6b-3d85-4d55-bbbb-1dca5d8db4cc',\n",
       "                        [{\"marker\": {\"color\": [\"#C9DA0F\", \"#51402B\", \"#869053\", \"#8D660B\", \"#CF0C92\", \"#AC44B9\", \"#C78442\", \"#E66CBF\", \"#D34916\", \"#184AB0\", \"#B6D537\", \"#71B830\", \"#7A07CA\", \"#B181CC\", \"#10671F\", \"#1C04E5\", \"#E82C54\", \"#DC2873\", \"#A40DAA\", \"#61566E\", \"#836207\", \"#616A37\", \"#691CFA\", \"#45D961\", \"#921FBB\", \"#5621F0\", \"#E4F4B2\", \"#5C8F0D\", \"#BDF7CE\"], \"opacity\": [1, 0.8, 0.6, 0.4], \"size\": [71.42857142857143, 60.43956043956044, 54.94505494505494, 54.94505494505494, 49.450549450549445, 49.450549450549445, 43.956043956043956, 43.956043956043956, 38.46153846153847, 38.46153846153847, 38.46153846153847, 38.46153846153847]}, \"mode\": \"markers\", \"type\": \"scatter\", \"x\": [\"Steven Speilberg\", \"Robert Zemeckis\", \"Quintan Tarantino\", \"Woody Allen\", \"Christopher Nolan\", \"Tim Burton\", \"Peter Jackson\", \"Robert Rodriguez\", \"Wolfgang Peterson\", \"Clint Eastwood\", \"Ridley Scott\", \"Oliver Stone\", \"Martin Scoresese\", \"Harold Ramis\"], \"y\": [13.0, 11.0, 10.0, 10.0, 9.0, 9.0, 8.0, 8.0, 7.0, 7.0, 7.0, 7.0]}],\n",
       "                        {\"template\": {\"data\": {\"bar\": [{\"error_x\": {\"color\": \"#2a3f5f\"}, \"error_y\": {\"color\": \"#2a3f5f\"}, \"marker\": {\"line\": {\"color\": \"#E5ECF6\", \"width\": 0.5}}, \"type\": \"bar\"}], \"barpolar\": [{\"marker\": {\"line\": {\"color\": \"#E5ECF6\", \"width\": 0.5}}, \"type\": \"barpolar\"}], \"carpet\": [{\"aaxis\": {\"endlinecolor\": \"#2a3f5f\", \"gridcolor\": \"white\", \"linecolor\": \"white\", \"minorgridcolor\": \"white\", \"startlinecolor\": \"#2a3f5f\"}, \"baxis\": {\"endlinecolor\": \"#2a3f5f\", \"gridcolor\": \"white\", \"linecolor\": \"white\", \"minorgridcolor\": \"white\", \"startlinecolor\": \"#2a3f5f\"}, \"type\": \"carpet\"}], \"choropleth\": [{\"colorbar\": {\"outlinewidth\": 0, \"ticks\": \"\"}, \"type\": \"choropleth\"}], \"contour\": [{\"colorbar\": {\"outlinewidth\": 0, \"ticks\": \"\"}, \"colorscale\": [[0.0, \"#0d0887\"], [0.1111111111111111, \"#46039f\"], [0.2222222222222222, \"#7201a8\"], [0.3333333333333333, \"#9c179e\"], [0.4444444444444444, \"#bd3786\"], [0.5555555555555556, \"#d8576b\"], [0.6666666666666666, \"#ed7953\"], [0.7777777777777778, \"#fb9f3a\"], [0.8888888888888888, \"#fdca26\"], [1.0, \"#f0f921\"]], \"type\": \"contour\"}], \"contourcarpet\": [{\"colorbar\": {\"outlinewidth\": 0, \"ticks\": \"\"}, \"type\": \"contourcarpet\"}], \"heatmap\": [{\"colorbar\": {\"outlinewidth\": 0, \"ticks\": \"\"}, \"colorscale\": [[0.0, \"#0d0887\"], [0.1111111111111111, \"#46039f\"], [0.2222222222222222, \"#7201a8\"], [0.3333333333333333, \"#9c179e\"], [0.4444444444444444, \"#bd3786\"], [0.5555555555555556, \"#d8576b\"], [0.6666666666666666, \"#ed7953\"], [0.7777777777777778, \"#fb9f3a\"], [0.8888888888888888, \"#fdca26\"], [1.0, \"#f0f921\"]], \"type\": \"heatmap\"}], \"heatmapgl\": [{\"colorbar\": {\"outlinewidth\": 0, \"ticks\": \"\"}, \"colorscale\": [[0.0, \"#0d0887\"], [0.1111111111111111, \"#46039f\"], [0.2222222222222222, \"#7201a8\"], [0.3333333333333333, \"#9c179e\"], [0.4444444444444444, \"#bd3786\"], [0.5555555555555556, \"#d8576b\"], [0.6666666666666666, \"#ed7953\"], [0.7777777777777778, \"#fb9f3a\"], [0.8888888888888888, \"#fdca26\"], [1.0, \"#f0f921\"]], \"type\": \"heatmapgl\"}], \"histogram\": [{\"marker\": {\"colorbar\": {\"outlinewidth\": 0, \"ticks\": \"\"}}, \"type\": \"histogram\"}], \"histogram2d\": [{\"colorbar\": {\"outlinewidth\": 0, \"ticks\": \"\"}, \"colorscale\": [[0.0, \"#0d0887\"], [0.1111111111111111, \"#46039f\"], [0.2222222222222222, \"#7201a8\"], [0.3333333333333333, \"#9c179e\"], [0.4444444444444444, \"#bd3786\"], [0.5555555555555556, \"#d8576b\"], [0.6666666666666666, \"#ed7953\"], [0.7777777777777778, \"#fb9f3a\"], [0.8888888888888888, \"#fdca26\"], [1.0, \"#f0f921\"]], \"type\": \"histogram2d\"}], \"histogram2dcontour\": [{\"colorbar\": {\"outlinewidth\": 0, \"ticks\": \"\"}, \"colorscale\": [[0.0, \"#0d0887\"], [0.1111111111111111, \"#46039f\"], [0.2222222222222222, \"#7201a8\"], [0.3333333333333333, \"#9c179e\"], [0.4444444444444444, \"#bd3786\"], [0.5555555555555556, \"#d8576b\"], [0.6666666666666666, \"#ed7953\"], [0.7777777777777778, \"#fb9f3a\"], [0.8888888888888888, \"#fdca26\"], [1.0, \"#f0f921\"]], \"type\": \"histogram2dcontour\"}], \"mesh3d\": [{\"colorbar\": {\"outlinewidth\": 0, \"ticks\": \"\"}, \"type\": \"mesh3d\"}], \"parcoords\": [{\"line\": {\"colorbar\": {\"outlinewidth\": 0, \"ticks\": \"\"}}, \"type\": \"parcoords\"}], \"scatter\": [{\"marker\": {\"colorbar\": {\"outlinewidth\": 0, \"ticks\": \"\"}}, \"type\": \"scatter\"}], \"scatter3d\": [{\"line\": {\"colorbar\": {\"outlinewidth\": 0, \"ticks\": \"\"}}, \"marker\": {\"colorbar\": {\"outlinewidth\": 0, \"ticks\": \"\"}}, \"type\": \"scatter3d\"}], \"scattercarpet\": [{\"marker\": {\"colorbar\": {\"outlinewidth\": 0, \"ticks\": \"\"}}, \"type\": \"scattercarpet\"}], \"scattergeo\": [{\"marker\": {\"colorbar\": {\"outlinewidth\": 0, \"ticks\": \"\"}}, \"type\": \"scattergeo\"}], \"scattergl\": [{\"marker\": {\"colorbar\": {\"outlinewidth\": 0, \"ticks\": \"\"}}, \"type\": \"scattergl\"}], \"scattermapbox\": [{\"marker\": {\"colorbar\": {\"outlinewidth\": 0, \"ticks\": \"\"}}, \"type\": \"scattermapbox\"}], \"scatterpolar\": [{\"marker\": {\"colorbar\": {\"outlinewidth\": 0, \"ticks\": \"\"}}, \"type\": \"scatterpolar\"}], \"scatterpolargl\": [{\"marker\": {\"colorbar\": {\"outlinewidth\": 0, \"ticks\": \"\"}}, \"type\": \"scatterpolargl\"}], \"scatterternary\": [{\"marker\": {\"colorbar\": {\"outlinewidth\": 0, \"ticks\": \"\"}}, \"type\": \"scatterternary\"}], \"surface\": [{\"colorbar\": {\"outlinewidth\": 0, \"ticks\": \"\"}, \"colorscale\": [[0.0, \"#0d0887\"], [0.1111111111111111, \"#46039f\"], [0.2222222222222222, \"#7201a8\"], [0.3333333333333333, \"#9c179e\"], [0.4444444444444444, \"#bd3786\"], [0.5555555555555556, \"#d8576b\"], [0.6666666666666666, \"#ed7953\"], [0.7777777777777778, \"#fb9f3a\"], [0.8888888888888888, \"#fdca26\"], [1.0, \"#f0f921\"]], \"type\": \"surface\"}], \"table\": [{\"cells\": {\"fill\": {\"color\": \"#EBF0F8\"}, \"line\": {\"color\": \"white\"}}, \"header\": {\"fill\": {\"color\": \"#C8D4E3\"}, \"line\": {\"color\": \"white\"}}, \"type\": \"table\"}]}, \"layout\": {\"annotationdefaults\": {\"arrowcolor\": \"#2a3f5f\", \"arrowhead\": 0, \"arrowwidth\": 1}, \"colorscale\": {\"diverging\": [[0, \"#8e0152\"], [0.1, \"#c51b7d\"], [0.2, \"#de77ae\"], [0.3, \"#f1b6da\"], [0.4, \"#fde0ef\"], [0.5, \"#f7f7f7\"], [0.6, \"#e6f5d0\"], [0.7, \"#b8e186\"], [0.8, \"#7fbc41\"], [0.9, \"#4d9221\"], [1, \"#276419\"]], \"sequential\": [[0.0, \"#0d0887\"], [0.1111111111111111, \"#46039f\"], [0.2222222222222222, \"#7201a8\"], [0.3333333333333333, \"#9c179e\"], [0.4444444444444444, \"#bd3786\"], [0.5555555555555556, \"#d8576b\"], [0.6666666666666666, \"#ed7953\"], [0.7777777777777778, \"#fb9f3a\"], [0.8888888888888888, \"#fdca26\"], [1.0, \"#f0f921\"]], \"sequentialminus\": [[0.0, \"#0d0887\"], [0.1111111111111111, \"#46039f\"], [0.2222222222222222, \"#7201a8\"], [0.3333333333333333, \"#9c179e\"], [0.4444444444444444, \"#bd3786\"], [0.5555555555555556, \"#d8576b\"], [0.6666666666666666, \"#ed7953\"], [0.7777777777777778, \"#fb9f3a\"], [0.8888888888888888, \"#fdca26\"], [1.0, \"#f0f921\"]]}, \"colorway\": [\"#636efa\", \"#EF553B\", \"#00cc96\", \"#ab63fa\", \"#FFA15A\", \"#19d3f3\", \"#FF6692\", \"#B6E880\", \"#FF97FF\", \"#FECB52\"], \"font\": {\"color\": \"#2a3f5f\"}, \"geo\": {\"bgcolor\": \"white\", \"lakecolor\": \"white\", \"landcolor\": \"#E5ECF6\", \"showlakes\": true, \"showland\": true, \"subunitcolor\": \"white\"}, \"hoverlabel\": {\"align\": \"left\"}, \"hovermode\": \"closest\", \"mapbox\": {\"style\": \"light\"}, \"paper_bgcolor\": \"white\", \"plot_bgcolor\": \"#E5ECF6\", \"polar\": {\"angularaxis\": {\"gridcolor\": \"white\", \"linecolor\": \"white\", \"ticks\": \"\"}, \"bgcolor\": \"#E5ECF6\", \"radialaxis\": {\"gridcolor\": \"white\", \"linecolor\": \"white\", \"ticks\": \"\"}}, \"scene\": {\"xaxis\": {\"backgroundcolor\": \"#E5ECF6\", \"gridcolor\": \"white\", \"gridwidth\": 2, \"linecolor\": \"white\", \"showbackground\": true, \"ticks\": \"\", \"zerolinecolor\": \"white\"}, \"yaxis\": {\"backgroundcolor\": \"#E5ECF6\", \"gridcolor\": \"white\", \"gridwidth\": 2, \"linecolor\": \"white\", \"showbackground\": true, \"ticks\": \"\", \"zerolinecolor\": \"white\"}, \"zaxis\": {\"backgroundcolor\": \"#E5ECF6\", \"gridcolor\": \"white\", \"gridwidth\": 2, \"linecolor\": \"white\", \"showbackground\": true, \"ticks\": \"\", \"zerolinecolor\": \"white\"}}, \"shapedefaults\": {\"line\": {\"color\": \"#2a3f5f\"}}, \"ternary\": {\"aaxis\": {\"gridcolor\": \"white\", \"linecolor\": \"white\", \"ticks\": \"\"}, \"baxis\": {\"gridcolor\": \"white\", \"linecolor\": \"white\", \"ticks\": \"\"}, \"bgcolor\": \"#E5ECF6\", \"caxis\": {\"gridcolor\": \"white\", \"linecolor\": \"white\", \"ticks\": \"\"}}, \"title\": {\"x\": 0.05}, \"xaxis\": {\"automargin\": true, \"gridcolor\": \"white\", \"linecolor\": \"white\", \"ticks\": \"\", \"zerolinecolor\": \"white\", \"zerolinewidth\": 2}, \"yaxis\": {\"automargin\": true, \"gridcolor\": \"white\", \"linecolor\": \"white\", \"ticks\": \"\", \"zerolinecolor\": \"white\", \"zerolinewidth\": 2}}}},\n",
       "                        {\"responsive\": true}\n",
       "                    ).then(function(){\n",
       "                            \n",
       "var gd = document.getElementById('dfed2d6b-3d85-4d55-bbbb-1dca5d8db4cc');\n",
       "var x = new MutationObserver(function (mutations, observer) {{\n",
       "        var display = window.getComputedStyle(gd).display;\n",
       "        if (!display || display === 'none') {{\n",
       "            console.log([gd, 'removed!']);\n",
       "            Plotly.purge(gd);\n",
       "            observer.disconnect();\n",
       "        }}\n",
       "}});\n",
       "\n",
       "// Listen for the removal of the full notebook cells\n",
       "var notebookContainer = gd.closest('#notebook-container');\n",
       "if (notebookContainer) {{\n",
       "    x.observe(notebookContainer, {childList: true});\n",
       "}}\n",
       "\n",
       "// Listen for the clearing of the current output cell\n",
       "var outputEl = gd.closest('.output');\n",
       "if (outputEl) {{\n",
       "    x.observe(outputEl, {childList: true});\n",
       "}}\n",
       "\n",
       "                        })\n",
       "                };\n",
       "                });\n",
       "            </script>\n",
       "        </div>"
      ]
     },
     "metadata": {},
     "output_type": "display_data"
    }
   ],
   "source": [
    "#https://plot.ly/python/bubble-charts/\n",
    "\n",
    "#https://stackoverflow.com/questions/28999287/generate-random-colors-rgb\n",
    "\n",
    "labels2 = ['Steven Speilberg' , \n",
    "           'Robert Zemeckis' , \n",
    "           'Quintan Tarantino', \n",
    "           'Woody Allen',\n",
    "           'Christopher Nolan' , \n",
    "           'Tim Burton',\n",
    "           'Peter Jackson' ,\n",
    "           'Robert Rodriguez',\n",
    "           'Wolfgang Peterson',\n",
    "           'Clint Eastwood', \n",
    "           'Ridley Scott',\n",
    "           'Oliver Stone' ,\n",
    "           'Martin Scoresese',\n",
    "           'Harold Ramis']  \n",
    "size = numbers[:12]/numbers.sum()\n",
    "size1 = size*1000\n",
    "import plotly.graph_objects as go\n",
    "\n",
    "import random\n",
    "\n",
    "number_of_colors = 29\n",
    "\n",
    "color = [\"#\"+''.join([random.choice('0123456789ABCDEF') for j in range(6)])\n",
    "             for i in range(number_of_colors)]\n",
    "\n",
    "\n",
    "fig = go.Figure(data=[go.Scatter(\n",
    "    x=labels2, y=numbers[:12],\n",
    "    mode='markers',\n",
    "    marker=dict(\n",
    "       color = [\"#\"+''.join([random.choice('0123456789ABCDEF') for j in range(6)])\n",
    "             for i in range(number_of_colors)],\n",
    "        opacity=[1, 0.8, 0.6, 0.4],\n",
    "        size=size1,\n",
    "    )\n",
    ")])\n",
    "\n",
    "fig.show()"
   ]
  },
  {
   "cell_type": "code",
   "execution_count": null,
   "metadata": {},
   "outputs": [],
   "source": [
    "   \n",
    "\n",
    "\n",
    "\n",
    "\n",
    "\n"
   ]
  },
  {
   "cell_type": "code",
   "execution_count": null,
   "metadata": {},
   "outputs": [],
   "source": []
  }
 ],
 "metadata": {
  "kernelspec": {
   "display_name": "Python 3",
   "language": "python",
   "name": "python3"
  },
  "language_info": {
   "codemirror_mode": {
    "name": "ipython",
    "version": 3
   },
   "file_extension": ".py",
   "mimetype": "text/x-python",
   "name": "python",
   "nbconvert_exporter": "python",
   "pygments_lexer": "ipython3",
   "version": "3.6.5"
  }
 },
 "nbformat": 4,
 "nbformat_minor": 2
}
